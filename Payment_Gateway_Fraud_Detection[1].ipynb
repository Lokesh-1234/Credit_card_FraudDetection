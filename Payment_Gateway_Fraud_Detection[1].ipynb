{
  "nbformat": 4,
  "nbformat_minor": 0,
  "metadata": {
    "colab": {
      "provenance": []
    },
    "kernelspec": {
      "name": "python3",
      "display_name": "Python 3"
    },
    "language_info": {
      "name": "python"
    }
  },
  "cells": [
    {
      "cell_type": "code",
      "execution_count": 179,
      "metadata": {
        "id": "g2l0uiXCvBU8"
      },
      "outputs": [],
      "source": [
        "import numpy as np\n",
        "import pandas as pd\n",
        "import matplotlib.pyplot as plt\n",
        "import seaborn as sns"
      ]
    },
    {
      "cell_type": "code",
      "source": [
        "df_train=pd.read_csv('/content/train_data[1].csv')"
      ],
      "metadata": {
        "id": "jscXFPjkvT0R"
      },
      "execution_count": 180,
      "outputs": []
    },
    {
      "cell_type": "code",
      "source": [
        "df_test=pd.read_csv('/content/test_data[1].csv')"
      ],
      "metadata": {
        "id": "Ki3Wc9Svyii_"
      },
      "execution_count": 181,
      "outputs": []
    },
    {
      "cell_type": "code",
      "source": [
        "df_train"
      ],
      "metadata": {
        "colab": {
          "base_uri": "https://localhost:8080/",
          "height": 661
        },
        "id": "Hk3CvahkyrpZ",
        "outputId": "5f7d1f28-f268-494f-a339-04c36fe6baa2"
      },
      "execution_count": 182,
      "outputs": [
        {
          "output_type": "execute_result",
          "data": {
            "text/plain": [
              "       transaction_number   user_id           payment_method  partner_id  \\\n",
              "0            144703125000  17539344   sbi_atm_cum_debit_card       47334   \n",
              "1          77406814453032  24710841        e_wallet_payments       78890   \n",
              "2         308929485482801  24265476        e_wallet_payments       78890   \n",
              "3         665270027747073  10240000        other_debit_cards      102557   \n",
              "4          38276160171101   5880625        other_debit_cards      118335   \n",
              "...                   ...       ...                      ...         ...   \n",
              "76524     179759462245453  19686969   sbi_atm_cum_debit_card       47334   \n",
              "76525    2693567760244353  11662225  visa_master_debit_cards      118335   \n",
              "76526     119750257089000    374544   sbi_atm_cum_debit_card       47334   \n",
              "76527    1949798765017089   1687401   sbi_atm_cum_debit_card       47334   \n",
              "76528    1051344513778987   6754801   sbi_atm_cum_debit_card       47334   \n",
              "\n",
              "      partner_category  country      device_type  money_transacted  \\\n",
              "0                cat_1  IND_INR  android_devices              -5.0   \n",
              "1                cat_2  IND_INR        other_pcs             100.0   \n",
              "2                cat_2  IND_INR        other_pcs              50.0   \n",
              "3                cat_3  IND_INR        other_pcs            1000.0   \n",
              "4                cat_1  IND_INR        other_pcs             200.0   \n",
              "...                ...      ...              ...               ...   \n",
              "76524            cat_1  IND_INR  android_devices            -100.0   \n",
              "76525            cat_1  IND_INR        other_pcs             200.0   \n",
              "76526            cat_1  IND_INR  android_devices              -3.5   \n",
              "76527            cat_1  IND_INR  android_devices             -20.0   \n",
              "76528            cat_1  IND_INR  android_devices            -100.0   \n",
              "\n",
              "          transaction_initiation  partner_pricing_category  is_fraud  \n",
              "0      2016-11-15 19:16:12+00:00                         2         0  \n",
              "1      2017-01-11 09:25:33+00:00                         2         0  \n",
              "2      2016-12-07 07:58:09+00:00                         2         0  \n",
              "3      2017-01-11 16:15:44+00:00                         2         0  \n",
              "4      2016-11-16 17:04:42+00:00                         2         0  \n",
              "...                          ...                       ...       ...  \n",
              "76524  2016-11-30 13:40:45+00:00                         2         0  \n",
              "76525  2017-01-08 08:35:31+00:00                         2         0  \n",
              "76526  2016-12-26 21:47:08+00:00                         2         0  \n",
              "76527  2016-12-11 13:44:06+00:00                         2         0  \n",
              "76528  2017-01-11 19:08:18+00:00                         2         0  \n",
              "\n",
              "[76529 rows x 11 columns]"
            ],
            "text/html": [
              "\n",
              "  <div id=\"df-c48f6e74-9709-4462-90f4-d168ebe883fe\">\n",
              "    <div class=\"colab-df-container\">\n",
              "      <div>\n",
              "<style scoped>\n",
              "    .dataframe tbody tr th:only-of-type {\n",
              "        vertical-align: middle;\n",
              "    }\n",
              "\n",
              "    .dataframe tbody tr th {\n",
              "        vertical-align: top;\n",
              "    }\n",
              "\n",
              "    .dataframe thead th {\n",
              "        text-align: right;\n",
              "    }\n",
              "</style>\n",
              "<table border=\"1\" class=\"dataframe\">\n",
              "  <thead>\n",
              "    <tr style=\"text-align: right;\">\n",
              "      <th></th>\n",
              "      <th>transaction_number</th>\n",
              "      <th>user_id</th>\n",
              "      <th>payment_method</th>\n",
              "      <th>partner_id</th>\n",
              "      <th>partner_category</th>\n",
              "      <th>country</th>\n",
              "      <th>device_type</th>\n",
              "      <th>money_transacted</th>\n",
              "      <th>transaction_initiation</th>\n",
              "      <th>partner_pricing_category</th>\n",
              "      <th>is_fraud</th>\n",
              "    </tr>\n",
              "  </thead>\n",
              "  <tbody>\n",
              "    <tr>\n",
              "      <th>0</th>\n",
              "      <td>144703125000</td>\n",
              "      <td>17539344</td>\n",
              "      <td>sbi_atm_cum_debit_card</td>\n",
              "      <td>47334</td>\n",
              "      <td>cat_1</td>\n",
              "      <td>IND_INR</td>\n",
              "      <td>android_devices</td>\n",
              "      <td>-5.0</td>\n",
              "      <td>2016-11-15 19:16:12+00:00</td>\n",
              "      <td>2</td>\n",
              "      <td>0</td>\n",
              "    </tr>\n",
              "    <tr>\n",
              "      <th>1</th>\n",
              "      <td>77406814453032</td>\n",
              "      <td>24710841</td>\n",
              "      <td>e_wallet_payments</td>\n",
              "      <td>78890</td>\n",
              "      <td>cat_2</td>\n",
              "      <td>IND_INR</td>\n",
              "      <td>other_pcs</td>\n",
              "      <td>100.0</td>\n",
              "      <td>2017-01-11 09:25:33+00:00</td>\n",
              "      <td>2</td>\n",
              "      <td>0</td>\n",
              "    </tr>\n",
              "    <tr>\n",
              "      <th>2</th>\n",
              "      <td>308929485482801</td>\n",
              "      <td>24265476</td>\n",
              "      <td>e_wallet_payments</td>\n",
              "      <td>78890</td>\n",
              "      <td>cat_2</td>\n",
              "      <td>IND_INR</td>\n",
              "      <td>other_pcs</td>\n",
              "      <td>50.0</td>\n",
              "      <td>2016-12-07 07:58:09+00:00</td>\n",
              "      <td>2</td>\n",
              "      <td>0</td>\n",
              "    </tr>\n",
              "    <tr>\n",
              "      <th>3</th>\n",
              "      <td>665270027747073</td>\n",
              "      <td>10240000</td>\n",
              "      <td>other_debit_cards</td>\n",
              "      <td>102557</td>\n",
              "      <td>cat_3</td>\n",
              "      <td>IND_INR</td>\n",
              "      <td>other_pcs</td>\n",
              "      <td>1000.0</td>\n",
              "      <td>2017-01-11 16:15:44+00:00</td>\n",
              "      <td>2</td>\n",
              "      <td>0</td>\n",
              "    </tr>\n",
              "    <tr>\n",
              "      <th>4</th>\n",
              "      <td>38276160171101</td>\n",
              "      <td>5880625</td>\n",
              "      <td>other_debit_cards</td>\n",
              "      <td>118335</td>\n",
              "      <td>cat_1</td>\n",
              "      <td>IND_INR</td>\n",
              "      <td>other_pcs</td>\n",
              "      <td>200.0</td>\n",
              "      <td>2016-11-16 17:04:42+00:00</td>\n",
              "      <td>2</td>\n",
              "      <td>0</td>\n",
              "    </tr>\n",
              "    <tr>\n",
              "      <th>...</th>\n",
              "      <td>...</td>\n",
              "      <td>...</td>\n",
              "      <td>...</td>\n",
              "      <td>...</td>\n",
              "      <td>...</td>\n",
              "      <td>...</td>\n",
              "      <td>...</td>\n",
              "      <td>...</td>\n",
              "      <td>...</td>\n",
              "      <td>...</td>\n",
              "      <td>...</td>\n",
              "    </tr>\n",
              "    <tr>\n",
              "      <th>76524</th>\n",
              "      <td>179759462245453</td>\n",
              "      <td>19686969</td>\n",
              "      <td>sbi_atm_cum_debit_card</td>\n",
              "      <td>47334</td>\n",
              "      <td>cat_1</td>\n",
              "      <td>IND_INR</td>\n",
              "      <td>android_devices</td>\n",
              "      <td>-100.0</td>\n",
              "      <td>2016-11-30 13:40:45+00:00</td>\n",
              "      <td>2</td>\n",
              "      <td>0</td>\n",
              "    </tr>\n",
              "    <tr>\n",
              "      <th>76525</th>\n",
              "      <td>2693567760244353</td>\n",
              "      <td>11662225</td>\n",
              "      <td>visa_master_debit_cards</td>\n",
              "      <td>118335</td>\n",
              "      <td>cat_1</td>\n",
              "      <td>IND_INR</td>\n",
              "      <td>other_pcs</td>\n",
              "      <td>200.0</td>\n",
              "      <td>2017-01-08 08:35:31+00:00</td>\n",
              "      <td>2</td>\n",
              "      <td>0</td>\n",
              "    </tr>\n",
              "    <tr>\n",
              "      <th>76526</th>\n",
              "      <td>119750257089000</td>\n",
              "      <td>374544</td>\n",
              "      <td>sbi_atm_cum_debit_card</td>\n",
              "      <td>47334</td>\n",
              "      <td>cat_1</td>\n",
              "      <td>IND_INR</td>\n",
              "      <td>android_devices</td>\n",
              "      <td>-3.5</td>\n",
              "      <td>2016-12-26 21:47:08+00:00</td>\n",
              "      <td>2</td>\n",
              "      <td>0</td>\n",
              "    </tr>\n",
              "    <tr>\n",
              "      <th>76527</th>\n",
              "      <td>1949798765017089</td>\n",
              "      <td>1687401</td>\n",
              "      <td>sbi_atm_cum_debit_card</td>\n",
              "      <td>47334</td>\n",
              "      <td>cat_1</td>\n",
              "      <td>IND_INR</td>\n",
              "      <td>android_devices</td>\n",
              "      <td>-20.0</td>\n",
              "      <td>2016-12-11 13:44:06+00:00</td>\n",
              "      <td>2</td>\n",
              "      <td>0</td>\n",
              "    </tr>\n",
              "    <tr>\n",
              "      <th>76528</th>\n",
              "      <td>1051344513778987</td>\n",
              "      <td>6754801</td>\n",
              "      <td>sbi_atm_cum_debit_card</td>\n",
              "      <td>47334</td>\n",
              "      <td>cat_1</td>\n",
              "      <td>IND_INR</td>\n",
              "      <td>android_devices</td>\n",
              "      <td>-100.0</td>\n",
              "      <td>2017-01-11 19:08:18+00:00</td>\n",
              "      <td>2</td>\n",
              "      <td>0</td>\n",
              "    </tr>\n",
              "  </tbody>\n",
              "</table>\n",
              "<p>76529 rows × 11 columns</p>\n",
              "</div>\n",
              "      <button class=\"colab-df-convert\" onclick=\"convertToInteractive('df-c48f6e74-9709-4462-90f4-d168ebe883fe')\"\n",
              "              title=\"Convert this dataframe to an interactive table.\"\n",
              "              style=\"display:none;\">\n",
              "        \n",
              "  <svg xmlns=\"http://www.w3.org/2000/svg\" height=\"24px\"viewBox=\"0 0 24 24\"\n",
              "       width=\"24px\">\n",
              "    <path d=\"M0 0h24v24H0V0z\" fill=\"none\"/>\n",
              "    <path d=\"M18.56 5.44l.94 2.06.94-2.06 2.06-.94-2.06-.94-.94-2.06-.94 2.06-2.06.94zm-11 1L8.5 8.5l.94-2.06 2.06-.94-2.06-.94L8.5 2.5l-.94 2.06-2.06.94zm10 10l.94 2.06.94-2.06 2.06-.94-2.06-.94-.94-2.06-.94 2.06-2.06.94z\"/><path d=\"M17.41 7.96l-1.37-1.37c-.4-.4-.92-.59-1.43-.59-.52 0-1.04.2-1.43.59L10.3 9.45l-7.72 7.72c-.78.78-.78 2.05 0 2.83L4 21.41c.39.39.9.59 1.41.59.51 0 1.02-.2 1.41-.59l7.78-7.78 2.81-2.81c.8-.78.8-2.07 0-2.86zM5.41 20L4 18.59l7.72-7.72 1.47 1.35L5.41 20z\"/>\n",
              "  </svg>\n",
              "      </button>\n",
              "      \n",
              "  <style>\n",
              "    .colab-df-container {\n",
              "      display:flex;\n",
              "      flex-wrap:wrap;\n",
              "      gap: 12px;\n",
              "    }\n",
              "\n",
              "    .colab-df-convert {\n",
              "      background-color: #E8F0FE;\n",
              "      border: none;\n",
              "      border-radius: 50%;\n",
              "      cursor: pointer;\n",
              "      display: none;\n",
              "      fill: #1967D2;\n",
              "      height: 32px;\n",
              "      padding: 0 0 0 0;\n",
              "      width: 32px;\n",
              "    }\n",
              "\n",
              "    .colab-df-convert:hover {\n",
              "      background-color: #E2EBFA;\n",
              "      box-shadow: 0px 1px 2px rgba(60, 64, 67, 0.3), 0px 1px 3px 1px rgba(60, 64, 67, 0.15);\n",
              "      fill: #174EA6;\n",
              "    }\n",
              "\n",
              "    [theme=dark] .colab-df-convert {\n",
              "      background-color: #3B4455;\n",
              "      fill: #D2E3FC;\n",
              "    }\n",
              "\n",
              "    [theme=dark] .colab-df-convert:hover {\n",
              "      background-color: #434B5C;\n",
              "      box-shadow: 0px 1px 3px 1px rgba(0, 0, 0, 0.15);\n",
              "      filter: drop-shadow(0px 1px 2px rgba(0, 0, 0, 0.3));\n",
              "      fill: #FFFFFF;\n",
              "    }\n",
              "  </style>\n",
              "\n",
              "      <script>\n",
              "        const buttonEl =\n",
              "          document.querySelector('#df-c48f6e74-9709-4462-90f4-d168ebe883fe button.colab-df-convert');\n",
              "        buttonEl.style.display =\n",
              "          google.colab.kernel.accessAllowed ? 'block' : 'none';\n",
              "\n",
              "        async function convertToInteractive(key) {\n",
              "          const element = document.querySelector('#df-c48f6e74-9709-4462-90f4-d168ebe883fe');\n",
              "          const dataTable =\n",
              "            await google.colab.kernel.invokeFunction('convertToInteractive',\n",
              "                                                     [key], {});\n",
              "          if (!dataTable) return;\n",
              "\n",
              "          const docLinkHtml = 'Like what you see? Visit the ' +\n",
              "            '<a target=\"_blank\" href=https://colab.research.google.com/notebooks/data_table.ipynb>data table notebook</a>'\n",
              "            + ' to learn more about interactive tables.';\n",
              "          element.innerHTML = '';\n",
              "          dataTable['output_type'] = 'display_data';\n",
              "          await google.colab.output.renderOutput(dataTable, element);\n",
              "          const docLink = document.createElement('div');\n",
              "          docLink.innerHTML = docLinkHtml;\n",
              "          element.appendChild(docLink);\n",
              "        }\n",
              "      </script>\n",
              "    </div>\n",
              "  </div>\n",
              "  "
            ]
          },
          "metadata": {},
          "execution_count": 182
        }
      ]
    },
    {
      "cell_type": "code",
      "source": [
        "print(df_train.shape)\n",
        "print(df_test.shape)"
      ],
      "metadata": {
        "colab": {
          "base_uri": "https://localhost:8080/"
        },
        "id": "aq6wjj1P0ZDz",
        "outputId": "77796695-7dd6-4478-f854-28a41253f39e"
      },
      "execution_count": 183,
      "outputs": [
        {
          "output_type": "stream",
          "name": "stdout",
          "text": [
            "(76529, 11)\n",
            "(19133, 10)\n"
          ]
        }
      ]
    },
    {
      "cell_type": "code",
      "source": [
        "df_test"
      ],
      "metadata": {
        "colab": {
          "base_uri": "https://localhost:8080/",
          "height": 661
        },
        "id": "XdTX9eVkyu2v",
        "outputId": "32c5f685-5749-4384-b96e-9f82b65853ca"
      },
      "execution_count": 184,
      "outputs": [
        {
          "output_type": "execute_result",
          "data": {
            "text/plain": [
              "       transaction_number   user_id            payment_method  partner_id  \\\n",
              "0         857050141038272   3802500   visa_master_debit_cards      118335   \n",
              "1           4400462872603    200704         e_wallet_payments       23667   \n",
              "2        1207915598569499  25150225    sbi_atm_cum_debit_card       47334   \n",
              "3        2009725616777536  21827584  visa_master_credit_cards       78890   \n",
              "4        2319205210274863    576081         e_wallet_payments       23667   \n",
              "...                   ...       ...                       ...         ...   \n",
              "19128       5332775378111  13235044         e_wallet_payments       23667   \n",
              "19129     939262915465237  12257001         e_wallet_payments       78890   \n",
              "19130      18324574916544   5958481   visa_master_debit_cards       23667   \n",
              "19131     893473728055875  53919649    sbi_atm_cum_debit_card       78890   \n",
              "19132      84390778936647  14500864         e_wallet_payments       78890   \n",
              "\n",
              "      partner_category  country      device_type  money_transacted  \\\n",
              "0                cat_1  IND_INR        other_pcs             200.0   \n",
              "1                cat_2  IND_INR        other_pcs              20.0   \n",
              "2                cat_1  IND_INR  android_devices            -100.0   \n",
              "3                cat_2  IND_INR        other_pcs             200.0   \n",
              "4                cat_2  IND_INR        other_pcs             100.0   \n",
              "...                ...      ...              ...               ...   \n",
              "19128            cat_2  IND_INR        other_pcs              20.0   \n",
              "19129            cat_2  IND_INR        other_pcs              30.0   \n",
              "19130            cat_2  IND_INR        other_pcs              20.0   \n",
              "19131            cat_2  IND_INR  android_devices            -500.0   \n",
              "19132            cat_2  IND_INR        other_pcs              40.0   \n",
              "\n",
              "          transaction_initiation  partner_pricing_category  \n",
              "0      2016-12-28 14:44:37+00:00                         2  \n",
              "1      2016-12-14 17:49:48+00:00                         2  \n",
              "2      2017-01-21 10:18:11+00:00                         2  \n",
              "3      2017-01-16 13:25:10+00:00                         1  \n",
              "4      2017-02-09 12:47:28+00:00                         2  \n",
              "...                          ...                       ...  \n",
              "19128  2017-01-01 13:02:16+00:00                         2  \n",
              "19129  2016-12-26 19:41:23+00:00                         2  \n",
              "19130  2016-12-24 04:29:06+00:00                         4  \n",
              "19131  2016-12-04 15:38:47+00:00                         4  \n",
              "19132  2017-01-12 21:24:24+00:00                         2  \n",
              "\n",
              "[19133 rows x 10 columns]"
            ],
            "text/html": [
              "\n",
              "  <div id=\"df-484fcd8f-d65e-402a-b3a3-26b26663c1d0\">\n",
              "    <div class=\"colab-df-container\">\n",
              "      <div>\n",
              "<style scoped>\n",
              "    .dataframe tbody tr th:only-of-type {\n",
              "        vertical-align: middle;\n",
              "    }\n",
              "\n",
              "    .dataframe tbody tr th {\n",
              "        vertical-align: top;\n",
              "    }\n",
              "\n",
              "    .dataframe thead th {\n",
              "        text-align: right;\n",
              "    }\n",
              "</style>\n",
              "<table border=\"1\" class=\"dataframe\">\n",
              "  <thead>\n",
              "    <tr style=\"text-align: right;\">\n",
              "      <th></th>\n",
              "      <th>transaction_number</th>\n",
              "      <th>user_id</th>\n",
              "      <th>payment_method</th>\n",
              "      <th>partner_id</th>\n",
              "      <th>partner_category</th>\n",
              "      <th>country</th>\n",
              "      <th>device_type</th>\n",
              "      <th>money_transacted</th>\n",
              "      <th>transaction_initiation</th>\n",
              "      <th>partner_pricing_category</th>\n",
              "    </tr>\n",
              "  </thead>\n",
              "  <tbody>\n",
              "    <tr>\n",
              "      <th>0</th>\n",
              "      <td>857050141038272</td>\n",
              "      <td>3802500</td>\n",
              "      <td>visa_master_debit_cards</td>\n",
              "      <td>118335</td>\n",
              "      <td>cat_1</td>\n",
              "      <td>IND_INR</td>\n",
              "      <td>other_pcs</td>\n",
              "      <td>200.0</td>\n",
              "      <td>2016-12-28 14:44:37+00:00</td>\n",
              "      <td>2</td>\n",
              "    </tr>\n",
              "    <tr>\n",
              "      <th>1</th>\n",
              "      <td>4400462872603</td>\n",
              "      <td>200704</td>\n",
              "      <td>e_wallet_payments</td>\n",
              "      <td>23667</td>\n",
              "      <td>cat_2</td>\n",
              "      <td>IND_INR</td>\n",
              "      <td>other_pcs</td>\n",
              "      <td>20.0</td>\n",
              "      <td>2016-12-14 17:49:48+00:00</td>\n",
              "      <td>2</td>\n",
              "    </tr>\n",
              "    <tr>\n",
              "      <th>2</th>\n",
              "      <td>1207915598569499</td>\n",
              "      <td>25150225</td>\n",
              "      <td>sbi_atm_cum_debit_card</td>\n",
              "      <td>47334</td>\n",
              "      <td>cat_1</td>\n",
              "      <td>IND_INR</td>\n",
              "      <td>android_devices</td>\n",
              "      <td>-100.0</td>\n",
              "      <td>2017-01-21 10:18:11+00:00</td>\n",
              "      <td>2</td>\n",
              "    </tr>\n",
              "    <tr>\n",
              "      <th>3</th>\n",
              "      <td>2009725616777536</td>\n",
              "      <td>21827584</td>\n",
              "      <td>visa_master_credit_cards</td>\n",
              "      <td>78890</td>\n",
              "      <td>cat_2</td>\n",
              "      <td>IND_INR</td>\n",
              "      <td>other_pcs</td>\n",
              "      <td>200.0</td>\n",
              "      <td>2017-01-16 13:25:10+00:00</td>\n",
              "      <td>1</td>\n",
              "    </tr>\n",
              "    <tr>\n",
              "      <th>4</th>\n",
              "      <td>2319205210274863</td>\n",
              "      <td>576081</td>\n",
              "      <td>e_wallet_payments</td>\n",
              "      <td>23667</td>\n",
              "      <td>cat_2</td>\n",
              "      <td>IND_INR</td>\n",
              "      <td>other_pcs</td>\n",
              "      <td>100.0</td>\n",
              "      <td>2017-02-09 12:47:28+00:00</td>\n",
              "      <td>2</td>\n",
              "    </tr>\n",
              "    <tr>\n",
              "      <th>...</th>\n",
              "      <td>...</td>\n",
              "      <td>...</td>\n",
              "      <td>...</td>\n",
              "      <td>...</td>\n",
              "      <td>...</td>\n",
              "      <td>...</td>\n",
              "      <td>...</td>\n",
              "      <td>...</td>\n",
              "      <td>...</td>\n",
              "      <td>...</td>\n",
              "    </tr>\n",
              "    <tr>\n",
              "      <th>19128</th>\n",
              "      <td>5332775378111</td>\n",
              "      <td>13235044</td>\n",
              "      <td>e_wallet_payments</td>\n",
              "      <td>23667</td>\n",
              "      <td>cat_2</td>\n",
              "      <td>IND_INR</td>\n",
              "      <td>other_pcs</td>\n",
              "      <td>20.0</td>\n",
              "      <td>2017-01-01 13:02:16+00:00</td>\n",
              "      <td>2</td>\n",
              "    </tr>\n",
              "    <tr>\n",
              "      <th>19129</th>\n",
              "      <td>939262915465237</td>\n",
              "      <td>12257001</td>\n",
              "      <td>e_wallet_payments</td>\n",
              "      <td>78890</td>\n",
              "      <td>cat_2</td>\n",
              "      <td>IND_INR</td>\n",
              "      <td>other_pcs</td>\n",
              "      <td>30.0</td>\n",
              "      <td>2016-12-26 19:41:23+00:00</td>\n",
              "      <td>2</td>\n",
              "    </tr>\n",
              "    <tr>\n",
              "      <th>19130</th>\n",
              "      <td>18324574916544</td>\n",
              "      <td>5958481</td>\n",
              "      <td>visa_master_debit_cards</td>\n",
              "      <td>23667</td>\n",
              "      <td>cat_2</td>\n",
              "      <td>IND_INR</td>\n",
              "      <td>other_pcs</td>\n",
              "      <td>20.0</td>\n",
              "      <td>2016-12-24 04:29:06+00:00</td>\n",
              "      <td>4</td>\n",
              "    </tr>\n",
              "    <tr>\n",
              "      <th>19131</th>\n",
              "      <td>893473728055875</td>\n",
              "      <td>53919649</td>\n",
              "      <td>sbi_atm_cum_debit_card</td>\n",
              "      <td>78890</td>\n",
              "      <td>cat_2</td>\n",
              "      <td>IND_INR</td>\n",
              "      <td>android_devices</td>\n",
              "      <td>-500.0</td>\n",
              "      <td>2016-12-04 15:38:47+00:00</td>\n",
              "      <td>4</td>\n",
              "    </tr>\n",
              "    <tr>\n",
              "      <th>19132</th>\n",
              "      <td>84390778936647</td>\n",
              "      <td>14500864</td>\n",
              "      <td>e_wallet_payments</td>\n",
              "      <td>78890</td>\n",
              "      <td>cat_2</td>\n",
              "      <td>IND_INR</td>\n",
              "      <td>other_pcs</td>\n",
              "      <td>40.0</td>\n",
              "      <td>2017-01-12 21:24:24+00:00</td>\n",
              "      <td>2</td>\n",
              "    </tr>\n",
              "  </tbody>\n",
              "</table>\n",
              "<p>19133 rows × 10 columns</p>\n",
              "</div>\n",
              "      <button class=\"colab-df-convert\" onclick=\"convertToInteractive('df-484fcd8f-d65e-402a-b3a3-26b26663c1d0')\"\n",
              "              title=\"Convert this dataframe to an interactive table.\"\n",
              "              style=\"display:none;\">\n",
              "        \n",
              "  <svg xmlns=\"http://www.w3.org/2000/svg\" height=\"24px\"viewBox=\"0 0 24 24\"\n",
              "       width=\"24px\">\n",
              "    <path d=\"M0 0h24v24H0V0z\" fill=\"none\"/>\n",
              "    <path d=\"M18.56 5.44l.94 2.06.94-2.06 2.06-.94-2.06-.94-.94-2.06-.94 2.06-2.06.94zm-11 1L8.5 8.5l.94-2.06 2.06-.94-2.06-.94L8.5 2.5l-.94 2.06-2.06.94zm10 10l.94 2.06.94-2.06 2.06-.94-2.06-.94-.94-2.06-.94 2.06-2.06.94z\"/><path d=\"M17.41 7.96l-1.37-1.37c-.4-.4-.92-.59-1.43-.59-.52 0-1.04.2-1.43.59L10.3 9.45l-7.72 7.72c-.78.78-.78 2.05 0 2.83L4 21.41c.39.39.9.59 1.41.59.51 0 1.02-.2 1.41-.59l7.78-7.78 2.81-2.81c.8-.78.8-2.07 0-2.86zM5.41 20L4 18.59l7.72-7.72 1.47 1.35L5.41 20z\"/>\n",
              "  </svg>\n",
              "      </button>\n",
              "      \n",
              "  <style>\n",
              "    .colab-df-container {\n",
              "      display:flex;\n",
              "      flex-wrap:wrap;\n",
              "      gap: 12px;\n",
              "    }\n",
              "\n",
              "    .colab-df-convert {\n",
              "      background-color: #E8F0FE;\n",
              "      border: none;\n",
              "      border-radius: 50%;\n",
              "      cursor: pointer;\n",
              "      display: none;\n",
              "      fill: #1967D2;\n",
              "      height: 32px;\n",
              "      padding: 0 0 0 0;\n",
              "      width: 32px;\n",
              "    }\n",
              "\n",
              "    .colab-df-convert:hover {\n",
              "      background-color: #E2EBFA;\n",
              "      box-shadow: 0px 1px 2px rgba(60, 64, 67, 0.3), 0px 1px 3px 1px rgba(60, 64, 67, 0.15);\n",
              "      fill: #174EA6;\n",
              "    }\n",
              "\n",
              "    [theme=dark] .colab-df-convert {\n",
              "      background-color: #3B4455;\n",
              "      fill: #D2E3FC;\n",
              "    }\n",
              "\n",
              "    [theme=dark] .colab-df-convert:hover {\n",
              "      background-color: #434B5C;\n",
              "      box-shadow: 0px 1px 3px 1px rgba(0, 0, 0, 0.15);\n",
              "      filter: drop-shadow(0px 1px 2px rgba(0, 0, 0, 0.3));\n",
              "      fill: #FFFFFF;\n",
              "    }\n",
              "  </style>\n",
              "\n",
              "      <script>\n",
              "        const buttonEl =\n",
              "          document.querySelector('#df-484fcd8f-d65e-402a-b3a3-26b26663c1d0 button.colab-df-convert');\n",
              "        buttonEl.style.display =\n",
              "          google.colab.kernel.accessAllowed ? 'block' : 'none';\n",
              "\n",
              "        async function convertToInteractive(key) {\n",
              "          const element = document.querySelector('#df-484fcd8f-d65e-402a-b3a3-26b26663c1d0');\n",
              "          const dataTable =\n",
              "            await google.colab.kernel.invokeFunction('convertToInteractive',\n",
              "                                                     [key], {});\n",
              "          if (!dataTable) return;\n",
              "\n",
              "          const docLinkHtml = 'Like what you see? Visit the ' +\n",
              "            '<a target=\"_blank\" href=https://colab.research.google.com/notebooks/data_table.ipynb>data table notebook</a>'\n",
              "            + ' to learn more about interactive tables.';\n",
              "          element.innerHTML = '';\n",
              "          dataTable['output_type'] = 'display_data';\n",
              "          await google.colab.output.renderOutput(dataTable, element);\n",
              "          const docLink = document.createElement('div');\n",
              "          docLink.innerHTML = docLinkHtml;\n",
              "          element.appendChild(docLink);\n",
              "        }\n",
              "      </script>\n",
              "    </div>\n",
              "  </div>\n",
              "  "
            ]
          },
          "metadata": {},
          "execution_count": 184
        }
      ]
    },
    {
      "cell_type": "code",
      "source": [
        "df=df_train.append(df_test)"
      ],
      "metadata": {
        "id": "UNKdb8Rby15y"
      },
      "execution_count": 185,
      "outputs": []
    },
    {
      "cell_type": "code",
      "source": [
        "df.head()"
      ],
      "metadata": {
        "colab": {
          "base_uri": "https://localhost:8080/",
          "height": 357
        },
        "id": "K9MaqUYizysc",
        "outputId": "d0ab419a-7d07-4e26-a5f2-3c936f9de201"
      },
      "execution_count": 186,
      "outputs": [
        {
          "output_type": "execute_result",
          "data": {
            "text/plain": [
              "   transaction_number   user_id          payment_method  partner_id  \\\n",
              "0        144703125000  17539344  sbi_atm_cum_debit_card       47334   \n",
              "1      77406814453032  24710841       e_wallet_payments       78890   \n",
              "2     308929485482801  24265476       e_wallet_payments       78890   \n",
              "3     665270027747073  10240000       other_debit_cards      102557   \n",
              "4      38276160171101   5880625       other_debit_cards      118335   \n",
              "\n",
              "  partner_category  country      device_type  money_transacted  \\\n",
              "0            cat_1  IND_INR  android_devices              -5.0   \n",
              "1            cat_2  IND_INR        other_pcs             100.0   \n",
              "2            cat_2  IND_INR        other_pcs              50.0   \n",
              "3            cat_3  IND_INR        other_pcs            1000.0   \n",
              "4            cat_1  IND_INR        other_pcs             200.0   \n",
              "\n",
              "      transaction_initiation  partner_pricing_category  is_fraud  \n",
              "0  2016-11-15 19:16:12+00:00                         2       0.0  \n",
              "1  2017-01-11 09:25:33+00:00                         2       0.0  \n",
              "2  2016-12-07 07:58:09+00:00                         2       0.0  \n",
              "3  2017-01-11 16:15:44+00:00                         2       0.0  \n",
              "4  2016-11-16 17:04:42+00:00                         2       0.0  "
            ],
            "text/html": [
              "\n",
              "  <div id=\"df-f06c23e4-fdf1-4b28-8bd7-15583f46e4fe\">\n",
              "    <div class=\"colab-df-container\">\n",
              "      <div>\n",
              "<style scoped>\n",
              "    .dataframe tbody tr th:only-of-type {\n",
              "        vertical-align: middle;\n",
              "    }\n",
              "\n",
              "    .dataframe tbody tr th {\n",
              "        vertical-align: top;\n",
              "    }\n",
              "\n",
              "    .dataframe thead th {\n",
              "        text-align: right;\n",
              "    }\n",
              "</style>\n",
              "<table border=\"1\" class=\"dataframe\">\n",
              "  <thead>\n",
              "    <tr style=\"text-align: right;\">\n",
              "      <th></th>\n",
              "      <th>transaction_number</th>\n",
              "      <th>user_id</th>\n",
              "      <th>payment_method</th>\n",
              "      <th>partner_id</th>\n",
              "      <th>partner_category</th>\n",
              "      <th>country</th>\n",
              "      <th>device_type</th>\n",
              "      <th>money_transacted</th>\n",
              "      <th>transaction_initiation</th>\n",
              "      <th>partner_pricing_category</th>\n",
              "      <th>is_fraud</th>\n",
              "    </tr>\n",
              "  </thead>\n",
              "  <tbody>\n",
              "    <tr>\n",
              "      <th>0</th>\n",
              "      <td>144703125000</td>\n",
              "      <td>17539344</td>\n",
              "      <td>sbi_atm_cum_debit_card</td>\n",
              "      <td>47334</td>\n",
              "      <td>cat_1</td>\n",
              "      <td>IND_INR</td>\n",
              "      <td>android_devices</td>\n",
              "      <td>-5.0</td>\n",
              "      <td>2016-11-15 19:16:12+00:00</td>\n",
              "      <td>2</td>\n",
              "      <td>0.0</td>\n",
              "    </tr>\n",
              "    <tr>\n",
              "      <th>1</th>\n",
              "      <td>77406814453032</td>\n",
              "      <td>24710841</td>\n",
              "      <td>e_wallet_payments</td>\n",
              "      <td>78890</td>\n",
              "      <td>cat_2</td>\n",
              "      <td>IND_INR</td>\n",
              "      <td>other_pcs</td>\n",
              "      <td>100.0</td>\n",
              "      <td>2017-01-11 09:25:33+00:00</td>\n",
              "      <td>2</td>\n",
              "      <td>0.0</td>\n",
              "    </tr>\n",
              "    <tr>\n",
              "      <th>2</th>\n",
              "      <td>308929485482801</td>\n",
              "      <td>24265476</td>\n",
              "      <td>e_wallet_payments</td>\n",
              "      <td>78890</td>\n",
              "      <td>cat_2</td>\n",
              "      <td>IND_INR</td>\n",
              "      <td>other_pcs</td>\n",
              "      <td>50.0</td>\n",
              "      <td>2016-12-07 07:58:09+00:00</td>\n",
              "      <td>2</td>\n",
              "      <td>0.0</td>\n",
              "    </tr>\n",
              "    <tr>\n",
              "      <th>3</th>\n",
              "      <td>665270027747073</td>\n",
              "      <td>10240000</td>\n",
              "      <td>other_debit_cards</td>\n",
              "      <td>102557</td>\n",
              "      <td>cat_3</td>\n",
              "      <td>IND_INR</td>\n",
              "      <td>other_pcs</td>\n",
              "      <td>1000.0</td>\n",
              "      <td>2017-01-11 16:15:44+00:00</td>\n",
              "      <td>2</td>\n",
              "      <td>0.0</td>\n",
              "    </tr>\n",
              "    <tr>\n",
              "      <th>4</th>\n",
              "      <td>38276160171101</td>\n",
              "      <td>5880625</td>\n",
              "      <td>other_debit_cards</td>\n",
              "      <td>118335</td>\n",
              "      <td>cat_1</td>\n",
              "      <td>IND_INR</td>\n",
              "      <td>other_pcs</td>\n",
              "      <td>200.0</td>\n",
              "      <td>2016-11-16 17:04:42+00:00</td>\n",
              "      <td>2</td>\n",
              "      <td>0.0</td>\n",
              "    </tr>\n",
              "  </tbody>\n",
              "</table>\n",
              "</div>\n",
              "      <button class=\"colab-df-convert\" onclick=\"convertToInteractive('df-f06c23e4-fdf1-4b28-8bd7-15583f46e4fe')\"\n",
              "              title=\"Convert this dataframe to an interactive table.\"\n",
              "              style=\"display:none;\">\n",
              "        \n",
              "  <svg xmlns=\"http://www.w3.org/2000/svg\" height=\"24px\"viewBox=\"0 0 24 24\"\n",
              "       width=\"24px\">\n",
              "    <path d=\"M0 0h24v24H0V0z\" fill=\"none\"/>\n",
              "    <path d=\"M18.56 5.44l.94 2.06.94-2.06 2.06-.94-2.06-.94-.94-2.06-.94 2.06-2.06.94zm-11 1L8.5 8.5l.94-2.06 2.06-.94-2.06-.94L8.5 2.5l-.94 2.06-2.06.94zm10 10l.94 2.06.94-2.06 2.06-.94-2.06-.94-.94-2.06-.94 2.06-2.06.94z\"/><path d=\"M17.41 7.96l-1.37-1.37c-.4-.4-.92-.59-1.43-.59-.52 0-1.04.2-1.43.59L10.3 9.45l-7.72 7.72c-.78.78-.78 2.05 0 2.83L4 21.41c.39.39.9.59 1.41.59.51 0 1.02-.2 1.41-.59l7.78-7.78 2.81-2.81c.8-.78.8-2.07 0-2.86zM5.41 20L4 18.59l7.72-7.72 1.47 1.35L5.41 20z\"/>\n",
              "  </svg>\n",
              "      </button>\n",
              "      \n",
              "  <style>\n",
              "    .colab-df-container {\n",
              "      display:flex;\n",
              "      flex-wrap:wrap;\n",
              "      gap: 12px;\n",
              "    }\n",
              "\n",
              "    .colab-df-convert {\n",
              "      background-color: #E8F0FE;\n",
              "      border: none;\n",
              "      border-radius: 50%;\n",
              "      cursor: pointer;\n",
              "      display: none;\n",
              "      fill: #1967D2;\n",
              "      height: 32px;\n",
              "      padding: 0 0 0 0;\n",
              "      width: 32px;\n",
              "    }\n",
              "\n",
              "    .colab-df-convert:hover {\n",
              "      background-color: #E2EBFA;\n",
              "      box-shadow: 0px 1px 2px rgba(60, 64, 67, 0.3), 0px 1px 3px 1px rgba(60, 64, 67, 0.15);\n",
              "      fill: #174EA6;\n",
              "    }\n",
              "\n",
              "    [theme=dark] .colab-df-convert {\n",
              "      background-color: #3B4455;\n",
              "      fill: #D2E3FC;\n",
              "    }\n",
              "\n",
              "    [theme=dark] .colab-df-convert:hover {\n",
              "      background-color: #434B5C;\n",
              "      box-shadow: 0px 1px 3px 1px rgba(0, 0, 0, 0.15);\n",
              "      filter: drop-shadow(0px 1px 2px rgba(0, 0, 0, 0.3));\n",
              "      fill: #FFFFFF;\n",
              "    }\n",
              "  </style>\n",
              "\n",
              "      <script>\n",
              "        const buttonEl =\n",
              "          document.querySelector('#df-f06c23e4-fdf1-4b28-8bd7-15583f46e4fe button.colab-df-convert');\n",
              "        buttonEl.style.display =\n",
              "          google.colab.kernel.accessAllowed ? 'block' : 'none';\n",
              "\n",
              "        async function convertToInteractive(key) {\n",
              "          const element = document.querySelector('#df-f06c23e4-fdf1-4b28-8bd7-15583f46e4fe');\n",
              "          const dataTable =\n",
              "            await google.colab.kernel.invokeFunction('convertToInteractive',\n",
              "                                                     [key], {});\n",
              "          if (!dataTable) return;\n",
              "\n",
              "          const docLinkHtml = 'Like what you see? Visit the ' +\n",
              "            '<a target=\"_blank\" href=https://colab.research.google.com/notebooks/data_table.ipynb>data table notebook</a>'\n",
              "            + ' to learn more about interactive tables.';\n",
              "          element.innerHTML = '';\n",
              "          dataTable['output_type'] = 'display_data';\n",
              "          await google.colab.output.renderOutput(dataTable, element);\n",
              "          const docLink = document.createElement('div');\n",
              "          docLink.innerHTML = docLinkHtml;\n",
              "          element.appendChild(docLink);\n",
              "        }\n",
              "      </script>\n",
              "    </div>\n",
              "  </div>\n",
              "  "
            ]
          },
          "metadata": {},
          "execution_count": 186
        }
      ]
    },
    {
      "cell_type": "code",
      "source": [
        "df.tail()"
      ],
      "metadata": {
        "colab": {
          "base_uri": "https://localhost:8080/",
          "height": 357
        },
        "id": "vT-rODUPz1nF",
        "outputId": "340fda68-2352-497a-fe62-3790d333b31f"
      },
      "execution_count": 187,
      "outputs": [
        {
          "output_type": "execute_result",
          "data": {
            "text/plain": [
              "       transaction_number   user_id           payment_method  partner_id  \\\n",
              "19128       5332775378111  13235044        e_wallet_payments       23667   \n",
              "19129     939262915465237  12257001        e_wallet_payments       78890   \n",
              "19130      18324574916544   5958481  visa_master_debit_cards       23667   \n",
              "19131     893473728055875  53919649   sbi_atm_cum_debit_card       78890   \n",
              "19132      84390778936647  14500864        e_wallet_payments       78890   \n",
              "\n",
              "      partner_category  country      device_type  money_transacted  \\\n",
              "19128            cat_2  IND_INR        other_pcs              20.0   \n",
              "19129            cat_2  IND_INR        other_pcs              30.0   \n",
              "19130            cat_2  IND_INR        other_pcs              20.0   \n",
              "19131            cat_2  IND_INR  android_devices            -500.0   \n",
              "19132            cat_2  IND_INR        other_pcs              40.0   \n",
              "\n",
              "          transaction_initiation  partner_pricing_category  is_fraud  \n",
              "19128  2017-01-01 13:02:16+00:00                         2       NaN  \n",
              "19129  2016-12-26 19:41:23+00:00                         2       NaN  \n",
              "19130  2016-12-24 04:29:06+00:00                         4       NaN  \n",
              "19131  2016-12-04 15:38:47+00:00                         4       NaN  \n",
              "19132  2017-01-12 21:24:24+00:00                         2       NaN  "
            ],
            "text/html": [
              "\n",
              "  <div id=\"df-b782a706-8c83-4e52-af22-cdbb3006037e\">\n",
              "    <div class=\"colab-df-container\">\n",
              "      <div>\n",
              "<style scoped>\n",
              "    .dataframe tbody tr th:only-of-type {\n",
              "        vertical-align: middle;\n",
              "    }\n",
              "\n",
              "    .dataframe tbody tr th {\n",
              "        vertical-align: top;\n",
              "    }\n",
              "\n",
              "    .dataframe thead th {\n",
              "        text-align: right;\n",
              "    }\n",
              "</style>\n",
              "<table border=\"1\" class=\"dataframe\">\n",
              "  <thead>\n",
              "    <tr style=\"text-align: right;\">\n",
              "      <th></th>\n",
              "      <th>transaction_number</th>\n",
              "      <th>user_id</th>\n",
              "      <th>payment_method</th>\n",
              "      <th>partner_id</th>\n",
              "      <th>partner_category</th>\n",
              "      <th>country</th>\n",
              "      <th>device_type</th>\n",
              "      <th>money_transacted</th>\n",
              "      <th>transaction_initiation</th>\n",
              "      <th>partner_pricing_category</th>\n",
              "      <th>is_fraud</th>\n",
              "    </tr>\n",
              "  </thead>\n",
              "  <tbody>\n",
              "    <tr>\n",
              "      <th>19128</th>\n",
              "      <td>5332775378111</td>\n",
              "      <td>13235044</td>\n",
              "      <td>e_wallet_payments</td>\n",
              "      <td>23667</td>\n",
              "      <td>cat_2</td>\n",
              "      <td>IND_INR</td>\n",
              "      <td>other_pcs</td>\n",
              "      <td>20.0</td>\n",
              "      <td>2017-01-01 13:02:16+00:00</td>\n",
              "      <td>2</td>\n",
              "      <td>NaN</td>\n",
              "    </tr>\n",
              "    <tr>\n",
              "      <th>19129</th>\n",
              "      <td>939262915465237</td>\n",
              "      <td>12257001</td>\n",
              "      <td>e_wallet_payments</td>\n",
              "      <td>78890</td>\n",
              "      <td>cat_2</td>\n",
              "      <td>IND_INR</td>\n",
              "      <td>other_pcs</td>\n",
              "      <td>30.0</td>\n",
              "      <td>2016-12-26 19:41:23+00:00</td>\n",
              "      <td>2</td>\n",
              "      <td>NaN</td>\n",
              "    </tr>\n",
              "    <tr>\n",
              "      <th>19130</th>\n",
              "      <td>18324574916544</td>\n",
              "      <td>5958481</td>\n",
              "      <td>visa_master_debit_cards</td>\n",
              "      <td>23667</td>\n",
              "      <td>cat_2</td>\n",
              "      <td>IND_INR</td>\n",
              "      <td>other_pcs</td>\n",
              "      <td>20.0</td>\n",
              "      <td>2016-12-24 04:29:06+00:00</td>\n",
              "      <td>4</td>\n",
              "      <td>NaN</td>\n",
              "    </tr>\n",
              "    <tr>\n",
              "      <th>19131</th>\n",
              "      <td>893473728055875</td>\n",
              "      <td>53919649</td>\n",
              "      <td>sbi_atm_cum_debit_card</td>\n",
              "      <td>78890</td>\n",
              "      <td>cat_2</td>\n",
              "      <td>IND_INR</td>\n",
              "      <td>android_devices</td>\n",
              "      <td>-500.0</td>\n",
              "      <td>2016-12-04 15:38:47+00:00</td>\n",
              "      <td>4</td>\n",
              "      <td>NaN</td>\n",
              "    </tr>\n",
              "    <tr>\n",
              "      <th>19132</th>\n",
              "      <td>84390778936647</td>\n",
              "      <td>14500864</td>\n",
              "      <td>e_wallet_payments</td>\n",
              "      <td>78890</td>\n",
              "      <td>cat_2</td>\n",
              "      <td>IND_INR</td>\n",
              "      <td>other_pcs</td>\n",
              "      <td>40.0</td>\n",
              "      <td>2017-01-12 21:24:24+00:00</td>\n",
              "      <td>2</td>\n",
              "      <td>NaN</td>\n",
              "    </tr>\n",
              "  </tbody>\n",
              "</table>\n",
              "</div>\n",
              "      <button class=\"colab-df-convert\" onclick=\"convertToInteractive('df-b782a706-8c83-4e52-af22-cdbb3006037e')\"\n",
              "              title=\"Convert this dataframe to an interactive table.\"\n",
              "              style=\"display:none;\">\n",
              "        \n",
              "  <svg xmlns=\"http://www.w3.org/2000/svg\" height=\"24px\"viewBox=\"0 0 24 24\"\n",
              "       width=\"24px\">\n",
              "    <path d=\"M0 0h24v24H0V0z\" fill=\"none\"/>\n",
              "    <path d=\"M18.56 5.44l.94 2.06.94-2.06 2.06-.94-2.06-.94-.94-2.06-.94 2.06-2.06.94zm-11 1L8.5 8.5l.94-2.06 2.06-.94-2.06-.94L8.5 2.5l-.94 2.06-2.06.94zm10 10l.94 2.06.94-2.06 2.06-.94-2.06-.94-.94-2.06-.94 2.06-2.06.94z\"/><path d=\"M17.41 7.96l-1.37-1.37c-.4-.4-.92-.59-1.43-.59-.52 0-1.04.2-1.43.59L10.3 9.45l-7.72 7.72c-.78.78-.78 2.05 0 2.83L4 21.41c.39.39.9.59 1.41.59.51 0 1.02-.2 1.41-.59l7.78-7.78 2.81-2.81c.8-.78.8-2.07 0-2.86zM5.41 20L4 18.59l7.72-7.72 1.47 1.35L5.41 20z\"/>\n",
              "  </svg>\n",
              "      </button>\n",
              "      \n",
              "  <style>\n",
              "    .colab-df-container {\n",
              "      display:flex;\n",
              "      flex-wrap:wrap;\n",
              "      gap: 12px;\n",
              "    }\n",
              "\n",
              "    .colab-df-convert {\n",
              "      background-color: #E8F0FE;\n",
              "      border: none;\n",
              "      border-radius: 50%;\n",
              "      cursor: pointer;\n",
              "      display: none;\n",
              "      fill: #1967D2;\n",
              "      height: 32px;\n",
              "      padding: 0 0 0 0;\n",
              "      width: 32px;\n",
              "    }\n",
              "\n",
              "    .colab-df-convert:hover {\n",
              "      background-color: #E2EBFA;\n",
              "      box-shadow: 0px 1px 2px rgba(60, 64, 67, 0.3), 0px 1px 3px 1px rgba(60, 64, 67, 0.15);\n",
              "      fill: #174EA6;\n",
              "    }\n",
              "\n",
              "    [theme=dark] .colab-df-convert {\n",
              "      background-color: #3B4455;\n",
              "      fill: #D2E3FC;\n",
              "    }\n",
              "\n",
              "    [theme=dark] .colab-df-convert:hover {\n",
              "      background-color: #434B5C;\n",
              "      box-shadow: 0px 1px 3px 1px rgba(0, 0, 0, 0.15);\n",
              "      filter: drop-shadow(0px 1px 2px rgba(0, 0, 0, 0.3));\n",
              "      fill: #FFFFFF;\n",
              "    }\n",
              "  </style>\n",
              "\n",
              "      <script>\n",
              "        const buttonEl =\n",
              "          document.querySelector('#df-b782a706-8c83-4e52-af22-cdbb3006037e button.colab-df-convert');\n",
              "        buttonEl.style.display =\n",
              "          google.colab.kernel.accessAllowed ? 'block' : 'none';\n",
              "\n",
              "        async function convertToInteractive(key) {\n",
              "          const element = document.querySelector('#df-b782a706-8c83-4e52-af22-cdbb3006037e');\n",
              "          const dataTable =\n",
              "            await google.colab.kernel.invokeFunction('convertToInteractive',\n",
              "                                                     [key], {});\n",
              "          if (!dataTable) return;\n",
              "\n",
              "          const docLinkHtml = 'Like what you see? Visit the ' +\n",
              "            '<a target=\"_blank\" href=https://colab.research.google.com/notebooks/data_table.ipynb>data table notebook</a>'\n",
              "            + ' to learn more about interactive tables.';\n",
              "          element.innerHTML = '';\n",
              "          dataTable['output_type'] = 'display_data';\n",
              "          await google.colab.output.renderOutput(dataTable, element);\n",
              "          const docLink = document.createElement('div');\n",
              "          docLink.innerHTML = docLinkHtml;\n",
              "          element.appendChild(docLink);\n",
              "        }\n",
              "      </script>\n",
              "    </div>\n",
              "  </div>\n",
              "  "
            ]
          },
          "metadata": {},
          "execution_count": 187
        }
      ]
    },
    {
      "cell_type": "code",
      "source": [
        "df.shape"
      ],
      "metadata": {
        "colab": {
          "base_uri": "https://localhost:8080/"
        },
        "id": "ACbsSNMXz7oJ",
        "outputId": "5c351724-8216-4784-ae47-6117d185c301"
      },
      "execution_count": 188,
      "outputs": [
        {
          "output_type": "execute_result",
          "data": {
            "text/plain": [
              "(95662, 11)"
            ]
          },
          "metadata": {},
          "execution_count": 188
        }
      ]
    },
    {
      "cell_type": "code",
      "source": [
        "df.dtypes"
      ],
      "metadata": {
        "colab": {
          "base_uri": "https://localhost:8080/"
        },
        "id": "tChyDu-t0UT-",
        "outputId": "99153d8e-883b-49ef-962f-088738c25c3c"
      },
      "execution_count": 189,
      "outputs": [
        {
          "output_type": "execute_result",
          "data": {
            "text/plain": [
              "transaction_number            int64\n",
              "user_id                       int64\n",
              "payment_method               object\n",
              "partner_id                    int64\n",
              "partner_category             object\n",
              "country                      object\n",
              "device_type                  object\n",
              "money_transacted            float64\n",
              "transaction_initiation       object\n",
              "partner_pricing_category      int64\n",
              "is_fraud                    float64\n",
              "dtype: object"
            ]
          },
          "metadata": {},
          "execution_count": 189
        }
      ]
    },
    {
      "cell_type": "code",
      "source": [
        "df.info()"
      ],
      "metadata": {
        "colab": {
          "base_uri": "https://localhost:8080/"
        },
        "id": "NcvYs3L30ywO",
        "outputId": "7c7b24dd-3320-4443-ec25-957e963c2243"
      },
      "execution_count": 190,
      "outputs": [
        {
          "output_type": "stream",
          "name": "stdout",
          "text": [
            "<class 'pandas.core.frame.DataFrame'>\n",
            "Int64Index: 95662 entries, 0 to 19132\n",
            "Data columns (total 11 columns):\n",
            " #   Column                    Non-Null Count  Dtype  \n",
            "---  ------                    --------------  -----  \n",
            " 0   transaction_number        95662 non-null  int64  \n",
            " 1   user_id                   95662 non-null  int64  \n",
            " 2   payment_method            95662 non-null  object \n",
            " 3   partner_id                95662 non-null  int64  \n",
            " 4   partner_category          95662 non-null  object \n",
            " 5   country                   95662 non-null  object \n",
            " 6   device_type               95662 non-null  object \n",
            " 7   money_transacted          95662 non-null  float64\n",
            " 8   transaction_initiation    95662 non-null  object \n",
            " 9   partner_pricing_category  95662 non-null  int64  \n",
            " 10  is_fraud                  76529 non-null  float64\n",
            "dtypes: float64(2), int64(4), object(5)\n",
            "memory usage: 8.8+ MB\n"
          ]
        }
      ]
    },
    {
      "cell_type": "code",
      "source": [
        "df.describe()"
      ],
      "metadata": {
        "colab": {
          "base_uri": "https://localhost:8080/",
          "height": 300
        },
        "id": "gB4DqJKl04GD",
        "outputId": "eaaba675-61b7-4347-b9c4-dfcdd25f8d78"
      },
      "execution_count": 191,
      "outputs": [
        {
          "output_type": "execute_result",
          "data": {
            "text/plain": [
              "       transaction_number       user_id     partner_id  money_transacted  \\\n",
              "count        9.566200e+04  9.566200e+04   95662.000000      95662.000000   \n",
              "mean         6.959685e+14  1.250308e+07   58529.037099        134.356929   \n",
              "std          7.883717e+14  1.210416e+07   36730.543110       2466.135943   \n",
              "min          1.000000e+00  1.000000e+00    7889.000000     -20000.000000   \n",
              "25%          4.374537e+13  3.515625e+06   23667.000000         -1.000000   \n",
              "50%          3.477181e+14  9.759376e+06   47334.000000         20.000000   \n",
              "75%          1.175669e+15  1.788444e+07   78890.000000         56.000000   \n",
              "max          2.784238e+15  5.593544e+07  213003.000000     197600.000000   \n",
              "\n",
              "       partner_pricing_category      is_fraud  \n",
              "count              95662.000000  76529.000000  \n",
              "mean                   2.255974      0.002012  \n",
              "std                    0.732924      0.044814  \n",
              "min                    0.000000      0.000000  \n",
              "25%                    2.000000      0.000000  \n",
              "50%                    2.000000      0.000000  \n",
              "75%                    2.000000      0.000000  \n",
              "max                    4.000000      1.000000  "
            ],
            "text/html": [
              "\n",
              "  <div id=\"df-5436befa-d51e-41eb-91a5-75e729aed1c9\">\n",
              "    <div class=\"colab-df-container\">\n",
              "      <div>\n",
              "<style scoped>\n",
              "    .dataframe tbody tr th:only-of-type {\n",
              "        vertical-align: middle;\n",
              "    }\n",
              "\n",
              "    .dataframe tbody tr th {\n",
              "        vertical-align: top;\n",
              "    }\n",
              "\n",
              "    .dataframe thead th {\n",
              "        text-align: right;\n",
              "    }\n",
              "</style>\n",
              "<table border=\"1\" class=\"dataframe\">\n",
              "  <thead>\n",
              "    <tr style=\"text-align: right;\">\n",
              "      <th></th>\n",
              "      <th>transaction_number</th>\n",
              "      <th>user_id</th>\n",
              "      <th>partner_id</th>\n",
              "      <th>money_transacted</th>\n",
              "      <th>partner_pricing_category</th>\n",
              "      <th>is_fraud</th>\n",
              "    </tr>\n",
              "  </thead>\n",
              "  <tbody>\n",
              "    <tr>\n",
              "      <th>count</th>\n",
              "      <td>9.566200e+04</td>\n",
              "      <td>9.566200e+04</td>\n",
              "      <td>95662.000000</td>\n",
              "      <td>95662.000000</td>\n",
              "      <td>95662.000000</td>\n",
              "      <td>76529.000000</td>\n",
              "    </tr>\n",
              "    <tr>\n",
              "      <th>mean</th>\n",
              "      <td>6.959685e+14</td>\n",
              "      <td>1.250308e+07</td>\n",
              "      <td>58529.037099</td>\n",
              "      <td>134.356929</td>\n",
              "      <td>2.255974</td>\n",
              "      <td>0.002012</td>\n",
              "    </tr>\n",
              "    <tr>\n",
              "      <th>std</th>\n",
              "      <td>7.883717e+14</td>\n",
              "      <td>1.210416e+07</td>\n",
              "      <td>36730.543110</td>\n",
              "      <td>2466.135943</td>\n",
              "      <td>0.732924</td>\n",
              "      <td>0.044814</td>\n",
              "    </tr>\n",
              "    <tr>\n",
              "      <th>min</th>\n",
              "      <td>1.000000e+00</td>\n",
              "      <td>1.000000e+00</td>\n",
              "      <td>7889.000000</td>\n",
              "      <td>-20000.000000</td>\n",
              "      <td>0.000000</td>\n",
              "      <td>0.000000</td>\n",
              "    </tr>\n",
              "    <tr>\n",
              "      <th>25%</th>\n",
              "      <td>4.374537e+13</td>\n",
              "      <td>3.515625e+06</td>\n",
              "      <td>23667.000000</td>\n",
              "      <td>-1.000000</td>\n",
              "      <td>2.000000</td>\n",
              "      <td>0.000000</td>\n",
              "    </tr>\n",
              "    <tr>\n",
              "      <th>50%</th>\n",
              "      <td>3.477181e+14</td>\n",
              "      <td>9.759376e+06</td>\n",
              "      <td>47334.000000</td>\n",
              "      <td>20.000000</td>\n",
              "      <td>2.000000</td>\n",
              "      <td>0.000000</td>\n",
              "    </tr>\n",
              "    <tr>\n",
              "      <th>75%</th>\n",
              "      <td>1.175669e+15</td>\n",
              "      <td>1.788444e+07</td>\n",
              "      <td>78890.000000</td>\n",
              "      <td>56.000000</td>\n",
              "      <td>2.000000</td>\n",
              "      <td>0.000000</td>\n",
              "    </tr>\n",
              "    <tr>\n",
              "      <th>max</th>\n",
              "      <td>2.784238e+15</td>\n",
              "      <td>5.593544e+07</td>\n",
              "      <td>213003.000000</td>\n",
              "      <td>197600.000000</td>\n",
              "      <td>4.000000</td>\n",
              "      <td>1.000000</td>\n",
              "    </tr>\n",
              "  </tbody>\n",
              "</table>\n",
              "</div>\n",
              "      <button class=\"colab-df-convert\" onclick=\"convertToInteractive('df-5436befa-d51e-41eb-91a5-75e729aed1c9')\"\n",
              "              title=\"Convert this dataframe to an interactive table.\"\n",
              "              style=\"display:none;\">\n",
              "        \n",
              "  <svg xmlns=\"http://www.w3.org/2000/svg\" height=\"24px\"viewBox=\"0 0 24 24\"\n",
              "       width=\"24px\">\n",
              "    <path d=\"M0 0h24v24H0V0z\" fill=\"none\"/>\n",
              "    <path d=\"M18.56 5.44l.94 2.06.94-2.06 2.06-.94-2.06-.94-.94-2.06-.94 2.06-2.06.94zm-11 1L8.5 8.5l.94-2.06 2.06-.94-2.06-.94L8.5 2.5l-.94 2.06-2.06.94zm10 10l.94 2.06.94-2.06 2.06-.94-2.06-.94-.94-2.06-.94 2.06-2.06.94z\"/><path d=\"M17.41 7.96l-1.37-1.37c-.4-.4-.92-.59-1.43-.59-.52 0-1.04.2-1.43.59L10.3 9.45l-7.72 7.72c-.78.78-.78 2.05 0 2.83L4 21.41c.39.39.9.59 1.41.59.51 0 1.02-.2 1.41-.59l7.78-7.78 2.81-2.81c.8-.78.8-2.07 0-2.86zM5.41 20L4 18.59l7.72-7.72 1.47 1.35L5.41 20z\"/>\n",
              "  </svg>\n",
              "      </button>\n",
              "      \n",
              "  <style>\n",
              "    .colab-df-container {\n",
              "      display:flex;\n",
              "      flex-wrap:wrap;\n",
              "      gap: 12px;\n",
              "    }\n",
              "\n",
              "    .colab-df-convert {\n",
              "      background-color: #E8F0FE;\n",
              "      border: none;\n",
              "      border-radius: 50%;\n",
              "      cursor: pointer;\n",
              "      display: none;\n",
              "      fill: #1967D2;\n",
              "      height: 32px;\n",
              "      padding: 0 0 0 0;\n",
              "      width: 32px;\n",
              "    }\n",
              "\n",
              "    .colab-df-convert:hover {\n",
              "      background-color: #E2EBFA;\n",
              "      box-shadow: 0px 1px 2px rgba(60, 64, 67, 0.3), 0px 1px 3px 1px rgba(60, 64, 67, 0.15);\n",
              "      fill: #174EA6;\n",
              "    }\n",
              "\n",
              "    [theme=dark] .colab-df-convert {\n",
              "      background-color: #3B4455;\n",
              "      fill: #D2E3FC;\n",
              "    }\n",
              "\n",
              "    [theme=dark] .colab-df-convert:hover {\n",
              "      background-color: #434B5C;\n",
              "      box-shadow: 0px 1px 3px 1px rgba(0, 0, 0, 0.15);\n",
              "      filter: drop-shadow(0px 1px 2px rgba(0, 0, 0, 0.3));\n",
              "      fill: #FFFFFF;\n",
              "    }\n",
              "  </style>\n",
              "\n",
              "      <script>\n",
              "        const buttonEl =\n",
              "          document.querySelector('#df-5436befa-d51e-41eb-91a5-75e729aed1c9 button.colab-df-convert');\n",
              "        buttonEl.style.display =\n",
              "          google.colab.kernel.accessAllowed ? 'block' : 'none';\n",
              "\n",
              "        async function convertToInteractive(key) {\n",
              "          const element = document.querySelector('#df-5436befa-d51e-41eb-91a5-75e729aed1c9');\n",
              "          const dataTable =\n",
              "            await google.colab.kernel.invokeFunction('convertToInteractive',\n",
              "                                                     [key], {});\n",
              "          if (!dataTable) return;\n",
              "\n",
              "          const docLinkHtml = 'Like what you see? Visit the ' +\n",
              "            '<a target=\"_blank\" href=https://colab.research.google.com/notebooks/data_table.ipynb>data table notebook</a>'\n",
              "            + ' to learn more about interactive tables.';\n",
              "          element.innerHTML = '';\n",
              "          dataTable['output_type'] = 'display_data';\n",
              "          await google.colab.output.renderOutput(dataTable, element);\n",
              "          const docLink = document.createElement('div');\n",
              "          docLink.innerHTML = docLinkHtml;\n",
              "          element.appendChild(docLink);\n",
              "        }\n",
              "      </script>\n",
              "    </div>\n",
              "  </div>\n",
              "  "
            ]
          },
          "metadata": {},
          "execution_count": 191
        }
      ]
    },
    {
      "cell_type": "code",
      "source": [
        "df.columns"
      ],
      "metadata": {
        "colab": {
          "base_uri": "https://localhost:8080/"
        },
        "id": "IcQl-UIE0-zi",
        "outputId": "cfbd8669-d18f-48c6-ac51-7fefd5aa5bd9"
      },
      "execution_count": 192,
      "outputs": [
        {
          "output_type": "execute_result",
          "data": {
            "text/plain": [
              "Index(['transaction_number', 'user_id', 'payment_method', 'partner_id',\n",
              "       'partner_category', 'country', 'device_type', 'money_transacted',\n",
              "       'transaction_initiation', 'partner_pricing_category', 'is_fraud'],\n",
              "      dtype='object')"
            ]
          },
          "metadata": {},
          "execution_count": 192
        }
      ]
    },
    {
      "cell_type": "code",
      "source": [
        "df.nunique()"
      ],
      "metadata": {
        "colab": {
          "base_uri": "https://localhost:8080/"
        },
        "id": "u7hT4jsh1PrY",
        "outputId": "4574a6f9-ed61-4ef5-ae99-3a6c900253f8"
      },
      "execution_count": 193,
      "outputs": [
        {
          "output_type": "execute_result",
          "data": {
            "text/plain": [
              "transaction_number          95662\n",
              "user_id                      3742\n",
              "payment_method                  6\n",
              "partner_id                     23\n",
              "partner_category                9\n",
              "country                         1\n",
              "device_type                     4\n",
              "money_transacted             1676\n",
              "transaction_initiation      94556\n",
              "partner_pricing_category        4\n",
              "is_fraud                        2\n",
              "dtype: int64"
            ]
          },
          "metadata": {},
          "execution_count": 193
        }
      ]
    },
    {
      "cell_type": "code",
      "source": [
        "df.isnull().sum()"
      ],
      "metadata": {
        "colab": {
          "base_uri": "https://localhost:8080/"
        },
        "id": "fWCwxxmZ1Y8Z",
        "outputId": "f0d4f386-8e87-4ec6-ab86-61ce2bcf18c9"
      },
      "execution_count": 194,
      "outputs": [
        {
          "output_type": "execute_result",
          "data": {
            "text/plain": [
              "transaction_number              0\n",
              "user_id                         0\n",
              "payment_method                  0\n",
              "partner_id                      0\n",
              "partner_category                0\n",
              "country                         0\n",
              "device_type                     0\n",
              "money_transacted                0\n",
              "transaction_initiation          0\n",
              "partner_pricing_category        0\n",
              "is_fraud                    19133\n",
              "dtype: int64"
            ]
          },
          "metadata": {},
          "execution_count": 194
        }
      ]
    },
    {
      "cell_type": "code",
      "source": [
        "df.drop(['transaction_number','user_id'],axis=1,inplace=True)"
      ],
      "metadata": {
        "id": "0OMUMmED1jiW"
      },
      "execution_count": 195,
      "outputs": []
    },
    {
      "cell_type": "code",
      "source": [
        "print(df['country'].unique())"
      ],
      "metadata": {
        "colab": {
          "base_uri": "https://localhost:8080/"
        },
        "id": "enGCLu5G2Te1",
        "outputId": "9a4c475f-0762-48e7-d5da-93a2ad9ee39f"
      },
      "execution_count": 196,
      "outputs": [
        {
          "output_type": "stream",
          "name": "stdout",
          "text": [
            "['IND_INR']\n"
          ]
        }
      ]
    },
    {
      "cell_type": "code",
      "source": [
        "df.drop(['country'],axis=1,inplace=True)"
      ],
      "metadata": {
        "id": "p2qwAXD42fLL"
      },
      "execution_count": 197,
      "outputs": []
    },
    {
      "cell_type": "code",
      "source": [
        "print(df['partner_id'].unique())"
      ],
      "metadata": {
        "colab": {
          "base_uri": "https://localhost:8080/"
        },
        "id": "r-dMuCt93VHs",
        "outputId": "7ca6189f-d2c6-4aa4-d98a-380438633f34"
      },
      "execution_count": 198,
      "outputs": [
        {
          "output_type": "stream",
          "name": "stdout",
          "text": [
            "[ 47334  78890 102557 118335  23667   7889  31556  86779 149891 165669\n",
            " 110446 189336  55223  63112  15778 157780 213003 173558  39445 126224\n",
            "  71001  94668 181447]\n"
          ]
        }
      ]
    },
    {
      "cell_type": "code",
      "source": [
        "print(df['partner_category'].unique())"
      ],
      "metadata": {
        "colab": {
          "base_uri": "https://localhost:8080/"
        },
        "id": "AdlvxapF3goA",
        "outputId": "d2ea2017-c553-4022-d272-61e08d66daa1"
      },
      "execution_count": 199,
      "outputs": [
        {
          "output_type": "stream",
          "name": "stdout",
          "text": [
            "['cat_1' 'cat_2' 'cat_3' 'cat_4' 'cat_5' 'cat_6' 'cat_7' 'cat_8' 'cat_9']\n"
          ]
        }
      ]
    },
    {
      "cell_type": "code",
      "source": [
        "##HAndling categorical feature Gender\n",
        "df['partner_category']=df['partner_category'].map({'cat_1':0,'cat_2':1,'cat_3':2,'cat_4':3,'cat_5':4,'cat_6':5,'cat_7':6,'cat_8':7,'cat_9':8})\n",
        "df.head(10)"
      ],
      "metadata": {
        "colab": {
          "base_uri": "https://localhost:8080/",
          "height": 363
        },
        "id": "W1fo4gaG36Wy",
        "outputId": "1da16d5f-2564-46eb-8368-a94892e40581"
      },
      "execution_count": 200,
      "outputs": [
        {
          "output_type": "execute_result",
          "data": {
            "text/plain": [
              "            payment_method  partner_id  partner_category      device_type  \\\n",
              "0   sbi_atm_cum_debit_card       47334                 0  android_devices   \n",
              "1        e_wallet_payments       78890                 1        other_pcs   \n",
              "2        e_wallet_payments       78890                 1        other_pcs   \n",
              "3        other_debit_cards      102557                 2        other_pcs   \n",
              "4        other_debit_cards      118335                 0        other_pcs   \n",
              "5  visa_master_debit_cards       23667                 1        other_pcs   \n",
              "6   sbi_atm_cum_debit_card       47334                 0  android_devices   \n",
              "7        e_wallet_payments       78890                 1        other_pcs   \n",
              "8   sbi_atm_cum_debit_card       47334                 0  android_devices   \n",
              "9        e_wallet_payments       23667                 1        other_pcs   \n",
              "\n",
              "   money_transacted     transaction_initiation  partner_pricing_category  \\\n",
              "0              -5.0  2016-11-15 19:16:12+00:00                         2   \n",
              "1             100.0  2017-01-11 09:25:33+00:00                         2   \n",
              "2              50.0  2016-12-07 07:58:09+00:00                         2   \n",
              "3            1000.0  2017-01-11 16:15:44+00:00                         2   \n",
              "4             200.0  2016-11-16 17:04:42+00:00                         2   \n",
              "5              20.0  2017-01-22 04:12:16+00:00                         4   \n",
              "6              -0.2  2016-12-03 20:15:56+00:00                         2   \n",
              "7             104.0  2016-11-16 10:17:03+00:00                         2   \n",
              "8              -0.8  2016-12-28 06:49:25+00:00                         2   \n",
              "9              10.0  2016-12-18 13:51:14+00:00                         2   \n",
              "\n",
              "   is_fraud  \n",
              "0       0.0  \n",
              "1       0.0  \n",
              "2       0.0  \n",
              "3       0.0  \n",
              "4       0.0  \n",
              "5       0.0  \n",
              "6       0.0  \n",
              "7       0.0  \n",
              "8       0.0  \n",
              "9       0.0  "
            ],
            "text/html": [
              "\n",
              "  <div id=\"df-1cde2dad-a789-4c01-9ae0-d56074e64801\">\n",
              "    <div class=\"colab-df-container\">\n",
              "      <div>\n",
              "<style scoped>\n",
              "    .dataframe tbody tr th:only-of-type {\n",
              "        vertical-align: middle;\n",
              "    }\n",
              "\n",
              "    .dataframe tbody tr th {\n",
              "        vertical-align: top;\n",
              "    }\n",
              "\n",
              "    .dataframe thead th {\n",
              "        text-align: right;\n",
              "    }\n",
              "</style>\n",
              "<table border=\"1\" class=\"dataframe\">\n",
              "  <thead>\n",
              "    <tr style=\"text-align: right;\">\n",
              "      <th></th>\n",
              "      <th>payment_method</th>\n",
              "      <th>partner_id</th>\n",
              "      <th>partner_category</th>\n",
              "      <th>device_type</th>\n",
              "      <th>money_transacted</th>\n",
              "      <th>transaction_initiation</th>\n",
              "      <th>partner_pricing_category</th>\n",
              "      <th>is_fraud</th>\n",
              "    </tr>\n",
              "  </thead>\n",
              "  <tbody>\n",
              "    <tr>\n",
              "      <th>0</th>\n",
              "      <td>sbi_atm_cum_debit_card</td>\n",
              "      <td>47334</td>\n",
              "      <td>0</td>\n",
              "      <td>android_devices</td>\n",
              "      <td>-5.0</td>\n",
              "      <td>2016-11-15 19:16:12+00:00</td>\n",
              "      <td>2</td>\n",
              "      <td>0.0</td>\n",
              "    </tr>\n",
              "    <tr>\n",
              "      <th>1</th>\n",
              "      <td>e_wallet_payments</td>\n",
              "      <td>78890</td>\n",
              "      <td>1</td>\n",
              "      <td>other_pcs</td>\n",
              "      <td>100.0</td>\n",
              "      <td>2017-01-11 09:25:33+00:00</td>\n",
              "      <td>2</td>\n",
              "      <td>0.0</td>\n",
              "    </tr>\n",
              "    <tr>\n",
              "      <th>2</th>\n",
              "      <td>e_wallet_payments</td>\n",
              "      <td>78890</td>\n",
              "      <td>1</td>\n",
              "      <td>other_pcs</td>\n",
              "      <td>50.0</td>\n",
              "      <td>2016-12-07 07:58:09+00:00</td>\n",
              "      <td>2</td>\n",
              "      <td>0.0</td>\n",
              "    </tr>\n",
              "    <tr>\n",
              "      <th>3</th>\n",
              "      <td>other_debit_cards</td>\n",
              "      <td>102557</td>\n",
              "      <td>2</td>\n",
              "      <td>other_pcs</td>\n",
              "      <td>1000.0</td>\n",
              "      <td>2017-01-11 16:15:44+00:00</td>\n",
              "      <td>2</td>\n",
              "      <td>0.0</td>\n",
              "    </tr>\n",
              "    <tr>\n",
              "      <th>4</th>\n",
              "      <td>other_debit_cards</td>\n",
              "      <td>118335</td>\n",
              "      <td>0</td>\n",
              "      <td>other_pcs</td>\n",
              "      <td>200.0</td>\n",
              "      <td>2016-11-16 17:04:42+00:00</td>\n",
              "      <td>2</td>\n",
              "      <td>0.0</td>\n",
              "    </tr>\n",
              "    <tr>\n",
              "      <th>5</th>\n",
              "      <td>visa_master_debit_cards</td>\n",
              "      <td>23667</td>\n",
              "      <td>1</td>\n",
              "      <td>other_pcs</td>\n",
              "      <td>20.0</td>\n",
              "      <td>2017-01-22 04:12:16+00:00</td>\n",
              "      <td>4</td>\n",
              "      <td>0.0</td>\n",
              "    </tr>\n",
              "    <tr>\n",
              "      <th>6</th>\n",
              "      <td>sbi_atm_cum_debit_card</td>\n",
              "      <td>47334</td>\n",
              "      <td>0</td>\n",
              "      <td>android_devices</td>\n",
              "      <td>-0.2</td>\n",
              "      <td>2016-12-03 20:15:56+00:00</td>\n",
              "      <td>2</td>\n",
              "      <td>0.0</td>\n",
              "    </tr>\n",
              "    <tr>\n",
              "      <th>7</th>\n",
              "      <td>e_wallet_payments</td>\n",
              "      <td>78890</td>\n",
              "      <td>1</td>\n",
              "      <td>other_pcs</td>\n",
              "      <td>104.0</td>\n",
              "      <td>2016-11-16 10:17:03+00:00</td>\n",
              "      <td>2</td>\n",
              "      <td>0.0</td>\n",
              "    </tr>\n",
              "    <tr>\n",
              "      <th>8</th>\n",
              "      <td>sbi_atm_cum_debit_card</td>\n",
              "      <td>47334</td>\n",
              "      <td>0</td>\n",
              "      <td>android_devices</td>\n",
              "      <td>-0.8</td>\n",
              "      <td>2016-12-28 06:49:25+00:00</td>\n",
              "      <td>2</td>\n",
              "      <td>0.0</td>\n",
              "    </tr>\n",
              "    <tr>\n",
              "      <th>9</th>\n",
              "      <td>e_wallet_payments</td>\n",
              "      <td>23667</td>\n",
              "      <td>1</td>\n",
              "      <td>other_pcs</td>\n",
              "      <td>10.0</td>\n",
              "      <td>2016-12-18 13:51:14+00:00</td>\n",
              "      <td>2</td>\n",
              "      <td>0.0</td>\n",
              "    </tr>\n",
              "  </tbody>\n",
              "</table>\n",
              "</div>\n",
              "      <button class=\"colab-df-convert\" onclick=\"convertToInteractive('df-1cde2dad-a789-4c01-9ae0-d56074e64801')\"\n",
              "              title=\"Convert this dataframe to an interactive table.\"\n",
              "              style=\"display:none;\">\n",
              "        \n",
              "  <svg xmlns=\"http://www.w3.org/2000/svg\" height=\"24px\"viewBox=\"0 0 24 24\"\n",
              "       width=\"24px\">\n",
              "    <path d=\"M0 0h24v24H0V0z\" fill=\"none\"/>\n",
              "    <path d=\"M18.56 5.44l.94 2.06.94-2.06 2.06-.94-2.06-.94-.94-2.06-.94 2.06-2.06.94zm-11 1L8.5 8.5l.94-2.06 2.06-.94-2.06-.94L8.5 2.5l-.94 2.06-2.06.94zm10 10l.94 2.06.94-2.06 2.06-.94-2.06-.94-.94-2.06-.94 2.06-2.06.94z\"/><path d=\"M17.41 7.96l-1.37-1.37c-.4-.4-.92-.59-1.43-.59-.52 0-1.04.2-1.43.59L10.3 9.45l-7.72 7.72c-.78.78-.78 2.05 0 2.83L4 21.41c.39.39.9.59 1.41.59.51 0 1.02-.2 1.41-.59l7.78-7.78 2.81-2.81c.8-.78.8-2.07 0-2.86zM5.41 20L4 18.59l7.72-7.72 1.47 1.35L5.41 20z\"/>\n",
              "  </svg>\n",
              "      </button>\n",
              "      \n",
              "  <style>\n",
              "    .colab-df-container {\n",
              "      display:flex;\n",
              "      flex-wrap:wrap;\n",
              "      gap: 12px;\n",
              "    }\n",
              "\n",
              "    .colab-df-convert {\n",
              "      background-color: #E8F0FE;\n",
              "      border: none;\n",
              "      border-radius: 50%;\n",
              "      cursor: pointer;\n",
              "      display: none;\n",
              "      fill: #1967D2;\n",
              "      height: 32px;\n",
              "      padding: 0 0 0 0;\n",
              "      width: 32px;\n",
              "    }\n",
              "\n",
              "    .colab-df-convert:hover {\n",
              "      background-color: #E2EBFA;\n",
              "      box-shadow: 0px 1px 2px rgba(60, 64, 67, 0.3), 0px 1px 3px 1px rgba(60, 64, 67, 0.15);\n",
              "      fill: #174EA6;\n",
              "    }\n",
              "\n",
              "    [theme=dark] .colab-df-convert {\n",
              "      background-color: #3B4455;\n",
              "      fill: #D2E3FC;\n",
              "    }\n",
              "\n",
              "    [theme=dark] .colab-df-convert:hover {\n",
              "      background-color: #434B5C;\n",
              "      box-shadow: 0px 1px 3px 1px rgba(0, 0, 0, 0.15);\n",
              "      filter: drop-shadow(0px 1px 2px rgba(0, 0, 0, 0.3));\n",
              "      fill: #FFFFFF;\n",
              "    }\n",
              "  </style>\n",
              "\n",
              "      <script>\n",
              "        const buttonEl =\n",
              "          document.querySelector('#df-1cde2dad-a789-4c01-9ae0-d56074e64801 button.colab-df-convert');\n",
              "        buttonEl.style.display =\n",
              "          google.colab.kernel.accessAllowed ? 'block' : 'none';\n",
              "\n",
              "        async function convertToInteractive(key) {\n",
              "          const element = document.querySelector('#df-1cde2dad-a789-4c01-9ae0-d56074e64801');\n",
              "          const dataTable =\n",
              "            await google.colab.kernel.invokeFunction('convertToInteractive',\n",
              "                                                     [key], {});\n",
              "          if (!dataTable) return;\n",
              "\n",
              "          const docLinkHtml = 'Like what you see? Visit the ' +\n",
              "            '<a target=\"_blank\" href=https://colab.research.google.com/notebooks/data_table.ipynb>data table notebook</a>'\n",
              "            + ' to learn more about interactive tables.';\n",
              "          element.innerHTML = '';\n",
              "          dataTable['output_type'] = 'display_data';\n",
              "          await google.colab.output.renderOutput(dataTable, element);\n",
              "          const docLink = document.createElement('div');\n",
              "          docLink.innerHTML = docLinkHtml;\n",
              "          element.appendChild(docLink);\n",
              "        }\n",
              "      </script>\n",
              "    </div>\n",
              "  </div>\n",
              "  "
            ]
          },
          "metadata": {},
          "execution_count": 200
        }
      ]
    },
    {
      "cell_type": "code",
      "source": [
        "print(df['payment_method'].unique())"
      ],
      "metadata": {
        "colab": {
          "base_uri": "https://localhost:8080/"
        },
        "id": "E7HCTKGb45f4",
        "outputId": "0af3780a-5c9e-4866-d0bf-597a7531f058"
      },
      "execution_count": 201,
      "outputs": [
        {
          "output_type": "stream",
          "name": "stdout",
          "text": [
            "['sbi_atm_cum_debit_card' 'e_wallet_payments' 'other_debit_cards'\n",
            " 'visa_master_debit_cards' 'visa_master_credit_cards'\n",
            " 'unified_payments_interface']\n"
          ]
        }
      ]
    },
    {
      "cell_type": "code",
      "source": [
        "print(df['payment_method'].value_counts())"
      ],
      "metadata": {
        "colab": {
          "base_uri": "https://localhost:8080/"
        },
        "id": "2oLPf6_e5HTi",
        "outputId": "d955cdf1-674b-47f1-8a45-f20af68f9ecd"
      },
      "execution_count": 202,
      "outputs": [
        {
          "output_type": "stream",
          "name": "stdout",
          "text": [
            "sbi_atm_cum_debit_card        38189\n",
            "e_wallet_payments             34186\n",
            "visa_master_debit_cards       14542\n",
            "other_debit_cards              5643\n",
            "visa_master_credit_cards       3084\n",
            "unified_payments_interface       18\n",
            "Name: payment_method, dtype: int64\n"
          ]
        }
      ]
    },
    {
      "cell_type": "code",
      "source": [
        "##HAndling categorical feature \n",
        "df['payment_method']=df['payment_method'].map({'sbi_atm_cum_debit_card':1,'e_wallet_payments':2,'visa_master_debit_cards':3,'other_debit_cards':4,'visa_master_credit_cards':5,'unified_payments_interface':6})\n",
        "df.head(10)"
      ],
      "metadata": {
        "colab": {
          "base_uri": "https://localhost:8080/",
          "height": 363
        },
        "id": "_7ak2CB-5Pqo",
        "outputId": "3b38f085-498c-4150-a4dd-d91035ba85c4"
      },
      "execution_count": 203,
      "outputs": [
        {
          "output_type": "execute_result",
          "data": {
            "text/plain": [
              "   payment_method  partner_id  partner_category      device_type  \\\n",
              "0               1       47334                 0  android_devices   \n",
              "1               2       78890                 1        other_pcs   \n",
              "2               2       78890                 1        other_pcs   \n",
              "3               4      102557                 2        other_pcs   \n",
              "4               4      118335                 0        other_pcs   \n",
              "5               3       23667                 1        other_pcs   \n",
              "6               1       47334                 0  android_devices   \n",
              "7               2       78890                 1        other_pcs   \n",
              "8               1       47334                 0  android_devices   \n",
              "9               2       23667                 1        other_pcs   \n",
              "\n",
              "   money_transacted     transaction_initiation  partner_pricing_category  \\\n",
              "0              -5.0  2016-11-15 19:16:12+00:00                         2   \n",
              "1             100.0  2017-01-11 09:25:33+00:00                         2   \n",
              "2              50.0  2016-12-07 07:58:09+00:00                         2   \n",
              "3            1000.0  2017-01-11 16:15:44+00:00                         2   \n",
              "4             200.0  2016-11-16 17:04:42+00:00                         2   \n",
              "5              20.0  2017-01-22 04:12:16+00:00                         4   \n",
              "6              -0.2  2016-12-03 20:15:56+00:00                         2   \n",
              "7             104.0  2016-11-16 10:17:03+00:00                         2   \n",
              "8              -0.8  2016-12-28 06:49:25+00:00                         2   \n",
              "9              10.0  2016-12-18 13:51:14+00:00                         2   \n",
              "\n",
              "   is_fraud  \n",
              "0       0.0  \n",
              "1       0.0  \n",
              "2       0.0  \n",
              "3       0.0  \n",
              "4       0.0  \n",
              "5       0.0  \n",
              "6       0.0  \n",
              "7       0.0  \n",
              "8       0.0  \n",
              "9       0.0  "
            ],
            "text/html": [
              "\n",
              "  <div id=\"df-faf20fa8-ee03-4f51-b5aa-5849093fec66\">\n",
              "    <div class=\"colab-df-container\">\n",
              "      <div>\n",
              "<style scoped>\n",
              "    .dataframe tbody tr th:only-of-type {\n",
              "        vertical-align: middle;\n",
              "    }\n",
              "\n",
              "    .dataframe tbody tr th {\n",
              "        vertical-align: top;\n",
              "    }\n",
              "\n",
              "    .dataframe thead th {\n",
              "        text-align: right;\n",
              "    }\n",
              "</style>\n",
              "<table border=\"1\" class=\"dataframe\">\n",
              "  <thead>\n",
              "    <tr style=\"text-align: right;\">\n",
              "      <th></th>\n",
              "      <th>payment_method</th>\n",
              "      <th>partner_id</th>\n",
              "      <th>partner_category</th>\n",
              "      <th>device_type</th>\n",
              "      <th>money_transacted</th>\n",
              "      <th>transaction_initiation</th>\n",
              "      <th>partner_pricing_category</th>\n",
              "      <th>is_fraud</th>\n",
              "    </tr>\n",
              "  </thead>\n",
              "  <tbody>\n",
              "    <tr>\n",
              "      <th>0</th>\n",
              "      <td>1</td>\n",
              "      <td>47334</td>\n",
              "      <td>0</td>\n",
              "      <td>android_devices</td>\n",
              "      <td>-5.0</td>\n",
              "      <td>2016-11-15 19:16:12+00:00</td>\n",
              "      <td>2</td>\n",
              "      <td>0.0</td>\n",
              "    </tr>\n",
              "    <tr>\n",
              "      <th>1</th>\n",
              "      <td>2</td>\n",
              "      <td>78890</td>\n",
              "      <td>1</td>\n",
              "      <td>other_pcs</td>\n",
              "      <td>100.0</td>\n",
              "      <td>2017-01-11 09:25:33+00:00</td>\n",
              "      <td>2</td>\n",
              "      <td>0.0</td>\n",
              "    </tr>\n",
              "    <tr>\n",
              "      <th>2</th>\n",
              "      <td>2</td>\n",
              "      <td>78890</td>\n",
              "      <td>1</td>\n",
              "      <td>other_pcs</td>\n",
              "      <td>50.0</td>\n",
              "      <td>2016-12-07 07:58:09+00:00</td>\n",
              "      <td>2</td>\n",
              "      <td>0.0</td>\n",
              "    </tr>\n",
              "    <tr>\n",
              "      <th>3</th>\n",
              "      <td>4</td>\n",
              "      <td>102557</td>\n",
              "      <td>2</td>\n",
              "      <td>other_pcs</td>\n",
              "      <td>1000.0</td>\n",
              "      <td>2017-01-11 16:15:44+00:00</td>\n",
              "      <td>2</td>\n",
              "      <td>0.0</td>\n",
              "    </tr>\n",
              "    <tr>\n",
              "      <th>4</th>\n",
              "      <td>4</td>\n",
              "      <td>118335</td>\n",
              "      <td>0</td>\n",
              "      <td>other_pcs</td>\n",
              "      <td>200.0</td>\n",
              "      <td>2016-11-16 17:04:42+00:00</td>\n",
              "      <td>2</td>\n",
              "      <td>0.0</td>\n",
              "    </tr>\n",
              "    <tr>\n",
              "      <th>5</th>\n",
              "      <td>3</td>\n",
              "      <td>23667</td>\n",
              "      <td>1</td>\n",
              "      <td>other_pcs</td>\n",
              "      <td>20.0</td>\n",
              "      <td>2017-01-22 04:12:16+00:00</td>\n",
              "      <td>4</td>\n",
              "      <td>0.0</td>\n",
              "    </tr>\n",
              "    <tr>\n",
              "      <th>6</th>\n",
              "      <td>1</td>\n",
              "      <td>47334</td>\n",
              "      <td>0</td>\n",
              "      <td>android_devices</td>\n",
              "      <td>-0.2</td>\n",
              "      <td>2016-12-03 20:15:56+00:00</td>\n",
              "      <td>2</td>\n",
              "      <td>0.0</td>\n",
              "    </tr>\n",
              "    <tr>\n",
              "      <th>7</th>\n",
              "      <td>2</td>\n",
              "      <td>78890</td>\n",
              "      <td>1</td>\n",
              "      <td>other_pcs</td>\n",
              "      <td>104.0</td>\n",
              "      <td>2016-11-16 10:17:03+00:00</td>\n",
              "      <td>2</td>\n",
              "      <td>0.0</td>\n",
              "    </tr>\n",
              "    <tr>\n",
              "      <th>8</th>\n",
              "      <td>1</td>\n",
              "      <td>47334</td>\n",
              "      <td>0</td>\n",
              "      <td>android_devices</td>\n",
              "      <td>-0.8</td>\n",
              "      <td>2016-12-28 06:49:25+00:00</td>\n",
              "      <td>2</td>\n",
              "      <td>0.0</td>\n",
              "    </tr>\n",
              "    <tr>\n",
              "      <th>9</th>\n",
              "      <td>2</td>\n",
              "      <td>23667</td>\n",
              "      <td>1</td>\n",
              "      <td>other_pcs</td>\n",
              "      <td>10.0</td>\n",
              "      <td>2016-12-18 13:51:14+00:00</td>\n",
              "      <td>2</td>\n",
              "      <td>0.0</td>\n",
              "    </tr>\n",
              "  </tbody>\n",
              "</table>\n",
              "</div>\n",
              "      <button class=\"colab-df-convert\" onclick=\"convertToInteractive('df-faf20fa8-ee03-4f51-b5aa-5849093fec66')\"\n",
              "              title=\"Convert this dataframe to an interactive table.\"\n",
              "              style=\"display:none;\">\n",
              "        \n",
              "  <svg xmlns=\"http://www.w3.org/2000/svg\" height=\"24px\"viewBox=\"0 0 24 24\"\n",
              "       width=\"24px\">\n",
              "    <path d=\"M0 0h24v24H0V0z\" fill=\"none\"/>\n",
              "    <path d=\"M18.56 5.44l.94 2.06.94-2.06 2.06-.94-2.06-.94-.94-2.06-.94 2.06-2.06.94zm-11 1L8.5 8.5l.94-2.06 2.06-.94-2.06-.94L8.5 2.5l-.94 2.06-2.06.94zm10 10l.94 2.06.94-2.06 2.06-.94-2.06-.94-.94-2.06-.94 2.06-2.06.94z\"/><path d=\"M17.41 7.96l-1.37-1.37c-.4-.4-.92-.59-1.43-.59-.52 0-1.04.2-1.43.59L10.3 9.45l-7.72 7.72c-.78.78-.78 2.05 0 2.83L4 21.41c.39.39.9.59 1.41.59.51 0 1.02-.2 1.41-.59l7.78-7.78 2.81-2.81c.8-.78.8-2.07 0-2.86zM5.41 20L4 18.59l7.72-7.72 1.47 1.35L5.41 20z\"/>\n",
              "  </svg>\n",
              "      </button>\n",
              "      \n",
              "  <style>\n",
              "    .colab-df-container {\n",
              "      display:flex;\n",
              "      flex-wrap:wrap;\n",
              "      gap: 12px;\n",
              "    }\n",
              "\n",
              "    .colab-df-convert {\n",
              "      background-color: #E8F0FE;\n",
              "      border: none;\n",
              "      border-radius: 50%;\n",
              "      cursor: pointer;\n",
              "      display: none;\n",
              "      fill: #1967D2;\n",
              "      height: 32px;\n",
              "      padding: 0 0 0 0;\n",
              "      width: 32px;\n",
              "    }\n",
              "\n",
              "    .colab-df-convert:hover {\n",
              "      background-color: #E2EBFA;\n",
              "      box-shadow: 0px 1px 2px rgba(60, 64, 67, 0.3), 0px 1px 3px 1px rgba(60, 64, 67, 0.15);\n",
              "      fill: #174EA6;\n",
              "    }\n",
              "\n",
              "    [theme=dark] .colab-df-convert {\n",
              "      background-color: #3B4455;\n",
              "      fill: #D2E3FC;\n",
              "    }\n",
              "\n",
              "    [theme=dark] .colab-df-convert:hover {\n",
              "      background-color: #434B5C;\n",
              "      box-shadow: 0px 1px 3px 1px rgba(0, 0, 0, 0.15);\n",
              "      filter: drop-shadow(0px 1px 2px rgba(0, 0, 0, 0.3));\n",
              "      fill: #FFFFFF;\n",
              "    }\n",
              "  </style>\n",
              "\n",
              "      <script>\n",
              "        const buttonEl =\n",
              "          document.querySelector('#df-faf20fa8-ee03-4f51-b5aa-5849093fec66 button.colab-df-convert');\n",
              "        buttonEl.style.display =\n",
              "          google.colab.kernel.accessAllowed ? 'block' : 'none';\n",
              "\n",
              "        async function convertToInteractive(key) {\n",
              "          const element = document.querySelector('#df-faf20fa8-ee03-4f51-b5aa-5849093fec66');\n",
              "          const dataTable =\n",
              "            await google.colab.kernel.invokeFunction('convertToInteractive',\n",
              "                                                     [key], {});\n",
              "          if (!dataTable) return;\n",
              "\n",
              "          const docLinkHtml = 'Like what you see? Visit the ' +\n",
              "            '<a target=\"_blank\" href=https://colab.research.google.com/notebooks/data_table.ipynb>data table notebook</a>'\n",
              "            + ' to learn more about interactive tables.';\n",
              "          element.innerHTML = '';\n",
              "          dataTable['output_type'] = 'display_data';\n",
              "          await google.colab.output.renderOutput(dataTable, element);\n",
              "          const docLink = document.createElement('div');\n",
              "          docLink.innerHTML = docLinkHtml;\n",
              "          element.appendChild(docLink);\n",
              "        }\n",
              "      </script>\n",
              "    </div>\n",
              "  </div>\n",
              "  "
            ]
          },
          "metadata": {},
          "execution_count": 203
        }
      ]
    },
    {
      "cell_type": "code",
      "source": [
        "df.dtypes"
      ],
      "metadata": {
        "colab": {
          "base_uri": "https://localhost:8080/"
        },
        "id": "FX1zmT2F7RUk",
        "outputId": "219dd94f-1342-4ede-cc11-2608bebbd535"
      },
      "execution_count": 204,
      "outputs": [
        {
          "output_type": "execute_result",
          "data": {
            "text/plain": [
              "payment_method                int64\n",
              "partner_id                    int64\n",
              "partner_category              int64\n",
              "device_type                  object\n",
              "money_transacted            float64\n",
              "transaction_initiation       object\n",
              "partner_pricing_category      int64\n",
              "is_fraud                    float64\n",
              "dtype: object"
            ]
          },
          "metadata": {},
          "execution_count": 204
        }
      ]
    },
    {
      "cell_type": "code",
      "source": [
        "print(df['device_type'].unique())"
      ],
      "metadata": {
        "colab": {
          "base_uri": "https://localhost:8080/"
        },
        "id": "iXPJ_-RA6_HH",
        "outputId": "5ae25c62-4772-4c7c-ed68-b147ebc4bbc3"
      },
      "execution_count": 205,
      "outputs": [
        {
          "output_type": "stream",
          "name": "stdout",
          "text": [
            "['android_devices' 'other_pcs' 'windows_pcs' 'ios_devices']\n"
          ]
        }
      ]
    },
    {
      "cell_type": "code",
      "source": [
        "print(df['device_type'].value_counts())"
      ],
      "metadata": {
        "colab": {
          "base_uri": "https://localhost:8080/"
        },
        "id": "EIR_vJY-7Zg3",
        "outputId": "f74830ae-6e23-4fd7-db18-6164b7d1ec2f"
      },
      "execution_count": 206,
      "outputs": [
        {
          "output_type": "stream",
          "name": "stdout",
          "text": [
            "other_pcs          56935\n",
            "android_devices    37141\n",
            "ios_devices         1048\n",
            "windows_pcs          538\n",
            "Name: device_type, dtype: int64\n"
          ]
        }
      ]
    },
    {
      "cell_type": "code",
      "source": [
        "df=pd.get_dummies(df, drop_first = True, columns = ['device_type'] )"
      ],
      "metadata": {
        "id": "H5KSCBGV7gH2"
      },
      "execution_count": 207,
      "outputs": []
    },
    {
      "cell_type": "code",
      "source": [
        "df.head(2)"
      ],
      "metadata": {
        "colab": {
          "base_uri": "https://localhost:8080/",
          "height": 211
        },
        "id": "DBD1xpj47vFn",
        "outputId": "ede753c3-0d86-438f-cb4e-354a6f6568f2"
      },
      "execution_count": 208,
      "outputs": [
        {
          "output_type": "execute_result",
          "data": {
            "text/plain": [
              "   payment_method  partner_id  partner_category  money_transacted  \\\n",
              "0               1       47334                 0              -5.0   \n",
              "1               2       78890                 1             100.0   \n",
              "\n",
              "      transaction_initiation  partner_pricing_category  is_fraud  \\\n",
              "0  2016-11-15 19:16:12+00:00                         2       0.0   \n",
              "1  2017-01-11 09:25:33+00:00                         2       0.0   \n",
              "\n",
              "   device_type_ios_devices  device_type_other_pcs  device_type_windows_pcs  \n",
              "0                        0                      0                        0  \n",
              "1                        0                      1                        0  "
            ],
            "text/html": [
              "\n",
              "  <div id=\"df-165c3b36-1098-4a30-a6f4-ef67beab7ad1\">\n",
              "    <div class=\"colab-df-container\">\n",
              "      <div>\n",
              "<style scoped>\n",
              "    .dataframe tbody tr th:only-of-type {\n",
              "        vertical-align: middle;\n",
              "    }\n",
              "\n",
              "    .dataframe tbody tr th {\n",
              "        vertical-align: top;\n",
              "    }\n",
              "\n",
              "    .dataframe thead th {\n",
              "        text-align: right;\n",
              "    }\n",
              "</style>\n",
              "<table border=\"1\" class=\"dataframe\">\n",
              "  <thead>\n",
              "    <tr style=\"text-align: right;\">\n",
              "      <th></th>\n",
              "      <th>payment_method</th>\n",
              "      <th>partner_id</th>\n",
              "      <th>partner_category</th>\n",
              "      <th>money_transacted</th>\n",
              "      <th>transaction_initiation</th>\n",
              "      <th>partner_pricing_category</th>\n",
              "      <th>is_fraud</th>\n",
              "      <th>device_type_ios_devices</th>\n",
              "      <th>device_type_other_pcs</th>\n",
              "      <th>device_type_windows_pcs</th>\n",
              "    </tr>\n",
              "  </thead>\n",
              "  <tbody>\n",
              "    <tr>\n",
              "      <th>0</th>\n",
              "      <td>1</td>\n",
              "      <td>47334</td>\n",
              "      <td>0</td>\n",
              "      <td>-5.0</td>\n",
              "      <td>2016-11-15 19:16:12+00:00</td>\n",
              "      <td>2</td>\n",
              "      <td>0.0</td>\n",
              "      <td>0</td>\n",
              "      <td>0</td>\n",
              "      <td>0</td>\n",
              "    </tr>\n",
              "    <tr>\n",
              "      <th>1</th>\n",
              "      <td>2</td>\n",
              "      <td>78890</td>\n",
              "      <td>1</td>\n",
              "      <td>100.0</td>\n",
              "      <td>2017-01-11 09:25:33+00:00</td>\n",
              "      <td>2</td>\n",
              "      <td>0.0</td>\n",
              "      <td>0</td>\n",
              "      <td>1</td>\n",
              "      <td>0</td>\n",
              "    </tr>\n",
              "  </tbody>\n",
              "</table>\n",
              "</div>\n",
              "      <button class=\"colab-df-convert\" onclick=\"convertToInteractive('df-165c3b36-1098-4a30-a6f4-ef67beab7ad1')\"\n",
              "              title=\"Convert this dataframe to an interactive table.\"\n",
              "              style=\"display:none;\">\n",
              "        \n",
              "  <svg xmlns=\"http://www.w3.org/2000/svg\" height=\"24px\"viewBox=\"0 0 24 24\"\n",
              "       width=\"24px\">\n",
              "    <path d=\"M0 0h24v24H0V0z\" fill=\"none\"/>\n",
              "    <path d=\"M18.56 5.44l.94 2.06.94-2.06 2.06-.94-2.06-.94-.94-2.06-.94 2.06-2.06.94zm-11 1L8.5 8.5l.94-2.06 2.06-.94-2.06-.94L8.5 2.5l-.94 2.06-2.06.94zm10 10l.94 2.06.94-2.06 2.06-.94-2.06-.94-.94-2.06-.94 2.06-2.06.94z\"/><path d=\"M17.41 7.96l-1.37-1.37c-.4-.4-.92-.59-1.43-.59-.52 0-1.04.2-1.43.59L10.3 9.45l-7.72 7.72c-.78.78-.78 2.05 0 2.83L4 21.41c.39.39.9.59 1.41.59.51 0 1.02-.2 1.41-.59l7.78-7.78 2.81-2.81c.8-.78.8-2.07 0-2.86zM5.41 20L4 18.59l7.72-7.72 1.47 1.35L5.41 20z\"/>\n",
              "  </svg>\n",
              "      </button>\n",
              "      \n",
              "  <style>\n",
              "    .colab-df-container {\n",
              "      display:flex;\n",
              "      flex-wrap:wrap;\n",
              "      gap: 12px;\n",
              "    }\n",
              "\n",
              "    .colab-df-convert {\n",
              "      background-color: #E8F0FE;\n",
              "      border: none;\n",
              "      border-radius: 50%;\n",
              "      cursor: pointer;\n",
              "      display: none;\n",
              "      fill: #1967D2;\n",
              "      height: 32px;\n",
              "      padding: 0 0 0 0;\n",
              "      width: 32px;\n",
              "    }\n",
              "\n",
              "    .colab-df-convert:hover {\n",
              "      background-color: #E2EBFA;\n",
              "      box-shadow: 0px 1px 2px rgba(60, 64, 67, 0.3), 0px 1px 3px 1px rgba(60, 64, 67, 0.15);\n",
              "      fill: #174EA6;\n",
              "    }\n",
              "\n",
              "    [theme=dark] .colab-df-convert {\n",
              "      background-color: #3B4455;\n",
              "      fill: #D2E3FC;\n",
              "    }\n",
              "\n",
              "    [theme=dark] .colab-df-convert:hover {\n",
              "      background-color: #434B5C;\n",
              "      box-shadow: 0px 1px 3px 1px rgba(0, 0, 0, 0.15);\n",
              "      filter: drop-shadow(0px 1px 2px rgba(0, 0, 0, 0.3));\n",
              "      fill: #FFFFFF;\n",
              "    }\n",
              "  </style>\n",
              "\n",
              "      <script>\n",
              "        const buttonEl =\n",
              "          document.querySelector('#df-165c3b36-1098-4a30-a6f4-ef67beab7ad1 button.colab-df-convert');\n",
              "        buttonEl.style.display =\n",
              "          google.colab.kernel.accessAllowed ? 'block' : 'none';\n",
              "\n",
              "        async function convertToInteractive(key) {\n",
              "          const element = document.querySelector('#df-165c3b36-1098-4a30-a6f4-ef67beab7ad1');\n",
              "          const dataTable =\n",
              "            await google.colab.kernel.invokeFunction('convertToInteractive',\n",
              "                                                     [key], {});\n",
              "          if (!dataTable) return;\n",
              "\n",
              "          const docLinkHtml = 'Like what you see? Visit the ' +\n",
              "            '<a target=\"_blank\" href=https://colab.research.google.com/notebooks/data_table.ipynb>data table notebook</a>'\n",
              "            + ' to learn more about interactive tables.';\n",
              "          element.innerHTML = '';\n",
              "          dataTable['output_type'] = 'display_data';\n",
              "          await google.colab.output.renderOutput(dataTable, element);\n",
              "          const docLink = document.createElement('div');\n",
              "          docLink.innerHTML = docLinkHtml;\n",
              "          element.appendChild(docLink);\n",
              "        }\n",
              "      </script>\n",
              "    </div>\n",
              "  </div>\n",
              "  "
            ]
          },
          "metadata": {},
          "execution_count": 208
        }
      ]
    },
    {
      "cell_type": "code",
      "source": [
        "df.dtypes"
      ],
      "metadata": {
        "colab": {
          "base_uri": "https://localhost:8080/"
        },
        "id": "LHGm90fj72Aj",
        "outputId": "d1d2431b-3da8-4844-cd45-b3973054406b"
      },
      "execution_count": 209,
      "outputs": [
        {
          "output_type": "execute_result",
          "data": {
            "text/plain": [
              "payment_method                int64\n",
              "partner_id                    int64\n",
              "partner_category              int64\n",
              "money_transacted            float64\n",
              "transaction_initiation       object\n",
              "partner_pricing_category      int64\n",
              "is_fraud                    float64\n",
              "device_type_ios_devices       uint8\n",
              "device_type_other_pcs         uint8\n",
              "device_type_windows_pcs       uint8\n",
              "dtype: object"
            ]
          },
          "metadata": {},
          "execution_count": 209
        }
      ]
    },
    {
      "cell_type": "code",
      "source": [
        "df['device_type_ios_devices']=df['device_type_ios_devices'].astype(int)\n",
        "df['device_type_other_pcs']=df['device_type_other_pcs'].astype(int)\n",
        "df['device_type_windows_pcs']=df['device_type_windows_pcs'].astype(int)\n"
      ],
      "metadata": {
        "id": "yC5Ssrb48BPX"
      },
      "execution_count": 210,
      "outputs": []
    },
    {
      "cell_type": "code",
      "source": [
        "df.dtypes"
      ],
      "metadata": {
        "colab": {
          "base_uri": "https://localhost:8080/"
        },
        "id": "5cil9LZH8NPq",
        "outputId": "7933544d-507c-4a67-dca6-03413a624e2c"
      },
      "execution_count": 211,
      "outputs": [
        {
          "output_type": "execute_result",
          "data": {
            "text/plain": [
              "payment_method                int64\n",
              "partner_id                    int64\n",
              "partner_category              int64\n",
              "money_transacted            float64\n",
              "transaction_initiation       object\n",
              "partner_pricing_category      int64\n",
              "is_fraud                    float64\n",
              "device_type_ios_devices       int64\n",
              "device_type_other_pcs         int64\n",
              "device_type_windows_pcs       int64\n",
              "dtype: object"
            ]
          },
          "metadata": {},
          "execution_count": 211
        }
      ]
    },
    {
      "cell_type": "code",
      "source": [
        "print(df['transaction_initiation'].unique())"
      ],
      "metadata": {
        "colab": {
          "base_uri": "https://localhost:8080/"
        },
        "id": "TT6OkWZJ8cBk",
        "outputId": "9229d7d2-c0a9-4c36-f696-0033c0470f26"
      },
      "execution_count": 212,
      "outputs": [
        {
          "output_type": "stream",
          "name": "stdout",
          "text": [
            "['2016-11-15 19:16:12+00:00' '2017-01-11 09:25:33+00:00'\n",
            " '2016-12-07 07:58:09+00:00' ... '2016-12-24 04:29:06+00:00'\n",
            " '2016-12-04 15:38:47+00:00' '2017-01-12 21:24:24+00:00']\n"
          ]
        }
      ]
    },
    {
      "cell_type": "code",
      "source": [
        "print(df['transaction_initiation'].value_counts())"
      ],
      "metadata": {
        "colab": {
          "base_uri": "https://localhost:8080/"
        },
        "id": "wDIev-oZ8hT4",
        "outputId": "c258445e-73cc-4f0c-b552-a5a7d6013614"
      },
      "execution_count": 213,
      "outputs": [
        {
          "output_type": "stream",
          "name": "stdout",
          "text": [
            "2016-12-24 16:30:13+00:00    17\n",
            "2016-11-15 07:03:26+00:00     9\n",
            "2016-12-07 13:09:44+00:00     6\n",
            "2016-12-24 16:30:12+00:00     6\n",
            "2016-11-15 07:03:27+00:00     5\n",
            "                             ..\n",
            "2017-01-27 14:26:41+00:00     1\n",
            "2016-12-19 20:33:25+00:00     1\n",
            "2016-11-16 08:49:26+00:00     1\n",
            "2016-12-21 09:35:38+00:00     1\n",
            "2017-01-12 21:24:24+00:00     1\n",
            "Name: transaction_initiation, Length: 94556, dtype: int64\n"
          ]
        }
      ]
    },
    {
      "cell_type": "code",
      "source": [
        "type('transaction_initiation')"
      ],
      "metadata": {
        "colab": {
          "base_uri": "https://localhost:8080/"
        },
        "id": "Otatu3tG8vlw",
        "outputId": "47f72975-9533-4423-c6bd-be5b64968ae2"
      },
      "execution_count": 214,
      "outputs": [
        {
          "output_type": "execute_result",
          "data": {
            "text/plain": [
              "str"
            ]
          },
          "metadata": {},
          "execution_count": 214
        }
      ]
    },
    {
      "cell_type": "code",
      "source": [],
      "metadata": {
        "id": "OnZdFkkSCNrl"
      },
      "execution_count": 214,
      "outputs": []
    },
    {
      "cell_type": "code",
      "source": [],
      "metadata": {
        "id": "ak2R6ySzCNkw"
      },
      "execution_count": 214,
      "outputs": []
    },
    {
      "cell_type": "code",
      "source": [],
      "metadata": {
        "id": "-FYgohJfCNi6"
      },
      "execution_count": 214,
      "outputs": []
    },
    {
      "cell_type": "code",
      "source": [
        "df['transaction_initiation']=df['transaction_initiation'].str.split(' ').str[0]"
      ],
      "metadata": {
        "id": "P_-oyZBJ-hCR"
      },
      "execution_count": 215,
      "outputs": []
    },
    {
      "cell_type": "code",
      "source": [
        "df.head()"
      ],
      "metadata": {
        "colab": {
          "base_uri": "https://localhost:8080/",
          "height": 270
        },
        "id": "EMa6j4-T__C3",
        "outputId": "b29d0210-558a-4f7e-901d-3fb62caf1293"
      },
      "execution_count": 216,
      "outputs": [
        {
          "output_type": "execute_result",
          "data": {
            "text/plain": [
              "   payment_method  partner_id  partner_category  money_transacted  \\\n",
              "0               1       47334                 0              -5.0   \n",
              "1               2       78890                 1             100.0   \n",
              "2               2       78890                 1              50.0   \n",
              "3               4      102557                 2            1000.0   \n",
              "4               4      118335                 0             200.0   \n",
              "\n",
              "  transaction_initiation  partner_pricing_category  is_fraud  \\\n",
              "0             2016-11-15                         2       0.0   \n",
              "1             2017-01-11                         2       0.0   \n",
              "2             2016-12-07                         2       0.0   \n",
              "3             2017-01-11                         2       0.0   \n",
              "4             2016-11-16                         2       0.0   \n",
              "\n",
              "   device_type_ios_devices  device_type_other_pcs  device_type_windows_pcs  \n",
              "0                        0                      0                        0  \n",
              "1                        0                      1                        0  \n",
              "2                        0                      1                        0  \n",
              "3                        0                      1                        0  \n",
              "4                        0                      1                        0  "
            ],
            "text/html": [
              "\n",
              "  <div id=\"df-674b1e31-e07e-4c6d-9237-dd5371a283a9\">\n",
              "    <div class=\"colab-df-container\">\n",
              "      <div>\n",
              "<style scoped>\n",
              "    .dataframe tbody tr th:only-of-type {\n",
              "        vertical-align: middle;\n",
              "    }\n",
              "\n",
              "    .dataframe tbody tr th {\n",
              "        vertical-align: top;\n",
              "    }\n",
              "\n",
              "    .dataframe thead th {\n",
              "        text-align: right;\n",
              "    }\n",
              "</style>\n",
              "<table border=\"1\" class=\"dataframe\">\n",
              "  <thead>\n",
              "    <tr style=\"text-align: right;\">\n",
              "      <th></th>\n",
              "      <th>payment_method</th>\n",
              "      <th>partner_id</th>\n",
              "      <th>partner_category</th>\n",
              "      <th>money_transacted</th>\n",
              "      <th>transaction_initiation</th>\n",
              "      <th>partner_pricing_category</th>\n",
              "      <th>is_fraud</th>\n",
              "      <th>device_type_ios_devices</th>\n",
              "      <th>device_type_other_pcs</th>\n",
              "      <th>device_type_windows_pcs</th>\n",
              "    </tr>\n",
              "  </thead>\n",
              "  <tbody>\n",
              "    <tr>\n",
              "      <th>0</th>\n",
              "      <td>1</td>\n",
              "      <td>47334</td>\n",
              "      <td>0</td>\n",
              "      <td>-5.0</td>\n",
              "      <td>2016-11-15</td>\n",
              "      <td>2</td>\n",
              "      <td>0.0</td>\n",
              "      <td>0</td>\n",
              "      <td>0</td>\n",
              "      <td>0</td>\n",
              "    </tr>\n",
              "    <tr>\n",
              "      <th>1</th>\n",
              "      <td>2</td>\n",
              "      <td>78890</td>\n",
              "      <td>1</td>\n",
              "      <td>100.0</td>\n",
              "      <td>2017-01-11</td>\n",
              "      <td>2</td>\n",
              "      <td>0.0</td>\n",
              "      <td>0</td>\n",
              "      <td>1</td>\n",
              "      <td>0</td>\n",
              "    </tr>\n",
              "    <tr>\n",
              "      <th>2</th>\n",
              "      <td>2</td>\n",
              "      <td>78890</td>\n",
              "      <td>1</td>\n",
              "      <td>50.0</td>\n",
              "      <td>2016-12-07</td>\n",
              "      <td>2</td>\n",
              "      <td>0.0</td>\n",
              "      <td>0</td>\n",
              "      <td>1</td>\n",
              "      <td>0</td>\n",
              "    </tr>\n",
              "    <tr>\n",
              "      <th>3</th>\n",
              "      <td>4</td>\n",
              "      <td>102557</td>\n",
              "      <td>2</td>\n",
              "      <td>1000.0</td>\n",
              "      <td>2017-01-11</td>\n",
              "      <td>2</td>\n",
              "      <td>0.0</td>\n",
              "      <td>0</td>\n",
              "      <td>1</td>\n",
              "      <td>0</td>\n",
              "    </tr>\n",
              "    <tr>\n",
              "      <th>4</th>\n",
              "      <td>4</td>\n",
              "      <td>118335</td>\n",
              "      <td>0</td>\n",
              "      <td>200.0</td>\n",
              "      <td>2016-11-16</td>\n",
              "      <td>2</td>\n",
              "      <td>0.0</td>\n",
              "      <td>0</td>\n",
              "      <td>1</td>\n",
              "      <td>0</td>\n",
              "    </tr>\n",
              "  </tbody>\n",
              "</table>\n",
              "</div>\n",
              "      <button class=\"colab-df-convert\" onclick=\"convertToInteractive('df-674b1e31-e07e-4c6d-9237-dd5371a283a9')\"\n",
              "              title=\"Convert this dataframe to an interactive table.\"\n",
              "              style=\"display:none;\">\n",
              "        \n",
              "  <svg xmlns=\"http://www.w3.org/2000/svg\" height=\"24px\"viewBox=\"0 0 24 24\"\n",
              "       width=\"24px\">\n",
              "    <path d=\"M0 0h24v24H0V0z\" fill=\"none\"/>\n",
              "    <path d=\"M18.56 5.44l.94 2.06.94-2.06 2.06-.94-2.06-.94-.94-2.06-.94 2.06-2.06.94zm-11 1L8.5 8.5l.94-2.06 2.06-.94-2.06-.94L8.5 2.5l-.94 2.06-2.06.94zm10 10l.94 2.06.94-2.06 2.06-.94-2.06-.94-.94-2.06-.94 2.06-2.06.94z\"/><path d=\"M17.41 7.96l-1.37-1.37c-.4-.4-.92-.59-1.43-.59-.52 0-1.04.2-1.43.59L10.3 9.45l-7.72 7.72c-.78.78-.78 2.05 0 2.83L4 21.41c.39.39.9.59 1.41.59.51 0 1.02-.2 1.41-.59l7.78-7.78 2.81-2.81c.8-.78.8-2.07 0-2.86zM5.41 20L4 18.59l7.72-7.72 1.47 1.35L5.41 20z\"/>\n",
              "  </svg>\n",
              "      </button>\n",
              "      \n",
              "  <style>\n",
              "    .colab-df-container {\n",
              "      display:flex;\n",
              "      flex-wrap:wrap;\n",
              "      gap: 12px;\n",
              "    }\n",
              "\n",
              "    .colab-df-convert {\n",
              "      background-color: #E8F0FE;\n",
              "      border: none;\n",
              "      border-radius: 50%;\n",
              "      cursor: pointer;\n",
              "      display: none;\n",
              "      fill: #1967D2;\n",
              "      height: 32px;\n",
              "      padding: 0 0 0 0;\n",
              "      width: 32px;\n",
              "    }\n",
              "\n",
              "    .colab-df-convert:hover {\n",
              "      background-color: #E2EBFA;\n",
              "      box-shadow: 0px 1px 2px rgba(60, 64, 67, 0.3), 0px 1px 3px 1px rgba(60, 64, 67, 0.15);\n",
              "      fill: #174EA6;\n",
              "    }\n",
              "\n",
              "    [theme=dark] .colab-df-convert {\n",
              "      background-color: #3B4455;\n",
              "      fill: #D2E3FC;\n",
              "    }\n",
              "\n",
              "    [theme=dark] .colab-df-convert:hover {\n",
              "      background-color: #434B5C;\n",
              "      box-shadow: 0px 1px 3px 1px rgba(0, 0, 0, 0.15);\n",
              "      filter: drop-shadow(0px 1px 2px rgba(0, 0, 0, 0.3));\n",
              "      fill: #FFFFFF;\n",
              "    }\n",
              "  </style>\n",
              "\n",
              "      <script>\n",
              "        const buttonEl =\n",
              "          document.querySelector('#df-674b1e31-e07e-4c6d-9237-dd5371a283a9 button.colab-df-convert');\n",
              "        buttonEl.style.display =\n",
              "          google.colab.kernel.accessAllowed ? 'block' : 'none';\n",
              "\n",
              "        async function convertToInteractive(key) {\n",
              "          const element = document.querySelector('#df-674b1e31-e07e-4c6d-9237-dd5371a283a9');\n",
              "          const dataTable =\n",
              "            await google.colab.kernel.invokeFunction('convertToInteractive',\n",
              "                                                     [key], {});\n",
              "          if (!dataTable) return;\n",
              "\n",
              "          const docLinkHtml = 'Like what you see? Visit the ' +\n",
              "            '<a target=\"_blank\" href=https://colab.research.google.com/notebooks/data_table.ipynb>data table notebook</a>'\n",
              "            + ' to learn more about interactive tables.';\n",
              "          element.innerHTML = '';\n",
              "          dataTable['output_type'] = 'display_data';\n",
              "          await google.colab.output.renderOutput(dataTable, element);\n",
              "          const docLink = document.createElement('div');\n",
              "          docLink.innerHTML = docLinkHtml;\n",
              "          element.appendChild(docLink);\n",
              "        }\n",
              "      </script>\n",
              "    </div>\n",
              "  </div>\n",
              "  "
            ]
          },
          "metadata": {},
          "execution_count": 216
        }
      ]
    },
    {
      "cell_type": "code",
      "source": [
        "df['Year']=df['transaction_initiation'].str.split('-').str[0]"
      ],
      "metadata": {
        "id": "MI8wPygRBxL_"
      },
      "execution_count": 217,
      "outputs": []
    },
    {
      "cell_type": "code",
      "source": [
        "df['Month']=df['transaction_initiation'].str.split('-').str[1]"
      ],
      "metadata": {
        "id": "QA1d-RhICtsG"
      },
      "execution_count": 218,
      "outputs": []
    },
    {
      "cell_type": "code",
      "source": [
        "df['Day']=df['transaction_initiation'].str.split('-').str[2]"
      ],
      "metadata": {
        "id": "YDgcwwzZC9e4"
      },
      "execution_count": 219,
      "outputs": []
    },
    {
      "cell_type": "code",
      "source": [
        "df.head()"
      ],
      "metadata": {
        "colab": {
          "base_uri": "https://localhost:8080/",
          "height": 270
        },
        "id": "a4Yi0EgADAz0",
        "outputId": "18c585a5-0d66-415d-948c-855ea032a0fd"
      },
      "execution_count": 220,
      "outputs": [
        {
          "output_type": "execute_result",
          "data": {
            "text/plain": [
              "   payment_method  partner_id  partner_category  money_transacted  \\\n",
              "0               1       47334                 0              -5.0   \n",
              "1               2       78890                 1             100.0   \n",
              "2               2       78890                 1              50.0   \n",
              "3               4      102557                 2            1000.0   \n",
              "4               4      118335                 0             200.0   \n",
              "\n",
              "  transaction_initiation  partner_pricing_category  is_fraud  \\\n",
              "0             2016-11-15                         2       0.0   \n",
              "1             2017-01-11                         2       0.0   \n",
              "2             2016-12-07                         2       0.0   \n",
              "3             2017-01-11                         2       0.0   \n",
              "4             2016-11-16                         2       0.0   \n",
              "\n",
              "   device_type_ios_devices  device_type_other_pcs  device_type_windows_pcs  \\\n",
              "0                        0                      0                        0   \n",
              "1                        0                      1                        0   \n",
              "2                        0                      1                        0   \n",
              "3                        0                      1                        0   \n",
              "4                        0                      1                        0   \n",
              "\n",
              "   Year Month Day  \n",
              "0  2016    11  15  \n",
              "1  2017    01  11  \n",
              "2  2016    12  07  \n",
              "3  2017    01  11  \n",
              "4  2016    11  16  "
            ],
            "text/html": [
              "\n",
              "  <div id=\"df-23f1c9bd-e2d1-47a2-8a81-711531ee6a3b\">\n",
              "    <div class=\"colab-df-container\">\n",
              "      <div>\n",
              "<style scoped>\n",
              "    .dataframe tbody tr th:only-of-type {\n",
              "        vertical-align: middle;\n",
              "    }\n",
              "\n",
              "    .dataframe tbody tr th {\n",
              "        vertical-align: top;\n",
              "    }\n",
              "\n",
              "    .dataframe thead th {\n",
              "        text-align: right;\n",
              "    }\n",
              "</style>\n",
              "<table border=\"1\" class=\"dataframe\">\n",
              "  <thead>\n",
              "    <tr style=\"text-align: right;\">\n",
              "      <th></th>\n",
              "      <th>payment_method</th>\n",
              "      <th>partner_id</th>\n",
              "      <th>partner_category</th>\n",
              "      <th>money_transacted</th>\n",
              "      <th>transaction_initiation</th>\n",
              "      <th>partner_pricing_category</th>\n",
              "      <th>is_fraud</th>\n",
              "      <th>device_type_ios_devices</th>\n",
              "      <th>device_type_other_pcs</th>\n",
              "      <th>device_type_windows_pcs</th>\n",
              "      <th>Year</th>\n",
              "      <th>Month</th>\n",
              "      <th>Day</th>\n",
              "    </tr>\n",
              "  </thead>\n",
              "  <tbody>\n",
              "    <tr>\n",
              "      <th>0</th>\n",
              "      <td>1</td>\n",
              "      <td>47334</td>\n",
              "      <td>0</td>\n",
              "      <td>-5.0</td>\n",
              "      <td>2016-11-15</td>\n",
              "      <td>2</td>\n",
              "      <td>0.0</td>\n",
              "      <td>0</td>\n",
              "      <td>0</td>\n",
              "      <td>0</td>\n",
              "      <td>2016</td>\n",
              "      <td>11</td>\n",
              "      <td>15</td>\n",
              "    </tr>\n",
              "    <tr>\n",
              "      <th>1</th>\n",
              "      <td>2</td>\n",
              "      <td>78890</td>\n",
              "      <td>1</td>\n",
              "      <td>100.0</td>\n",
              "      <td>2017-01-11</td>\n",
              "      <td>2</td>\n",
              "      <td>0.0</td>\n",
              "      <td>0</td>\n",
              "      <td>1</td>\n",
              "      <td>0</td>\n",
              "      <td>2017</td>\n",
              "      <td>01</td>\n",
              "      <td>11</td>\n",
              "    </tr>\n",
              "    <tr>\n",
              "      <th>2</th>\n",
              "      <td>2</td>\n",
              "      <td>78890</td>\n",
              "      <td>1</td>\n",
              "      <td>50.0</td>\n",
              "      <td>2016-12-07</td>\n",
              "      <td>2</td>\n",
              "      <td>0.0</td>\n",
              "      <td>0</td>\n",
              "      <td>1</td>\n",
              "      <td>0</td>\n",
              "      <td>2016</td>\n",
              "      <td>12</td>\n",
              "      <td>07</td>\n",
              "    </tr>\n",
              "    <tr>\n",
              "      <th>3</th>\n",
              "      <td>4</td>\n",
              "      <td>102557</td>\n",
              "      <td>2</td>\n",
              "      <td>1000.0</td>\n",
              "      <td>2017-01-11</td>\n",
              "      <td>2</td>\n",
              "      <td>0.0</td>\n",
              "      <td>0</td>\n",
              "      <td>1</td>\n",
              "      <td>0</td>\n",
              "      <td>2017</td>\n",
              "      <td>01</td>\n",
              "      <td>11</td>\n",
              "    </tr>\n",
              "    <tr>\n",
              "      <th>4</th>\n",
              "      <td>4</td>\n",
              "      <td>118335</td>\n",
              "      <td>0</td>\n",
              "      <td>200.0</td>\n",
              "      <td>2016-11-16</td>\n",
              "      <td>2</td>\n",
              "      <td>0.0</td>\n",
              "      <td>0</td>\n",
              "      <td>1</td>\n",
              "      <td>0</td>\n",
              "      <td>2016</td>\n",
              "      <td>11</td>\n",
              "      <td>16</td>\n",
              "    </tr>\n",
              "  </tbody>\n",
              "</table>\n",
              "</div>\n",
              "      <button class=\"colab-df-convert\" onclick=\"convertToInteractive('df-23f1c9bd-e2d1-47a2-8a81-711531ee6a3b')\"\n",
              "              title=\"Convert this dataframe to an interactive table.\"\n",
              "              style=\"display:none;\">\n",
              "        \n",
              "  <svg xmlns=\"http://www.w3.org/2000/svg\" height=\"24px\"viewBox=\"0 0 24 24\"\n",
              "       width=\"24px\">\n",
              "    <path d=\"M0 0h24v24H0V0z\" fill=\"none\"/>\n",
              "    <path d=\"M18.56 5.44l.94 2.06.94-2.06 2.06-.94-2.06-.94-.94-2.06-.94 2.06-2.06.94zm-11 1L8.5 8.5l.94-2.06 2.06-.94-2.06-.94L8.5 2.5l-.94 2.06-2.06.94zm10 10l.94 2.06.94-2.06 2.06-.94-2.06-.94-.94-2.06-.94 2.06-2.06.94z\"/><path d=\"M17.41 7.96l-1.37-1.37c-.4-.4-.92-.59-1.43-.59-.52 0-1.04.2-1.43.59L10.3 9.45l-7.72 7.72c-.78.78-.78 2.05 0 2.83L4 21.41c.39.39.9.59 1.41.59.51 0 1.02-.2 1.41-.59l7.78-7.78 2.81-2.81c.8-.78.8-2.07 0-2.86zM5.41 20L4 18.59l7.72-7.72 1.47 1.35L5.41 20z\"/>\n",
              "  </svg>\n",
              "      </button>\n",
              "      \n",
              "  <style>\n",
              "    .colab-df-container {\n",
              "      display:flex;\n",
              "      flex-wrap:wrap;\n",
              "      gap: 12px;\n",
              "    }\n",
              "\n",
              "    .colab-df-convert {\n",
              "      background-color: #E8F0FE;\n",
              "      border: none;\n",
              "      border-radius: 50%;\n",
              "      cursor: pointer;\n",
              "      display: none;\n",
              "      fill: #1967D2;\n",
              "      height: 32px;\n",
              "      padding: 0 0 0 0;\n",
              "      width: 32px;\n",
              "    }\n",
              "\n",
              "    .colab-df-convert:hover {\n",
              "      background-color: #E2EBFA;\n",
              "      box-shadow: 0px 1px 2px rgba(60, 64, 67, 0.3), 0px 1px 3px 1px rgba(60, 64, 67, 0.15);\n",
              "      fill: #174EA6;\n",
              "    }\n",
              "\n",
              "    [theme=dark] .colab-df-convert {\n",
              "      background-color: #3B4455;\n",
              "      fill: #D2E3FC;\n",
              "    }\n",
              "\n",
              "    [theme=dark] .colab-df-convert:hover {\n",
              "      background-color: #434B5C;\n",
              "      box-shadow: 0px 1px 3px 1px rgba(0, 0, 0, 0.15);\n",
              "      filter: drop-shadow(0px 1px 2px rgba(0, 0, 0, 0.3));\n",
              "      fill: #FFFFFF;\n",
              "    }\n",
              "  </style>\n",
              "\n",
              "      <script>\n",
              "        const buttonEl =\n",
              "          document.querySelector('#df-23f1c9bd-e2d1-47a2-8a81-711531ee6a3b button.colab-df-convert');\n",
              "        buttonEl.style.display =\n",
              "          google.colab.kernel.accessAllowed ? 'block' : 'none';\n",
              "\n",
              "        async function convertToInteractive(key) {\n",
              "          const element = document.querySelector('#df-23f1c9bd-e2d1-47a2-8a81-711531ee6a3b');\n",
              "          const dataTable =\n",
              "            await google.colab.kernel.invokeFunction('convertToInteractive',\n",
              "                                                     [key], {});\n",
              "          if (!dataTable) return;\n",
              "\n",
              "          const docLinkHtml = 'Like what you see? Visit the ' +\n",
              "            '<a target=\"_blank\" href=https://colab.research.google.com/notebooks/data_table.ipynb>data table notebook</a>'\n",
              "            + ' to learn more about interactive tables.';\n",
              "          element.innerHTML = '';\n",
              "          dataTable['output_type'] = 'display_data';\n",
              "          await google.colab.output.renderOutput(dataTable, element);\n",
              "          const docLink = document.createElement('div');\n",
              "          docLink.innerHTML = docLinkHtml;\n",
              "          element.appendChild(docLink);\n",
              "        }\n",
              "      </script>\n",
              "    </div>\n",
              "  </div>\n",
              "  "
            ]
          },
          "metadata": {},
          "execution_count": 220
        }
      ]
    },
    {
      "cell_type": "code",
      "source": [
        "df.drop(['transaction_initiation'],axis=1,inplace=True)"
      ],
      "metadata": {
        "id": "c6UC6JBpDC_-"
      },
      "execution_count": 221,
      "outputs": []
    },
    {
      "cell_type": "code",
      "source": [
        "df.head()"
      ],
      "metadata": {
        "colab": {
          "base_uri": "https://localhost:8080/",
          "height": 270
        },
        "id": "G4lHu1uJDWE0",
        "outputId": "45f96f84-6578-4d48-a2c0-dc44aeb8118a"
      },
      "execution_count": 222,
      "outputs": [
        {
          "output_type": "execute_result",
          "data": {
            "text/plain": [
              "   payment_method  partner_id  partner_category  money_transacted  \\\n",
              "0               1       47334                 0              -5.0   \n",
              "1               2       78890                 1             100.0   \n",
              "2               2       78890                 1              50.0   \n",
              "3               4      102557                 2            1000.0   \n",
              "4               4      118335                 0             200.0   \n",
              "\n",
              "   partner_pricing_category  is_fraud  device_type_ios_devices  \\\n",
              "0                         2       0.0                        0   \n",
              "1                         2       0.0                        0   \n",
              "2                         2       0.0                        0   \n",
              "3                         2       0.0                        0   \n",
              "4                         2       0.0                        0   \n",
              "\n",
              "   device_type_other_pcs  device_type_windows_pcs  Year Month Day  \n",
              "0                      0                        0  2016    11  15  \n",
              "1                      1                        0  2017    01  11  \n",
              "2                      1                        0  2016    12  07  \n",
              "3                      1                        0  2017    01  11  \n",
              "4                      1                        0  2016    11  16  "
            ],
            "text/html": [
              "\n",
              "  <div id=\"df-f791df67-9942-42e7-a995-12c0a0e7553e\">\n",
              "    <div class=\"colab-df-container\">\n",
              "      <div>\n",
              "<style scoped>\n",
              "    .dataframe tbody tr th:only-of-type {\n",
              "        vertical-align: middle;\n",
              "    }\n",
              "\n",
              "    .dataframe tbody tr th {\n",
              "        vertical-align: top;\n",
              "    }\n",
              "\n",
              "    .dataframe thead th {\n",
              "        text-align: right;\n",
              "    }\n",
              "</style>\n",
              "<table border=\"1\" class=\"dataframe\">\n",
              "  <thead>\n",
              "    <tr style=\"text-align: right;\">\n",
              "      <th></th>\n",
              "      <th>payment_method</th>\n",
              "      <th>partner_id</th>\n",
              "      <th>partner_category</th>\n",
              "      <th>money_transacted</th>\n",
              "      <th>partner_pricing_category</th>\n",
              "      <th>is_fraud</th>\n",
              "      <th>device_type_ios_devices</th>\n",
              "      <th>device_type_other_pcs</th>\n",
              "      <th>device_type_windows_pcs</th>\n",
              "      <th>Year</th>\n",
              "      <th>Month</th>\n",
              "      <th>Day</th>\n",
              "    </tr>\n",
              "  </thead>\n",
              "  <tbody>\n",
              "    <tr>\n",
              "      <th>0</th>\n",
              "      <td>1</td>\n",
              "      <td>47334</td>\n",
              "      <td>0</td>\n",
              "      <td>-5.0</td>\n",
              "      <td>2</td>\n",
              "      <td>0.0</td>\n",
              "      <td>0</td>\n",
              "      <td>0</td>\n",
              "      <td>0</td>\n",
              "      <td>2016</td>\n",
              "      <td>11</td>\n",
              "      <td>15</td>\n",
              "    </tr>\n",
              "    <tr>\n",
              "      <th>1</th>\n",
              "      <td>2</td>\n",
              "      <td>78890</td>\n",
              "      <td>1</td>\n",
              "      <td>100.0</td>\n",
              "      <td>2</td>\n",
              "      <td>0.0</td>\n",
              "      <td>0</td>\n",
              "      <td>1</td>\n",
              "      <td>0</td>\n",
              "      <td>2017</td>\n",
              "      <td>01</td>\n",
              "      <td>11</td>\n",
              "    </tr>\n",
              "    <tr>\n",
              "      <th>2</th>\n",
              "      <td>2</td>\n",
              "      <td>78890</td>\n",
              "      <td>1</td>\n",
              "      <td>50.0</td>\n",
              "      <td>2</td>\n",
              "      <td>0.0</td>\n",
              "      <td>0</td>\n",
              "      <td>1</td>\n",
              "      <td>0</td>\n",
              "      <td>2016</td>\n",
              "      <td>12</td>\n",
              "      <td>07</td>\n",
              "    </tr>\n",
              "    <tr>\n",
              "      <th>3</th>\n",
              "      <td>4</td>\n",
              "      <td>102557</td>\n",
              "      <td>2</td>\n",
              "      <td>1000.0</td>\n",
              "      <td>2</td>\n",
              "      <td>0.0</td>\n",
              "      <td>0</td>\n",
              "      <td>1</td>\n",
              "      <td>0</td>\n",
              "      <td>2017</td>\n",
              "      <td>01</td>\n",
              "      <td>11</td>\n",
              "    </tr>\n",
              "    <tr>\n",
              "      <th>4</th>\n",
              "      <td>4</td>\n",
              "      <td>118335</td>\n",
              "      <td>0</td>\n",
              "      <td>200.0</td>\n",
              "      <td>2</td>\n",
              "      <td>0.0</td>\n",
              "      <td>0</td>\n",
              "      <td>1</td>\n",
              "      <td>0</td>\n",
              "      <td>2016</td>\n",
              "      <td>11</td>\n",
              "      <td>16</td>\n",
              "    </tr>\n",
              "  </tbody>\n",
              "</table>\n",
              "</div>\n",
              "      <button class=\"colab-df-convert\" onclick=\"convertToInteractive('df-f791df67-9942-42e7-a995-12c0a0e7553e')\"\n",
              "              title=\"Convert this dataframe to an interactive table.\"\n",
              "              style=\"display:none;\">\n",
              "        \n",
              "  <svg xmlns=\"http://www.w3.org/2000/svg\" height=\"24px\"viewBox=\"0 0 24 24\"\n",
              "       width=\"24px\">\n",
              "    <path d=\"M0 0h24v24H0V0z\" fill=\"none\"/>\n",
              "    <path d=\"M18.56 5.44l.94 2.06.94-2.06 2.06-.94-2.06-.94-.94-2.06-.94 2.06-2.06.94zm-11 1L8.5 8.5l.94-2.06 2.06-.94-2.06-.94L8.5 2.5l-.94 2.06-2.06.94zm10 10l.94 2.06.94-2.06 2.06-.94-2.06-.94-.94-2.06-.94 2.06-2.06.94z\"/><path d=\"M17.41 7.96l-1.37-1.37c-.4-.4-.92-.59-1.43-.59-.52 0-1.04.2-1.43.59L10.3 9.45l-7.72 7.72c-.78.78-.78 2.05 0 2.83L4 21.41c.39.39.9.59 1.41.59.51 0 1.02-.2 1.41-.59l7.78-7.78 2.81-2.81c.8-.78.8-2.07 0-2.86zM5.41 20L4 18.59l7.72-7.72 1.47 1.35L5.41 20z\"/>\n",
              "  </svg>\n",
              "      </button>\n",
              "      \n",
              "  <style>\n",
              "    .colab-df-container {\n",
              "      display:flex;\n",
              "      flex-wrap:wrap;\n",
              "      gap: 12px;\n",
              "    }\n",
              "\n",
              "    .colab-df-convert {\n",
              "      background-color: #E8F0FE;\n",
              "      border: none;\n",
              "      border-radius: 50%;\n",
              "      cursor: pointer;\n",
              "      display: none;\n",
              "      fill: #1967D2;\n",
              "      height: 32px;\n",
              "      padding: 0 0 0 0;\n",
              "      width: 32px;\n",
              "    }\n",
              "\n",
              "    .colab-df-convert:hover {\n",
              "      background-color: #E2EBFA;\n",
              "      box-shadow: 0px 1px 2px rgba(60, 64, 67, 0.3), 0px 1px 3px 1px rgba(60, 64, 67, 0.15);\n",
              "      fill: #174EA6;\n",
              "    }\n",
              "\n",
              "    [theme=dark] .colab-df-convert {\n",
              "      background-color: #3B4455;\n",
              "      fill: #D2E3FC;\n",
              "    }\n",
              "\n",
              "    [theme=dark] .colab-df-convert:hover {\n",
              "      background-color: #434B5C;\n",
              "      box-shadow: 0px 1px 3px 1px rgba(0, 0, 0, 0.15);\n",
              "      filter: drop-shadow(0px 1px 2px rgba(0, 0, 0, 0.3));\n",
              "      fill: #FFFFFF;\n",
              "    }\n",
              "  </style>\n",
              "\n",
              "      <script>\n",
              "        const buttonEl =\n",
              "          document.querySelector('#df-f791df67-9942-42e7-a995-12c0a0e7553e button.colab-df-convert');\n",
              "        buttonEl.style.display =\n",
              "          google.colab.kernel.accessAllowed ? 'block' : 'none';\n",
              "\n",
              "        async function convertToInteractive(key) {\n",
              "          const element = document.querySelector('#df-f791df67-9942-42e7-a995-12c0a0e7553e');\n",
              "          const dataTable =\n",
              "            await google.colab.kernel.invokeFunction('convertToInteractive',\n",
              "                                                     [key], {});\n",
              "          if (!dataTable) return;\n",
              "\n",
              "          const docLinkHtml = 'Like what you see? Visit the ' +\n",
              "            '<a target=\"_blank\" href=https://colab.research.google.com/notebooks/data_table.ipynb>data table notebook</a>'\n",
              "            + ' to learn more about interactive tables.';\n",
              "          element.innerHTML = '';\n",
              "          dataTable['output_type'] = 'display_data';\n",
              "          await google.colab.output.renderOutput(dataTable, element);\n",
              "          const docLink = document.createElement('div');\n",
              "          docLink.innerHTML = docLinkHtml;\n",
              "          element.appendChild(docLink);\n",
              "        }\n",
              "      </script>\n",
              "    </div>\n",
              "  </div>\n",
              "  "
            ]
          },
          "metadata": {},
          "execution_count": 222
        }
      ]
    },
    {
      "cell_type": "code",
      "source": [
        "df.dtypes"
      ],
      "metadata": {
        "colab": {
          "base_uri": "https://localhost:8080/"
        },
        "id": "Ezj1dWBRDbeM",
        "outputId": "d1671b6d-d5ed-4e01-98e3-1622c74c537c"
      },
      "execution_count": 223,
      "outputs": [
        {
          "output_type": "execute_result",
          "data": {
            "text/plain": [
              "payment_method                int64\n",
              "partner_id                    int64\n",
              "partner_category              int64\n",
              "money_transacted            float64\n",
              "partner_pricing_category      int64\n",
              "is_fraud                    float64\n",
              "device_type_ios_devices       int64\n",
              "device_type_other_pcs         int64\n",
              "device_type_windows_pcs       int64\n",
              "Year                         object\n",
              "Month                        object\n",
              "Day                          object\n",
              "dtype: object"
            ]
          },
          "metadata": {},
          "execution_count": 223
        }
      ]
    },
    {
      "cell_type": "code",
      "source": [
        "df['Year']=df['Year'].astype(int)\n",
        "df['Month']=df['Month'].astype(int)\n",
        "df['Day']=df['Day'].astype(int)"
      ],
      "metadata": {
        "id": "I5WLfifsDjMA"
      },
      "execution_count": 224,
      "outputs": []
    },
    {
      "cell_type": "code",
      "source": [
        "df.dtypes"
      ],
      "metadata": {
        "colab": {
          "base_uri": "https://localhost:8080/"
        },
        "id": "c6BfVvksD2uh",
        "outputId": "ec2b0690-68a8-48fc-8804-38b5f3bff34f"
      },
      "execution_count": 225,
      "outputs": [
        {
          "output_type": "execute_result",
          "data": {
            "text/plain": [
              "payment_method                int64\n",
              "partner_id                    int64\n",
              "partner_category              int64\n",
              "money_transacted            float64\n",
              "partner_pricing_category      int64\n",
              "is_fraud                    float64\n",
              "device_type_ios_devices       int64\n",
              "device_type_other_pcs         int64\n",
              "device_type_windows_pcs       int64\n",
              "Year                          int64\n",
              "Month                         int64\n",
              "Day                           int64\n",
              "dtype: object"
            ]
          },
          "metadata": {},
          "execution_count": 225
        }
      ]
    },
    {
      "cell_type": "code",
      "source": [
        "#visualizations"
      ],
      "metadata": {
        "id": "tMweK_38EAEv"
      },
      "execution_count": 226,
      "outputs": []
    },
    {
      "cell_type": "code",
      "source": [
        "##Visualisation \n",
        "sns.set(rc={'figure.figsize':(10.7,5.27)})\n",
        "sns.barplot('payment_method','is_fraud',hue='partner_category',data=df)"
      ],
      "metadata": {
        "colab": {
          "base_uri": "https://localhost:8080/",
          "height": 429
        },
        "id": "RcSFmfqUEQ6h",
        "outputId": "a5d3fb2a-64b9-4f82-ff01-1c13525b092d"
      },
      "execution_count": 227,
      "outputs": [
        {
          "output_type": "stream",
          "name": "stderr",
          "text": [
            "/usr/local/lib/python3.7/dist-packages/seaborn/_decorators.py:43: FutureWarning: Pass the following variables as keyword args: x, y. From version 0.12, the only valid positional argument will be `data`, and passing other arguments without an explicit keyword will result in an error or misinterpretation.\n",
            "  FutureWarning\n"
          ]
        },
        {
          "output_type": "execute_result",
          "data": {
            "text/plain": [
              "<matplotlib.axes._subplots.AxesSubplot at 0x7f42122dc990>"
            ]
          },
          "metadata": {},
          "execution_count": 227
        },
        {
          "output_type": "display_data",
          "data": {
            "text/plain": [
              "<Figure size 770.4x379.44 with 1 Axes>"
            ],
            "image/png": "[encoded data removed]"
          },
          "metadata": {}
        }
      ]
    },
    {
      "cell_type": "code",
      "source": [
        "sns.barplot('payment_method','is_fraud',data=df)"
      ],
      "metadata": {
        "colab": {
          "base_uri": "https://localhost:8080/",
          "height": 429
        },
        "id": "VcfIvvmKHqGI",
        "outputId": "c82cdbee-1624-4337-b6ee-2bf27e0c7506"
      },
      "execution_count": 228,
      "outputs": [
        {
          "output_type": "stream",
          "name": "stderr",
          "text": [
            "/usr/local/lib/python3.7/dist-packages/seaborn/_decorators.py:43: FutureWarning: Pass the following variables as keyword args: x, y. From version 0.12, the only valid positional argument will be `data`, and passing other arguments without an explicit keyword will result in an error or misinterpretation.\n",
            "  FutureWarning\n"
          ]
        },
        {
          "output_type": "execute_result",
          "data": {
            "text/plain": [
              "<matplotlib.axes._subplots.AxesSubplot at 0x7f4212387910>"
            ]
          },
          "metadata": {},
          "execution_count": 228
        },
        {
          "output_type": "display_data",
          "data": {
            "text/plain": [
              "<Figure size 770.4x379.44 with 1 Axes>"
            ],
            "image/png": "[encoded data removed]"
          },
          "metadata": {}
        }
      ]
    },
    {
      "cell_type": "code",
      "source": [
        "payment_group=df.payment_method.value_counts().index "
      ],
      "metadata": {
        "id": "uvADT7DDGUCv"
      },
      "execution_count": 229,
      "outputs": []
    },
    {
      "cell_type": "code",
      "source": [
        "payment_val=df.payment_method.value_counts().values"
      ],
      "metadata": {
        "id": "EUAIjOg4Gauv"
      },
      "execution_count": 230,
      "outputs": []
    },
    {
      "cell_type": "code",
      "source": [
        "plt.pie(payment_val,labels=payment_group,autopct='%1.2f%%')"
      ],
      "metadata": {
        "colab": {
          "base_uri": "https://localhost:8080/",
          "height": 645
        },
        "id": "cdy6usxVEf4p",
        "outputId": "cad7ccfd-815d-4c1c-de44-537ea8b9659a"
      },
      "execution_count": 231,
      "outputs": [
        {
          "output_type": "execute_result",
          "data": {
            "text/plain": [
              "([<matplotlib.patches.Wedge at 0x7f4212364750>,\n",
              "  <matplotlib.patches.Wedge at 0x7f4212363c10>,\n",
              "  <matplotlib.patches.Wedge at 0x7f4212362e50>,\n",
              "  <matplotlib.patches.Wedge at 0x7f4212361fd0>,\n",
              "  <matplotlib.patches.Wedge at 0x7f4212360d50>,\n",
              "  <matplotlib.patches.Wedge at 0x7f421235ff10>],\n",
              " [Text(0.3425218802635598, 1.0453127577623436, '1'),\n",
              "  Text(-0.9708818220930896, -0.5170962072276324, '2'),\n",
              "  Text(0.5454679823833983, -0.9552301713171464, '3'),\n",
              "  Text(1.0177918266759238, -0.41725267830379015, '4'),\n",
              "  Text(1.0942308449373577, -0.11251159045927907, '5'),\n",
              "  Text(1.099999807848807, -0.0006501788892753483, '6')],\n",
              " [Text(0.18683011650739623, 0.5701705951430964, '39.92%'),\n",
              "  Text(-0.529571902959867, -0.28205247666961764, '35.74%'),\n",
              "  Text(0.2975279903909445, -0.5210346389002616, '15.20%'),\n",
              "  Text(0.5551591781868676, -0.22759236998388552, '5.90%'),\n",
              "  Text(0.5968531881476495, -0.06136995843233403, '3.22%'),\n",
              "  Text(0.5999998951902582, -0.0003546430305138263, '0.02%')])"
            ]
          },
          "metadata": {},
          "execution_count": 231
        },
        {
          "output_type": "display_data",
          "data": {
            "text/plain": [
              "<Figure size 770.4x379.44 with 1 Axes>"
            ],
            "image/png": "[encoded data removed]"
          },
          "metadata": {}
        }
      ]
    },
    {
      "cell_type": "code",
      "source": [
        "sns.barplot('is_fraud','device_type_ios_devices',data=df)"
      ],
      "metadata": {
        "colab": {
          "base_uri": "https://localhost:8080/",
          "height": 429
        },
        "id": "C59ZTYSbIBV-",
        "outputId": "a2e328bc-2381-4368-df2f-adfebc40807d"
      },
      "execution_count": 232,
      "outputs": [
        {
          "output_type": "stream",
          "name": "stderr",
          "text": [
            "/usr/local/lib/python3.7/dist-packages/seaborn/_decorators.py:43: FutureWarning: Pass the following variables as keyword args: x, y. From version 0.12, the only valid positional argument will be `data`, and passing other arguments without an explicit keyword will result in an error or misinterpretation.\n",
            "  FutureWarning\n"
          ]
        },
        {
          "output_type": "execute_result",
          "data": {
            "text/plain": [
              "<matplotlib.axes._subplots.AxesSubplot at 0x7f42122e13d0>"
            ]
          },
          "metadata": {},
          "execution_count": 232
        },
        {
          "output_type": "display_data",
          "data": {
            "text/plain": [
              "<Figure size 770.4x379.44 with 1 Axes>"
            ],
            "image/png": "[encoded data removed]"
          },
          "metadata": {}
        }
      ]
    },
    {
      "cell_type": "code",
      "source": [
        "sns.barplot('is_fraud','device_type_other_pcs',data=df)"
      ],
      "metadata": {
        "colab": {
          "base_uri": "https://localhost:8080/",
          "height": 429
        },
        "id": "VxwO2cebIxpi",
        "outputId": "0283f420-a74d-4d6f-8e3e-05c9f6d1a3e5"
      },
      "execution_count": 233,
      "outputs": [
        {
          "output_type": "stream",
          "name": "stderr",
          "text": [
            "/usr/local/lib/python3.7/dist-packages/seaborn/_decorators.py:43: FutureWarning: Pass the following variables as keyword args: x, y. From version 0.12, the only valid positional argument will be `data`, and passing other arguments without an explicit keyword will result in an error or misinterpretation.\n",
            "  FutureWarning\n"
          ]
        },
        {
          "output_type": "execute_result",
          "data": {
            "text/plain": [
              "<matplotlib.axes._subplots.AxesSubplot at 0x7f42123c6610>"
            ]
          },
          "metadata": {},
          "execution_count": 233
        },
        {
          "output_type": "display_data",
          "data": {
            "text/plain": [
              "<Figure size 770.4x379.44 with 1 Axes>"
            ],
            "image/png": "[encoded data removed]"
          },
          "metadata": {}
        }
      ]
    },
    {
      "cell_type": "code",
      "source": [
        "sns.barplot('is_fraud','device_type_windows_pcs',data=df)"
      ],
      "metadata": {
        "colab": {
          "base_uri": "https://localhost:8080/",
          "height": 429
        },
        "id": "NbsOnGB1I8za",
        "outputId": "3074f441-cb10-40e6-bf7c-4a64cf761e0a"
      },
      "execution_count": 234,
      "outputs": [
        {
          "output_type": "stream",
          "name": "stderr",
          "text": [
            "/usr/local/lib/python3.7/dist-packages/seaborn/_decorators.py:43: FutureWarning: Pass the following variables as keyword args: x, y. From version 0.12, the only valid positional argument will be `data`, and passing other arguments without an explicit keyword will result in an error or misinterpretation.\n",
            "  FutureWarning\n"
          ]
        },
        {
          "output_type": "execute_result",
          "data": {
            "text/plain": [
              "<matplotlib.axes._subplots.AxesSubplot at 0x7f421235ec10>"
            ]
          },
          "metadata": {},
          "execution_count": 234
        },
        {
          "output_type": "display_data",
          "data": {
            "text/plain": [
              "<Figure size 770.4x379.44 with 1 Axes>"
            ],
            "image/png": "[encoded data removed]"
          },
          "metadata": {}
        }
      ]
    },
    {
      "cell_type": "markdown",
      "source": [
        "#Checking the distribution of money_transactioned"
      ],
      "metadata": {
        "id": "2ibB7M3fPEuf"
      }
    },
    {
      "cell_type": "code",
      "source": [
        "plt.figure(figsize=(10,5))\n",
        "sns.displot(df.money_transacted)"
      ],
      "metadata": {
        "id": "sPncwx01LSrb",
        "outputId": "49a302df-929f-4adf-c5c3-f7bb07f4476d",
        "colab": {
          "base_uri": "https://localhost:8080/",
          "height": 401
        }
      },
      "execution_count": 235,
      "outputs": [
        {
          "output_type": "execute_result",
          "data": {
            "text/plain": [
              "<seaborn.axisgrid.FacetGrid at 0x7f42123b4e50>"
            ]
          },
          "metadata": {},
          "execution_count": 235
        },
        {
          "output_type": "display_data",
          "data": {
            "text/plain": [
              "<Figure size 720x360 with 0 Axes>"
            ]
          },
          "metadata": {}
        },
        {
          "output_type": "display_data",
          "data": {
            "text/plain": [
              "<Figure size 360x360 with 1 Axes>"
            ],
            "image/png": "[encoded data removed]"
          },
          "metadata": {}
        }
      ]
    },
    {
      "cell_type": "markdown",
      "source": [
        "Since, it is a little difficult to see. Let's engineer a new feature of bins."
      ],
      "metadata": {
        "id": "MxfFD2qHPPHt"
      }
    },
    {
      "cell_type": "code",
      "source": [
        "df['money_bins']=''"
      ],
      "metadata": {
        "id": "o5GcU8uIPYYt"
      },
      "execution_count": 236,
      "outputs": []
    },
    {
      "cell_type": "markdown",
      "source": [
        "Now, let's set the bins and their labels."
      ],
      "metadata": {
        "id": "oyqqmxX3PfLP"
      }
    },
    {
      "cell_type": "code",
      "source": [
        "def make_bins(predictor, size=50):\n",
        "    '''\n",
        "    Takes the predictor (a series or a dataframe of single predictor) and size of bins\n",
        "    Returns bins and bin labels\n",
        "    '''\n",
        "    bins = np.linspace(predictor.min(), predictor.max(), num=size)\n",
        "\n",
        "    bin_labels = []\n",
        "\n",
        "    # Index of the final element in bins list\n",
        "    bins_last_index = bins.shape[0] - 1\n",
        "\n",
        "    for id, val in enumerate(bins):\n",
        "        if id == bins_last_index:\n",
        "            continue\n",
        "        val_to_put = str(int(bins[id])) + ' to ' + str(int(bins[id + 1]))\n",
        "        bin_labels.append(val_to_put)\n",
        "    \n",
        "    return bins, bin_labels"
      ],
      "metadata": {
        "id": "qAQLUUKnNFbE"
      },
      "execution_count": 237,
      "outputs": []
    },
    {
      "cell_type": "code",
      "source": [
        "bins,bin_labels=make_bins(df.money_transacted,size=10)"
      ],
      "metadata": {
        "id": "UWwD3rDTNff4"
      },
      "execution_count": 238,
      "outputs": []
    },
    {
      "cell_type": "markdown",
      "source": [
        "Now, adding bins in the column Amount-Bins."
      ],
      "metadata": {
        "id": "Pfu5EyW3Ppji"
      }
    },
    {
      "cell_type": "code",
      "source": [
        "df['money_bins'] = pd.cut(df.money_transacted, bins=bins,\n",
        "                           labels=bin_labels, include_lowest=True)\n",
        "df['money_bins'].head().to_frame()"
      ],
      "metadata": {
        "id": "9Yxi476MNv-D",
        "outputId": "78e8a9f8-607d-4b9e-bc3b-62f47a4e5d6e",
        "colab": {
          "base_uri": "https://localhost:8080/",
          "height": 206
        }
      },
      "execution_count": 239,
      "outputs": [
        {
          "output_type": "execute_result",
          "data": {
            "text/plain": [
              "       money_bins\n",
              "0  -20000 to 4177\n",
              "1  -20000 to 4177\n",
              "2  -20000 to 4177\n",
              "3  -20000 to 4177\n",
              "4  -20000 to 4177"
            ],
            "text/html": [
              "\n",
              "  <div id=\"df-21debc84-4a13-429b-b90f-53fb19557d86\">\n",
              "    <div class=\"colab-df-container\">\n",
              "      <div>\n",
              "<style scoped>\n",
              "    .dataframe tbody tr th:only-of-type {\n",
              "        vertical-align: middle;\n",
              "    }\n",
              "\n",
              "    .dataframe tbody tr th {\n",
              "        vertical-align: top;\n",
              "    }\n",
              "\n",
              "    .dataframe thead th {\n",
              "        text-align: right;\n",
              "    }\n",
              "</style>\n",
              "<table border=\"1\" class=\"dataframe\">\n",
              "  <thead>\n",
              "    <tr style=\"text-align: right;\">\n",
              "      <th></th>\n",
              "      <th>money_bins</th>\n",
              "    </tr>\n",
              "  </thead>\n",
              "  <tbody>\n",
              "    <tr>\n",
              "      <th>0</th>\n",
              "      <td>-20000 to 4177</td>\n",
              "    </tr>\n",
              "    <tr>\n",
              "      <th>1</th>\n",
              "      <td>-20000 to 4177</td>\n",
              "    </tr>\n",
              "    <tr>\n",
              "      <th>2</th>\n",
              "      <td>-20000 to 4177</td>\n",
              "    </tr>\n",
              "    <tr>\n",
              "      <th>3</th>\n",
              "      <td>-20000 to 4177</td>\n",
              "    </tr>\n",
              "    <tr>\n",
              "      <th>4</th>\n",
              "      <td>-20000 to 4177</td>\n",
              "    </tr>\n",
              "  </tbody>\n",
              "</table>\n",
              "</div>\n",
              "      <button class=\"colab-df-convert\" onclick=\"convertToInteractive('df-21debc84-4a13-429b-b90f-53fb19557d86')\"\n",
              "              title=\"Convert this dataframe to an interactive table.\"\n",
              "              style=\"display:none;\">\n",
              "        \n",
              "  <svg xmlns=\"http://www.w3.org/2000/svg\" height=\"24px\"viewBox=\"0 0 24 24\"\n",
              "       width=\"24px\">\n",
              "    <path d=\"M0 0h24v24H0V0z\" fill=\"none\"/>\n",
              "    <path d=\"M18.56 5.44l.94 2.06.94-2.06 2.06-.94-2.06-.94-.94-2.06-.94 2.06-2.06.94zm-11 1L8.5 8.5l.94-2.06 2.06-.94-2.06-.94L8.5 2.5l-.94 2.06-2.06.94zm10 10l.94 2.06.94-2.06 2.06-.94-2.06-.94-.94-2.06-.94 2.06-2.06.94z\"/><path d=\"M17.41 7.96l-1.37-1.37c-.4-.4-.92-.59-1.43-.59-.52 0-1.04.2-1.43.59L10.3 9.45l-7.72 7.72c-.78.78-.78 2.05 0 2.83L4 21.41c.39.39.9.59 1.41.59.51 0 1.02-.2 1.41-.59l7.78-7.78 2.81-2.81c.8-.78.8-2.07 0-2.86zM5.41 20L4 18.59l7.72-7.72 1.47 1.35L5.41 20z\"/>\n",
              "  </svg>\n",
              "      </button>\n",
              "      \n",
              "  <style>\n",
              "    .colab-df-container {\n",
              "      display:flex;\n",
              "      flex-wrap:wrap;\n",
              "      gap: 12px;\n",
              "    }\n",
              "\n",
              "    .colab-df-convert {\n",
              "      background-color: #E8F0FE;\n",
              "      border: none;\n",
              "      border-radius: 50%;\n",
              "      cursor: pointer;\n",
              "      display: none;\n",
              "      fill: #1967D2;\n",
              "      height: 32px;\n",
              "      padding: 0 0 0 0;\n",
              "      width: 32px;\n",
              "    }\n",
              "\n",
              "    .colab-df-convert:hover {\n",
              "      background-color: #E2EBFA;\n",
              "      box-shadow: 0px 1px 2px rgba(60, 64, 67, 0.3), 0px 1px 3px 1px rgba(60, 64, 67, 0.15);\n",
              "      fill: #174EA6;\n",
              "    }\n",
              "\n",
              "    [theme=dark] .colab-df-convert {\n",
              "      background-color: #3B4455;\n",
              "      fill: #D2E3FC;\n",
              "    }\n",
              "\n",
              "    [theme=dark] .colab-df-convert:hover {\n",
              "      background-color: #434B5C;\n",
              "      box-shadow: 0px 1px 3px 1px rgba(0, 0, 0, 0.15);\n",
              "      filter: drop-shadow(0px 1px 2px rgba(0, 0, 0, 0.3));\n",
              "      fill: #FFFFFF;\n",
              "    }\n",
              "  </style>\n",
              "\n",
              "      <script>\n",
              "        const buttonEl =\n",
              "          document.querySelector('#df-21debc84-4a13-429b-b90f-53fb19557d86 button.colab-df-convert');\n",
              "        buttonEl.style.display =\n",
              "          google.colab.kernel.accessAllowed ? 'block' : 'none';\n",
              "\n",
              "        async function convertToInteractive(key) {\n",
              "          const element = document.querySelector('#df-21debc84-4a13-429b-b90f-53fb19557d86');\n",
              "          const dataTable =\n",
              "            await google.colab.kernel.invokeFunction('convertToInteractive',\n",
              "                                                     [key], {});\n",
              "          if (!dataTable) return;\n",
              "\n",
              "          const docLinkHtml = 'Like what you see? Visit the ' +\n",
              "            '<a target=\"_blank\" href=https://colab.research.google.com/notebooks/data_table.ipynb>data table notebook</a>'\n",
              "            + ' to learn more about interactive tables.';\n",
              "          element.innerHTML = '';\n",
              "          dataTable['output_type'] = 'display_data';\n",
              "          await google.colab.output.renderOutput(dataTable, element);\n",
              "          const docLink = document.createElement('div');\n",
              "          docLink.innerHTML = docLinkHtml;\n",
              "          element.appendChild(docLink);\n",
              "        }\n",
              "      </script>\n",
              "    </div>\n",
              "  </div>\n",
              "  "
            ]
          },
          "metadata": {},
          "execution_count": 239
        }
      ]
    },
    {
      "cell_type": "markdown",
      "source": [
        "Let's plot the bins."
      ],
      "metadata": {
        "id": "NkcdN211Pyr0"
      }
    },
    {
      "cell_type": "code",
      "source": [
        "df['money_bins'].value_counts()"
      ],
      "metadata": {
        "id": "fTHRz87ZP0ol",
        "outputId": "0c071906-f46e-48da-ff0d-bc4905d88984",
        "colab": {
          "base_uri": "https://localhost:8080/"
        }
      },
      "execution_count": 240,
      "outputs": [
        {
          "output_type": "execute_result",
          "data": {
            "text/plain": [
              "-20000 to 4177      95293\n",
              "4177 to 28355         293\n",
              "28355 to 52533         40\n",
              "52533 to 76711         14\n",
              "76711 to 100888        14\n",
              "173422 to 197600        6\n",
              "125066 to 149244        1\n",
              "149244 to 173422        1\n",
              "100888 to 125066        0\n",
              "Name: money_bins, dtype: int64"
            ]
          },
          "metadata": {},
          "execution_count": 240
        }
      ]
    },
    {
      "cell_type": "code",
      "source": [
        "sns.countplot(x='money_bins',data=df)"
      ],
      "metadata": {
        "id": "udCZgBjFOHgv",
        "outputId": "2b1b0c6e-6aba-4386-e3ca-10ae4bea5017",
        "colab": {
          "base_uri": "https://localhost:8080/",
          "height": 376
        }
      },
      "execution_count": 241,
      "outputs": [
        {
          "output_type": "execute_result",
          "data": {
            "text/plain": [
              "<matplotlib.axes._subplots.AxesSubplot at 0x7f41d8abf690>"
            ]
          },
          "metadata": {},
          "execution_count": 241
        },
        {
          "output_type": "display_data",
          "data": {
            "text/plain": [
              "<Figure size 770.4x379.44 with 1 Axes>"
            ],
            "image/png": "[encoded data removed]"
          },
          "metadata": {}
        }
      ]
    },
    {
      "cell_type": "markdown",
      "source": [
        "Since, count of values of Bins other than '-20000 to 4177' are difficult to view. Let's not insert the first one."
      ],
      "metadata": {
        "id": "eVYAwKhmQENs"
      }
    },
    {
      "cell_type": "code",
      "source": [
        "plt.figure(figsize=(15, 10))\n",
        "sns.countplot(x='money_bins', data=df[~(df['money_bins'] == '-20000 to 4177')])\n",
        "plt.xticks(rotation=45)"
      ],
      "metadata": {
        "id": "Y9HHRgNaOanC",
        "outputId": "eb3095e2-85ea-4f92-933f-3d30223b588a",
        "colab": {
          "base_uri": "https://localhost:8080/",
          "height": 716
        }
      },
      "execution_count": 242,
      "outputs": [
        {
          "output_type": "execute_result",
          "data": {
            "text/plain": [
              "(array([0, 1, 2, 3, 4, 5, 6, 7, 8]),\n",
              " <a list of 9 Text major ticklabel objects>)"
            ]
          },
          "metadata": {},
          "execution_count": 242
        },
        {
          "output_type": "display_data",
          "data": {
            "text/plain": [
              "<Figure size 1080x720 with 1 Axes>"
            ],
            "image/png": "[encoded data removed]"
          },
          "metadata": {}
        }
      ]
    },
    {
      "cell_type": "markdown",
      "source": [
        "We can see that mostly the amount is between -20000 to 4177"
      ],
      "metadata": {
        "id": "DjlB-lNZQOb3"
      }
    },
    {
      "cell_type": "code",
      "source": [
        "df.dtypes"
      ],
      "metadata": {
        "id": "oN2ZixvJOygp",
        "outputId": "541f3a33-0550-4394-c71a-e3e524399c37",
        "colab": {
          "base_uri": "https://localhost:8080/"
        }
      },
      "execution_count": 243,
      "outputs": [
        {
          "output_type": "execute_result",
          "data": {
            "text/plain": [
              "payment_method                 int64\n",
              "partner_id                     int64\n",
              "partner_category               int64\n",
              "money_transacted             float64\n",
              "partner_pricing_category       int64\n",
              "is_fraud                     float64\n",
              "device_type_ios_devices        int64\n",
              "device_type_other_pcs          int64\n",
              "device_type_windows_pcs        int64\n",
              "Year                           int64\n",
              "Month                          int64\n",
              "Day                            int64\n",
              "money_bins                  category\n",
              "dtype: object"
            ]
          },
          "metadata": {},
          "execution_count": 243
        }
      ]
    },
    {
      "cell_type": "markdown",
      "source": [
        "#One-hot encoding the money_bins"
      ],
      "metadata": {
        "id": "2NKEVBG2Qr5X"
      }
    },
    {
      "cell_type": "markdown",
      "source": [
        "Since, for classification, we need to pass the data in numerical form. That's why we need to One-Hot encode the Amount-Bins column.\n",
        "Note: We can also label encode values."
      ],
      "metadata": {
        "id": "s889V9SuQ29L"
      }
    },
    {
      "cell_type": "code",
      "source": [
        "df = pd.get_dummies(data=df, columns=['money_bins'])"
      ],
      "metadata": {
        "id": "2_9LCxuFQ4gD"
      },
      "execution_count": 244,
      "outputs": []
    },
    {
      "cell_type": "code",
      "source": [
        "df.head()"
      ],
      "metadata": {
        "id": "l2_-PyvjRGoc",
        "outputId": "04b07a89-5847-4a62-de22-dd2cbd928651",
        "colab": {
          "base_uri": "https://localhost:8080/",
          "height": 317
        }
      },
      "execution_count": 245,
      "outputs": [
        {
          "output_type": "execute_result",
          "data": {
            "text/plain": [
              "   payment_method  partner_id  partner_category  money_transacted  \\\n",
              "0               1       47334                 0              -5.0   \n",
              "1               2       78890                 1             100.0   \n",
              "2               2       78890                 1              50.0   \n",
              "3               4      102557                 2            1000.0   \n",
              "4               4      118335                 0             200.0   \n",
              "\n",
              "   partner_pricing_category  is_fraud  device_type_ios_devices  \\\n",
              "0                         2       0.0                        0   \n",
              "1                         2       0.0                        0   \n",
              "2                         2       0.0                        0   \n",
              "3                         2       0.0                        0   \n",
              "4                         2       0.0                        0   \n",
              "\n",
              "   device_type_other_pcs  device_type_windows_pcs  Year  ...  Day  \\\n",
              "0                      0                        0  2016  ...   15   \n",
              "1                      1                        0  2017  ...   11   \n",
              "2                      1                        0  2016  ...    7   \n",
              "3                      1                        0  2017  ...   11   \n",
              "4                      1                        0  2016  ...   16   \n",
              "\n",
              "   money_bins_-20000 to 4177  money_bins_4177 to 28355  \\\n",
              "0                          1                         0   \n",
              "1                          1                         0   \n",
              "2                          1                         0   \n",
              "3                          1                         0   \n",
              "4                          1                         0   \n",
              "\n",
              "   money_bins_28355 to 52533  money_bins_52533 to 76711  \\\n",
              "0                          0                          0   \n",
              "1                          0                          0   \n",
              "2                          0                          0   \n",
              "3                          0                          0   \n",
              "4                          0                          0   \n",
              "\n",
              "   money_bins_76711 to 100888  money_bins_100888 to 125066  \\\n",
              "0                           0                            0   \n",
              "1                           0                            0   \n",
              "2                           0                            0   \n",
              "3                           0                            0   \n",
              "4                           0                            0   \n",
              "\n",
              "   money_bins_125066 to 149244  money_bins_149244 to 173422  \\\n",
              "0                            0                            0   \n",
              "1                            0                            0   \n",
              "2                            0                            0   \n",
              "3                            0                            0   \n",
              "4                            0                            0   \n",
              "\n",
              "   money_bins_173422 to 197600  \n",
              "0                            0  \n",
              "1                            0  \n",
              "2                            0  \n",
              "3                            0  \n",
              "4                            0  \n",
              "\n",
              "[5 rows x 21 columns]"
            ],
            "text/html": [
              "\n",
              "  <div id=\"df-c70bc131-4b25-4b35-8b2c-6451944d4ea2\">\n",
              "    <div class=\"colab-df-container\">\n",
              "      <div>\n",
              "<style scoped>\n",
              "    .dataframe tbody tr th:only-of-type {\n",
              "        vertical-align: middle;\n",
              "    }\n",
              "\n",
              "    .dataframe tbody tr th {\n",
              "        vertical-align: top;\n",
              "    }\n",
              "\n",
              "    .dataframe thead th {\n",
              "        text-align: right;\n",
              "    }\n",
              "</style>\n",
              "<table border=\"1\" class=\"dataframe\">\n",
              "  <thead>\n",
              "    <tr style=\"text-align: right;\">\n",
              "      <th></th>\n",
              "      <th>payment_method</th>\n",
              "      <th>partner_id</th>\n",
              "      <th>partner_category</th>\n",
              "      <th>money_transacted</th>\n",
              "      <th>partner_pricing_category</th>\n",
              "      <th>is_fraud</th>\n",
              "      <th>device_type_ios_devices</th>\n",
              "      <th>device_type_other_pcs</th>\n",
              "      <th>device_type_windows_pcs</th>\n",
              "      <th>Year</th>\n",
              "      <th>...</th>\n",
              "      <th>Day</th>\n",
              "      <th>money_bins_-20000 to 4177</th>\n",
              "      <th>money_bins_4177 to 28355</th>\n",
              "      <th>money_bins_28355 to 52533</th>\n",
              "      <th>money_bins_52533 to 76711</th>\n",
              "      <th>money_bins_76711 to 100888</th>\n",
              "      <th>money_bins_100888 to 125066</th>\n",
              "      <th>money_bins_125066 to 149244</th>\n",
              "      <th>money_bins_149244 to 173422</th>\n",
              "      <th>money_bins_173422 to 197600</th>\n",
              "    </tr>\n",
              "  </thead>\n",
              "  <tbody>\n",
              "    <tr>\n",
              "      <th>0</th>\n",
              "      <td>1</td>\n",
              "      <td>47334</td>\n",
              "      <td>0</td>\n",
              "      <td>-5.0</td>\n",
              "      <td>2</td>\n",
              "      <td>0.0</td>\n",
              "      <td>0</td>\n",
              "      <td>0</td>\n",
              "      <td>0</td>\n",
              "      <td>2016</td>\n",
              "      <td>...</td>\n",
              "      <td>15</td>\n",
              "      <td>1</td>\n",
              "      <td>0</td>\n",
              "      <td>0</td>\n",
              "      <td>0</td>\n",
              "      <td>0</td>\n",
              "      <td>0</td>\n",
              "      <td>0</td>\n",
              "      <td>0</td>\n",
              "      <td>0</td>\n",
              "    </tr>\n",
              "    <tr>\n",
              "      <th>1</th>\n",
              "      <td>2</td>\n",
              "      <td>78890</td>\n",
              "      <td>1</td>\n",
              "      <td>100.0</td>\n",
              "      <td>2</td>\n",
              "      <td>0.0</td>\n",
              "      <td>0</td>\n",
              "      <td>1</td>\n",
              "      <td>0</td>\n",
              "      <td>2017</td>\n",
              "      <td>...</td>\n",
              "      <td>11</td>\n",
              "      <td>1</td>\n",
              "      <td>0</td>\n",
              "      <td>0</td>\n",
              "      <td>0</td>\n",
              "      <td>0</td>\n",
              "      <td>0</td>\n",
              "      <td>0</td>\n",
              "      <td>0</td>\n",
              "      <td>0</td>\n",
              "    </tr>\n",
              "    <tr>\n",
              "      <th>2</th>\n",
              "      <td>2</td>\n",
              "      <td>78890</td>\n",
              "      <td>1</td>\n",
              "      <td>50.0</td>\n",
              "      <td>2</td>\n",
              "      <td>0.0</td>\n",
              "      <td>0</td>\n",
              "      <td>1</td>\n",
              "      <td>0</td>\n",
              "      <td>2016</td>\n",
              "      <td>...</td>\n",
              "      <td>7</td>\n",
              "      <td>1</td>\n",
              "      <td>0</td>\n",
              "      <td>0</td>\n",
              "      <td>0</td>\n",
              "      <td>0</td>\n",
              "      <td>0</td>\n",
              "      <td>0</td>\n",
              "      <td>0</td>\n",
              "      <td>0</td>\n",
              "    </tr>\n",
              "    <tr>\n",
              "      <th>3</th>\n",
              "      <td>4</td>\n",
              "      <td>102557</td>\n",
              "      <td>2</td>\n",
              "      <td>1000.0</td>\n",
              "      <td>2</td>\n",
              "      <td>0.0</td>\n",
              "      <td>0</td>\n",
              "      <td>1</td>\n",
              "      <td>0</td>\n",
              "      <td>2017</td>\n",
              "      <td>...</td>\n",
              "      <td>11</td>\n",
              "      <td>1</td>\n",
              "      <td>0</td>\n",
              "      <td>0</td>\n",
              "      <td>0</td>\n",
              "      <td>0</td>\n",
              "      <td>0</td>\n",
              "      <td>0</td>\n",
              "      <td>0</td>\n",
              "      <td>0</td>\n",
              "    </tr>\n",
              "    <tr>\n",
              "      <th>4</th>\n",
              "      <td>4</td>\n",
              "      <td>118335</td>\n",
              "      <td>0</td>\n",
              "      <td>200.0</td>\n",
              "      <td>2</td>\n",
              "      <td>0.0</td>\n",
              "      <td>0</td>\n",
              "      <td>1</td>\n",
              "      <td>0</td>\n",
              "      <td>2016</td>\n",
              "      <td>...</td>\n",
              "      <td>16</td>\n",
              "      <td>1</td>\n",
              "      <td>0</td>\n",
              "      <td>0</td>\n",
              "      <td>0</td>\n",
              "      <td>0</td>\n",
              "      <td>0</td>\n",
              "      <td>0</td>\n",
              "      <td>0</td>\n",
              "      <td>0</td>\n",
              "    </tr>\n",
              "  </tbody>\n",
              "</table>\n",
              "<p>5 rows × 21 columns</p>\n",
              "</div>\n",
              "      <button class=\"colab-df-convert\" onclick=\"convertToInteractive('df-c70bc131-4b25-4b35-8b2c-6451944d4ea2')\"\n",
              "              title=\"Convert this dataframe to an interactive table.\"\n",
              "              style=\"display:none;\">\n",
              "        \n",
              "  <svg xmlns=\"http://www.w3.org/2000/svg\" height=\"24px\"viewBox=\"0 0 24 24\"\n",
              "       width=\"24px\">\n",
              "    <path d=\"M0 0h24v24H0V0z\" fill=\"none\"/>\n",
              "    <path d=\"M18.56 5.44l.94 2.06.94-2.06 2.06-.94-2.06-.94-.94-2.06-.94 2.06-2.06.94zm-11 1L8.5 8.5l.94-2.06 2.06-.94-2.06-.94L8.5 2.5l-.94 2.06-2.06.94zm10 10l.94 2.06.94-2.06 2.06-.94-2.06-.94-.94-2.06-.94 2.06-2.06.94z\"/><path d=\"M17.41 7.96l-1.37-1.37c-.4-.4-.92-.59-1.43-.59-.52 0-1.04.2-1.43.59L10.3 9.45l-7.72 7.72c-.78.78-.78 2.05 0 2.83L4 21.41c.39.39.9.59 1.41.59.51 0 1.02-.2 1.41-.59l7.78-7.78 2.81-2.81c.8-.78.8-2.07 0-2.86zM5.41 20L4 18.59l7.72-7.72 1.47 1.35L5.41 20z\"/>\n",
              "  </svg>\n",
              "      </button>\n",
              "      \n",
              "  <style>\n",
              "    .colab-df-container {\n",
              "      display:flex;\n",
              "      flex-wrap:wrap;\n",
              "      gap: 12px;\n",
              "    }\n",
              "\n",
              "    .colab-df-convert {\n",
              "      background-color: #E8F0FE;\n",
              "      border: none;\n",
              "      border-radius: 50%;\n",
              "      cursor: pointer;\n",
              "      display: none;\n",
              "      fill: #1967D2;\n",
              "      height: 32px;\n",
              "      padding: 0 0 0 0;\n",
              "      width: 32px;\n",
              "    }\n",
              "\n",
              "    .colab-df-convert:hover {\n",
              "      background-color: #E2EBFA;\n",
              "      box-shadow: 0px 1px 2px rgba(60, 64, 67, 0.3), 0px 1px 3px 1px rgba(60, 64, 67, 0.15);\n",
              "      fill: #174EA6;\n",
              "    }\n",
              "\n",
              "    [theme=dark] .colab-df-convert {\n",
              "      background-color: #3B4455;\n",
              "      fill: #D2E3FC;\n",
              "    }\n",
              "\n",
              "    [theme=dark] .colab-df-convert:hover {\n",
              "      background-color: #434B5C;\n",
              "      box-shadow: 0px 1px 3px 1px rgba(0, 0, 0, 0.15);\n",
              "      filter: drop-shadow(0px 1px 2px rgba(0, 0, 0, 0.3));\n",
              "      fill: #FFFFFF;\n",
              "    }\n",
              "  </style>\n",
              "\n",
              "      <script>\n",
              "        const buttonEl =\n",
              "          document.querySelector('#df-c70bc131-4b25-4b35-8b2c-6451944d4ea2 button.colab-df-convert');\n",
              "        buttonEl.style.display =\n",
              "          google.colab.kernel.accessAllowed ? 'block' : 'none';\n",
              "\n",
              "        async function convertToInteractive(key) {\n",
              "          const element = document.querySelector('#df-c70bc131-4b25-4b35-8b2c-6451944d4ea2');\n",
              "          const dataTable =\n",
              "            await google.colab.kernel.invokeFunction('convertToInteractive',\n",
              "                                                     [key], {});\n",
              "          if (!dataTable) return;\n",
              "\n",
              "          const docLinkHtml = 'Like what you see? Visit the ' +\n",
              "            '<a target=\"_blank\" href=https://colab.research.google.com/notebooks/data_table.ipynb>data table notebook</a>'\n",
              "            + ' to learn more about interactive tables.';\n",
              "          element.innerHTML = '';\n",
              "          dataTable['output_type'] = 'display_data';\n",
              "          await google.colab.output.renderOutput(dataTable, element);\n",
              "          const docLink = document.createElement('div');\n",
              "          docLink.innerHTML = docLinkHtml;\n",
              "          element.appendChild(docLink);\n",
              "        }\n",
              "      </script>\n",
              "    </div>\n",
              "  </div>\n",
              "  "
            ]
          },
          "metadata": {},
          "execution_count": 245
        }
      ]
    },
    {
      "cell_type": "code",
      "source": [
        "# Bar plot for the number of fraudulent vs non-fraudulent transcations\n",
        "sns.countplot(x='is_fraud', data=df)\n",
        "plt.title('Number of fraudulent vs non-fraudulent transcations')\n",
        "plt.show()"
      ],
      "metadata": {
        "colab": {
          "base_uri": "https://localhost:8080/",
          "height": 370
        },
        "id": "kRiWeXLwJbta",
        "outputId": "35b87c5b-c0d8-4ade-9208-029686dcf332"
      },
      "execution_count": 246,
      "outputs": [
        {
          "output_type": "display_data",
          "data": {
            "text/plain": [
              "<Figure size 770.4x379.44 with 1 Axes>"
            ],
            "image/png": "[encoded data removed]"
          },
          "metadata": {}
        }
      ]
    },
    {
      "cell_type": "code",
      "source": [
        "is_fraud = df['is_fraud'].value_counts()\n",
        "is_fraud"
      ],
      "metadata": {
        "colab": {
          "base_uri": "https://localhost:8080/"
        },
        "id": "7lly_G7aJ5tQ",
        "outputId": "80e1e5ed-5677-41b7-e93e-1f31ff0dd92c"
      },
      "execution_count": 247,
      "outputs": [
        {
          "output_type": "execute_result",
          "data": {
            "text/plain": [
              "0.0    76375\n",
              "1.0      154\n",
              "Name: is_fraud, dtype: int64"
            ]
          },
          "metadata": {},
          "execution_count": 247
        }
      ]
    },
    {
      "cell_type": "code",
      "source": [
        "normal_share = round((is_fraud[0]/df['is_fraud'].count()*100),2)\n",
        "normal_share"
      ],
      "metadata": {
        "colab": {
          "base_uri": "https://localhost:8080/"
        },
        "id": "V_4WI37xKBsm",
        "outputId": "f9f5656c-33e4-4ffe-9963-fb6c28124a2b"
      },
      "execution_count": 248,
      "outputs": [
        {
          "output_type": "execute_result",
          "data": {
            "text/plain": [
              "99.8"
            ]
          },
          "metadata": {},
          "execution_count": 248
        }
      ]
    },
    {
      "cell_type": "code",
      "source": [
        "fraud_share = round((is_fraud[1]/df['is_fraud'].count()*100),2)\n",
        "fraud_share"
      ],
      "metadata": {
        "colab": {
          "base_uri": "https://localhost:8080/"
        },
        "id": "26Gdl6E4KJ1o",
        "outputId": "670b7d2f-9c12-4212-dfa4-f204b8a15128"
      },
      "execution_count": 249,
      "outputs": [
        {
          "output_type": "execute_result",
          "data": {
            "text/plain": [
              "0.2"
            ]
          },
          "metadata": {},
          "execution_count": 249
        }
      ]
    },
    {
      "cell_type": "code",
      "source": [
        "df.dtypes"
      ],
      "metadata": {
        "colab": {
          "base_uri": "https://localhost:8080/"
        },
        "id": "Xx3gqsNIKSMC",
        "outputId": "fbfa79ef-cb4e-4a53-983e-9d54c9c524c4"
      },
      "execution_count": 250,
      "outputs": [
        {
          "output_type": "execute_result",
          "data": {
            "text/plain": [
              "payment_method                   int64\n",
              "partner_id                       int64\n",
              "partner_category                 int64\n",
              "money_transacted               float64\n",
              "partner_pricing_category         int64\n",
              "is_fraud                       float64\n",
              "device_type_ios_devices          int64\n",
              "device_type_other_pcs            int64\n",
              "device_type_windows_pcs          int64\n",
              "Year                             int64\n",
              "Month                            int64\n",
              "Day                              int64\n",
              "money_bins_-20000 to 4177        uint8\n",
              "money_bins_4177 to 28355         uint8\n",
              "money_bins_28355 to 52533        uint8\n",
              "money_bins_52533 to 76711        uint8\n",
              "money_bins_76711 to 100888       uint8\n",
              "money_bins_100888 to 125066      uint8\n",
              "money_bins_125066 to 149244      uint8\n",
              "money_bins_149244 to 173422      uint8\n",
              "money_bins_173422 to 197600      uint8\n",
              "dtype: object"
            ]
          },
          "metadata": {},
          "execution_count": 250
        }
      ]
    },
    {
      "cell_type": "code",
      "source": [
        "df['money_bins_-20000 to 4177']=df['money_bins_-20000 to 4177'].astype(int)\n",
        "df['money_bins_4177 to 28355']=df['money_bins_4177 to 28355'].astype(int)\n",
        "df['money_bins_28355 to 52533']=df['money_bins_28355 to 52533'].astype(int)\n",
        "df['money_bins_52533 to 76711']=df['money_bins_52533 to 76711'].astype(int)\n",
        "df['money_bins_76711 to 100888']=df['money_bins_76711 to 100888'].astype(int)\n",
        "df['money_bins_100888 to 125066']=df['money_bins_100888 to 125066'].astype(int)\n",
        "df['money_bins_125066 to 149244']=df['money_bins_125066 to 149244'].astype(int)\n",
        "df['money_bins_149244 to 173422']=df['money_bins_149244 to 173422'].astype(int)\n",
        "df['money_bins_173422 to 197600']=df['money_bins_173422 to 197600'].astype(int)"
      ],
      "metadata": {
        "id": "TpvMnBnQSz8f"
      },
      "execution_count": 252,
      "outputs": []
    },
    {
      "cell_type": "code",
      "source": [
        "df.dtypes"
      ],
      "metadata": {
        "id": "bPGM-pPMTJkP",
        "outputId": "f01f5ca4-47d1-405a-88bf-592734e6be3f",
        "colab": {
          "base_uri": "https://localhost:8080/"
        }
      },
      "execution_count": 253,
      "outputs": [
        {
          "output_type": "execute_result",
          "data": {
            "text/plain": [
              "payment_method                   int64\n",
              "partner_id                       int64\n",
              "partner_category                 int64\n",
              "money_transacted               float64\n",
              "partner_pricing_category         int64\n",
              "is_fraud                       float64\n",
              "device_type_ios_devices          int64\n",
              "device_type_other_pcs            int64\n",
              "device_type_windows_pcs          int64\n",
              "Year                             int64\n",
              "Month                            int64\n",
              "Day                              int64\n",
              "money_bins_-20000 to 4177        int64\n",
              "money_bins_4177 to 28355         int64\n",
              "money_bins_28355 to 52533        int64\n",
              "money_bins_52533 to 76711        int64\n",
              "money_bins_76711 to 100888       int64\n",
              "money_bins_100888 to 125066      int64\n",
              "money_bins_125066 to 149244      int64\n",
              "money_bins_149244 to 173422      int64\n",
              "money_bins_173422 to 197600      int64\n",
              "dtype: object"
            ]
          },
          "metadata": {},
          "execution_count": 253
        }
      ]
    },
    {
      "cell_type": "code",
      "source": [
        "df.isnull().sum()"
      ],
      "metadata": {
        "id": "xJcEKJWoUG63",
        "outputId": "d0eb525a-389b-4525-e87e-04d156d27440",
        "colab": {
          "base_uri": "https://localhost:8080/"
        }
      },
      "execution_count": 254,
      "outputs": [
        {
          "output_type": "execute_result",
          "data": {
            "text/plain": [
              "payment_method                     0\n",
              "partner_id                         0\n",
              "partner_category                   0\n",
              "money_transacted                   0\n",
              "partner_pricing_category           0\n",
              "is_fraud                       19133\n",
              "device_type_ios_devices            0\n",
              "device_type_other_pcs              0\n",
              "device_type_windows_pcs            0\n",
              "Year                               0\n",
              "Month                              0\n",
              "Day                                0\n",
              "money_bins_-20000 to 4177          0\n",
              "money_bins_4177 to 28355           0\n",
              "money_bins_28355 to 52533          0\n",
              "money_bins_52533 to 76711          0\n",
              "money_bins_76711 to 100888         0\n",
              "money_bins_100888 to 125066        0\n",
              "money_bins_125066 to 149244        0\n",
              "money_bins_149244 to 173422        0\n",
              "money_bins_173422 to 197600        0\n",
              "dtype: int64"
            ]
          },
          "metadata": {},
          "execution_count": 254
        }
      ]
    },
    {
      "cell_type": "code",
      "source": [
        "# to separete the test and train data \n",
        "df_test=df[df['is_fraud'].isnull()].head()"
      ],
      "metadata": {
        "id": "YN22S3eWUVvM"
      },
      "execution_count": 255,
      "outputs": []
    },
    {
      "cell_type": "code",
      "source": [
        "df_test.drop('is_fraud',axis=1,inplace=True)"
      ],
      "metadata": {
        "id": "MTi5lBCsUiIy"
      },
      "execution_count": 256,
      "outputs": []
    },
    {
      "cell_type": "code",
      "source": [
        "df_train=df[~df['is_fraud'].isnull()]"
      ],
      "metadata": {
        "id": "utw-WTInUpEE"
      },
      "execution_count": 257,
      "outputs": []
    },
    {
      "cell_type": "code",
      "source": [
        "df_train.shape"
      ],
      "metadata": {
        "id": "Jpr_O9RnUvrc",
        "outputId": "467ca978-30a2-4f06-f1e1-3b53e1b37055",
        "colab": {
          "base_uri": "https://localhost:8080/"
        }
      },
      "execution_count": 258,
      "outputs": [
        {
          "output_type": "execute_result",
          "data": {
            "text/plain": [
              "(76529, 21)"
            ]
          },
          "metadata": {},
          "execution_count": 258
        }
      ]
    },
    {
      "cell_type": "code",
      "source": [
        "df_test.shape"
      ],
      "metadata": {
        "id": "OZfYE8ZFU0QM",
        "outputId": "6168dfb5-dc68-442b-d2bf-4598d0338138",
        "colab": {
          "base_uri": "https://localhost:8080/"
        }
      },
      "execution_count": 259,
      "outputs": [
        {
          "output_type": "execute_result",
          "data": {
            "text/plain": [
              "(5, 20)"
            ]
          },
          "metadata": {},
          "execution_count": 259
        }
      ]
    },
    {
      "cell_type": "code",
      "source": [
        "df_train['is_fraud']=df_train['is_fraud'].astype(int)"
      ],
      "metadata": {
        "id": "PxMBi71oVjea",
        "outputId": "7ecab6c4-66c7-4ce0-dae1-32875750792b",
        "colab": {
          "base_uri": "https://localhost:8080/"
        }
      },
      "execution_count": 267,
      "outputs": [
        {
          "output_type": "stream",
          "name": "stderr",
          "text": [
            "/usr/local/lib/python3.7/dist-packages/ipykernel_launcher.py:1: SettingWithCopyWarning: \n",
            "A value is trying to be set on a copy of a slice from a DataFrame.\n",
            "Try using .loc[row_indexer,col_indexer] = value instead\n",
            "\n",
            "See the caveats in the documentation: https://pandas.pydata.org/pandas-docs/stable/user_guide/indexing.html#returning-a-view-versus-a-copy\n",
            "  \"\"\"Entry point for launching an IPython kernel.\n"
          ]
        }
      ]
    },
    {
      "cell_type": "code",
      "source": [
        "df_train.dtypes"
      ],
      "metadata": {
        "id": "EqB-7oWZV_9Q",
        "outputId": "242c1d66-b30e-40af-e60d-aebbfd4814a6",
        "colab": {
          "base_uri": "https://localhost:8080/"
        }
      },
      "execution_count": 269,
      "outputs": [
        {
          "output_type": "execute_result",
          "data": {
            "text/plain": [
              "payment_method                   int64\n",
              "partner_id                       int64\n",
              "partner_category                 int64\n",
              "money_transacted               float64\n",
              "partner_pricing_category         int64\n",
              "is_fraud                         int64\n",
              "device_type_ios_devices          int64\n",
              "device_type_other_pcs            int64\n",
              "device_type_windows_pcs          int64\n",
              "Year                             int64\n",
              "Month                            int64\n",
              "Day                              int64\n",
              "money_bins_-20000 to 4177        int64\n",
              "money_bins_4177 to 28355         int64\n",
              "money_bins_28355 to 52533        int64\n",
              "money_bins_52533 to 76711        int64\n",
              "money_bins_76711 to 100888       int64\n",
              "money_bins_100888 to 125066      int64\n",
              "money_bins_125066 to 149244      int64\n",
              "money_bins_149244 to 173422      int64\n",
              "money_bins_173422 to 197600      int64\n",
              "dtype: object"
            ]
          },
          "metadata": {},
          "execution_count": 269
        }
      ]
    },
    {
      "cell_type": "code",
      "source": [
        "X= df_train.drop('is_fraud',axis=1)\n",
        "y=df_train['is_fraud']"
      ],
      "metadata": {
        "id": "7pRzKy4AU3MS"
      },
      "execution_count": 270,
      "outputs": []
    },
    {
      "cell_type": "code",
      "source": [
        "print(X.shape)\n",
        "print(y.shape)"
      ],
      "metadata": {
        "id": "ZBQiTAqPVK8f",
        "outputId": "13639c58-e218-47f3-dd0f-6624eec10d7f",
        "colab": {
          "base_uri": "https://localhost:8080/"
        }
      },
      "execution_count": 271,
      "outputs": [
        {
          "output_type": "stream",
          "name": "stdout",
          "text": [
            "(76529, 20)\n",
            "(76529,)\n"
          ]
        }
      ]
    },
    {
      "cell_type": "code",
      "source": [
        "y"
      ],
      "metadata": {
        "id": "aFel6PFiVTnm",
        "outputId": "04b0aca6-1a4c-449b-a636-269410dff483",
        "colab": {
          "base_uri": "https://localhost:8080/"
        }
      },
      "execution_count": 272,
      "outputs": [
        {
          "output_type": "execute_result",
          "data": {
            "text/plain": [
              "0        0\n",
              "1        0\n",
              "2        0\n",
              "3        0\n",
              "4        0\n",
              "        ..\n",
              "76524    0\n",
              "76525    0\n",
              "76526    0\n",
              "76527    0\n",
              "76528    0\n",
              "Name: is_fraud, Length: 76529, dtype: int64"
            ]
          },
          "metadata": {},
          "execution_count": 272
        }
      ]
    },
    {
      "cell_type": "code",
      "source": [
        "from sklearn.model_selection import train_test_split\n",
        "X_train, X_test, y_train, y_test = train_test_split(X, y, test_size=0.30, random_state=3)"
      ],
      "metadata": {
        "id": "_apnsc7RVe8m"
      },
      "execution_count": 273,
      "outputs": []
    },
    {
      "cell_type": "code",
      "source": [
        "print(X_train.shape)\n",
        "print(X_test.shape)\n",
        "print(y_train.shape)\n",
        "print(y_test.shape)"
      ],
      "metadata": {
        "id": "Qg78kgqDWQQS",
        "outputId": "a519bb00-ede9-4d58-cabf-5ccba2fd66d9",
        "colab": {
          "base_uri": "https://localhost:8080/"
        }
      },
      "execution_count": 274,
      "outputs": [
        {
          "output_type": "stream",
          "name": "stdout",
          "text": [
            "(53570, 20)\n",
            "(22959, 20)\n",
            "(53570,)\n",
            "(22959,)\n"
          ]
        }
      ]
    },
    {
      "cell_type": "markdown",
      "source": [
        "#Applying Machine Learning Algorithms"
      ],
      "metadata": {
        "id": "cYC5r9MrWwdU"
      }
    },
    {
      "cell_type": "markdown",
      "source": [
        "Let's apply different Machine Learning Algorithms then compare their metrics to select the most suitable ML algorithm. Algorithms to be used are:\n",
        "\n",
        "Logistic Regression\n",
        "\n",
        "\n"
      ],
      "metadata": {
        "id": "kjlcMzlKW3Uh"
      }
    },
    {
      "cell_type": "markdown",
      "source": [
        "The metrics we'll use initially are:\n",
        "\n",
        "Accuracy\n",
        "Precision\n",
        "F1-Score\n",
        "The main metrics we'll look at are (Reason is mentioned later):\n",
        "\n",
        "Recall\n",
        "AUC/RUC Curve"
      ],
      "metadata": {
        "id": "q1cSoiGfXWSe"
      }
    },
    {
      "cell_type": "markdown",
      "source": [
        "#Logistic Regression"
      ],
      "metadata": {
        "id": "LMwkGBkVXbnc"
      }
    },
    {
      "cell_type": "code",
      "source": [
        "from sklearn.linear_model import LogisticRegression\n",
        "lr_model = LogisticRegression()"
      ],
      "metadata": {
        "id": "ygU3J1KKXcVF"
      },
      "execution_count": 275,
      "outputs": []
    },
    {
      "cell_type": "code",
      "source": [
        "# Training the algorithm\n",
        "lr_model.fit(X_train, y_train)"
      ],
      "metadata": {
        "id": "ixymvhALXfOn",
        "outputId": "e89f5832-6a63-4ca3-91a1-4a4f5d28da9f",
        "colab": {
          "base_uri": "https://localhost:8080/"
        }
      },
      "execution_count": 276,
      "outputs": [
        {
          "output_type": "execute_result",
          "data": {
            "text/plain": [
              "LogisticRegression()"
            ]
          },
          "metadata": {},
          "execution_count": 276
        }
      ]
    },
    {
      "cell_type": "code",
      "source": [
        "# Predictions on training and testing data\n",
        "lr_pred_train = lr_model.predict(X_train)\n",
        "lr_pred_test = lr_model.predict(X_test)"
      ],
      "metadata": {
        "id": "WMKRqp_YXlwq"
      },
      "execution_count": 277,
      "outputs": []
    },
    {
      "cell_type": "code",
      "source": [
        "lr_pred_train"
      ],
      "metadata": {
        "id": "DMOutCDPXvbV",
        "outputId": "af5f72df-a19a-47f2-9987-33cf7d4b97c4",
        "colab": {
          "base_uri": "https://localhost:8080/"
        }
      },
      "execution_count": 278,
      "outputs": [
        {
          "output_type": "execute_result",
          "data": {
            "text/plain": [
              "array([0, 0, 0, ..., 0, 0, 0])"
            ]
          },
          "metadata": {},
          "execution_count": 278
        }
      ]
    },
    {
      "cell_type": "code",
      "source": [
        "lr_pred_test"
      ],
      "metadata": {
        "id": "aUvi7dvmXxyd",
        "outputId": "69c764e3-fe7b-40c6-f13c-c6e7a04093be",
        "colab": {
          "base_uri": "https://localhost:8080/"
        }
      },
      "execution_count": 279,
      "outputs": [
        {
          "output_type": "execute_result",
          "data": {
            "text/plain": [
              "array([0, 0, 0, ..., 0, 0, 0])"
            ]
          },
          "metadata": {},
          "execution_count": 279
        }
      ]
    },
    {
      "cell_type": "markdown",
      "source": [
        "Before going further into metrics, let's first decide either Type-I or Type-II error is more important to consider.\n",
        "\n",
        "**Type-I**  Error or False Positives: False Positives are the ones which are actually not fraud but the prediction said that they are fraud.\n",
        "\n",
        "**Type-II** Error or False Negatives: False Negatives are the ones which are actually fraud but the system said that they aren't.\n",
        "\n",
        "Well, we can say that Type-II Error is more significant because we don't want system to have a fraudulent credit card because that can be more dangerous.\n",
        "\n",
        "So, for Type-II Error, We can say that **recall** is the important metric."
      ],
      "metadata": {
        "id": "3Q1Z5Y5OX5IZ"
      }
    },
    {
      "cell_type": "code",
      "source": [
        "# Importing the required metrics\n",
        "from sklearn.metrics import accuracy_score, precision_score, recall_score, confusion_matrix"
      ],
      "metadata": {
        "id": "7Qv8eYvJYH5M"
      },
      "execution_count": 280,
      "outputs": []
    },
    {
      "cell_type": "markdown",
      "source": [
        "Let's first look at the confusion matrix."
      ],
      "metadata": {
        "id": "nLgq_GM4YVE9"
      }
    },
    {
      "cell_type": "code",
      "source": [
        "tn, fp, fn, tp = confusion_matrix(y_test, lr_pred_test).ravel()\n",
        "conf_matrix = pd.DataFrame(\n",
        "    {\n",
        "        'Predicted Fraud': [tp, fp],\n",
        "        'Predicted Not Fraud': [fn, tn]\n",
        "    }, index=['Fraud', 'Not Fraud'])\n",
        "conf_matrix"
      ],
      "metadata": {
        "id": "Pqazn3A9YV3z",
        "outputId": "3d053012-bec7-4d65-d8bd-967078d1c7e6",
        "colab": {
          "base_uri": "https://localhost:8080/",
          "height": 112
        }
      },
      "execution_count": 281,
      "outputs": [
        {
          "output_type": "execute_result",
          "data": {
            "text/plain": [
              "           Predicted Fraud  Predicted Not Fraud\n",
              "Fraud                   21                   31\n",
              "Not Fraud               10                22897"
            ],
            "text/html": [
              "\n",
              "  <div id=\"df-7ddb1037-b50c-4cfb-877e-321914abc93b\">\n",
              "    <div class=\"colab-df-container\">\n",
              "      <div>\n",
              "<style scoped>\n",
              "    .dataframe tbody tr th:only-of-type {\n",
              "        vertical-align: middle;\n",
              "    }\n",
              "\n",
              "    .dataframe tbody tr th {\n",
              "        vertical-align: top;\n",
              "    }\n",
              "\n",
              "    .dataframe thead th {\n",
              "        text-align: right;\n",
              "    }\n",
              "</style>\n",
              "<table border=\"1\" class=\"dataframe\">\n",
              "  <thead>\n",
              "    <tr style=\"text-align: right;\">\n",
              "      <th></th>\n",
              "      <th>Predicted Fraud</th>\n",
              "      <th>Predicted Not Fraud</th>\n",
              "    </tr>\n",
              "  </thead>\n",
              "  <tbody>\n",
              "    <tr>\n",
              "      <th>Fraud</th>\n",
              "      <td>21</td>\n",
              "      <td>31</td>\n",
              "    </tr>\n",
              "    <tr>\n",
              "      <th>Not Fraud</th>\n",
              "      <td>10</td>\n",
              "      <td>22897</td>\n",
              "    </tr>\n",
              "  </tbody>\n",
              "</table>\n",
              "</div>\n",
              "      <button class=\"colab-df-convert\" onclick=\"convertToInteractive('df-7ddb1037-b50c-4cfb-877e-321914abc93b')\"\n",
              "              title=\"Convert this dataframe to an interactive table.\"\n",
              "              style=\"display:none;\">\n",
              "        \n",
              "  <svg xmlns=\"http://www.w3.org/2000/svg\" height=\"24px\"viewBox=\"0 0 24 24\"\n",
              "       width=\"24px\">\n",
              "    <path d=\"M0 0h24v24H0V0z\" fill=\"none\"/>\n",
              "    <path d=\"M18.56 5.44l.94 2.06.94-2.06 2.06-.94-2.06-.94-.94-2.06-.94 2.06-2.06.94zm-11 1L8.5 8.5l.94-2.06 2.06-.94-2.06-.94L8.5 2.5l-.94 2.06-2.06.94zm10 10l.94 2.06.94-2.06 2.06-.94-2.06-.94-.94-2.06-.94 2.06-2.06.94z\"/><path d=\"M17.41 7.96l-1.37-1.37c-.4-.4-.92-.59-1.43-.59-.52 0-1.04.2-1.43.59L10.3 9.45l-7.72 7.72c-.78.78-.78 2.05 0 2.83L4 21.41c.39.39.9.59 1.41.59.51 0 1.02-.2 1.41-.59l7.78-7.78 2.81-2.81c.8-.78.8-2.07 0-2.86zM5.41 20L4 18.59l7.72-7.72 1.47 1.35L5.41 20z\"/>\n",
              "  </svg>\n",
              "      </button>\n",
              "      \n",
              "  <style>\n",
              "    .colab-df-container {\n",
              "      display:flex;\n",
              "      flex-wrap:wrap;\n",
              "      gap: 12px;\n",
              "    }\n",
              "\n",
              "    .colab-df-convert {\n",
              "      background-color: #E8F0FE;\n",
              "      border: none;\n",
              "      border-radius: 50%;\n",
              "      cursor: pointer;\n",
              "      display: none;\n",
              "      fill: #1967D2;\n",
              "      height: 32px;\n",
              "      padding: 0 0 0 0;\n",
              "      width: 32px;\n",
              "    }\n",
              "\n",
              "    .colab-df-convert:hover {\n",
              "      background-color: #E2EBFA;\n",
              "      box-shadow: 0px 1px 2px rgba(60, 64, 67, 0.3), 0px 1px 3px 1px rgba(60, 64, 67, 0.15);\n",
              "      fill: #174EA6;\n",
              "    }\n",
              "\n",
              "    [theme=dark] .colab-df-convert {\n",
              "      background-color: #3B4455;\n",
              "      fill: #D2E3FC;\n",
              "    }\n",
              "\n",
              "    [theme=dark] .colab-df-convert:hover {\n",
              "      background-color: #434B5C;\n",
              "      box-shadow: 0px 1px 3px 1px rgba(0, 0, 0, 0.15);\n",
              "      filter: drop-shadow(0px 1px 2px rgba(0, 0, 0, 0.3));\n",
              "      fill: #FFFFFF;\n",
              "    }\n",
              "  </style>\n",
              "\n",
              "      <script>\n",
              "        const buttonEl =\n",
              "          document.querySelector('#df-7ddb1037-b50c-4cfb-877e-321914abc93b button.colab-df-convert');\n",
              "        buttonEl.style.display =\n",
              "          google.colab.kernel.accessAllowed ? 'block' : 'none';\n",
              "\n",
              "        async function convertToInteractive(key) {\n",
              "          const element = document.querySelector('#df-7ddb1037-b50c-4cfb-877e-321914abc93b');\n",
              "          const dataTable =\n",
              "            await google.colab.kernel.invokeFunction('convertToInteractive',\n",
              "                                                     [key], {});\n",
              "          if (!dataTable) return;\n",
              "\n",
              "          const docLinkHtml = 'Like what you see? Visit the ' +\n",
              "            '<a target=\"_blank\" href=https://colab.research.google.com/notebooks/data_table.ipynb>data table notebook</a>'\n",
              "            + ' to learn more about interactive tables.';\n",
              "          element.innerHTML = '';\n",
              "          dataTable['output_type'] = 'display_data';\n",
              "          await google.colab.output.renderOutput(dataTable, element);\n",
              "          const docLink = document.createElement('div');\n",
              "          docLink.innerHTML = docLinkHtml;\n",
              "          element.appendChild(docLink);\n",
              "        }\n",
              "      </script>\n",
              "    </div>\n",
              "  </div>\n",
              "  "
            ]
          },
          "metadata": {},
          "execution_count": 281
        }
      ]
    },
    {
      "cell_type": "markdown",
      "source": [
        "Let's draw a heatmap for the above confusion matrix."
      ],
      "metadata": {
        "id": "gI_oyhH3YjcX"
      }
    },
    {
      "cell_type": "code",
      "source": [
        "sns.heatmap(conf_matrix, annot=True)"
      ],
      "metadata": {
        "id": "H7XoJVbhYd16",
        "outputId": "93226e13-692a-43a8-9ef1-017ad491d802",
        "colab": {
          "base_uri": "https://localhost:8080/",
          "height": 355
        }
      },
      "execution_count": 282,
      "outputs": [
        {
          "output_type": "execute_result",
          "data": {
            "text/plain": [
              "<matplotlib.axes._subplots.AxesSubplot at 0x7f41d2384b90>"
            ]
          },
          "metadata": {},
          "execution_count": 282
        },
        {
          "output_type": "display_data",
          "data": {
            "text/plain": [
              "<Figure size 770.4x379.44 with 2 Axes>"
            ],
            "image/png": "[encoded data removed]"
          },
          "metadata": {}
        }
      ]
    },
    {
      "cell_type": "markdown",
      "source": [
        "Heatmap also suggests that the data is highly imbalanced."
      ],
      "metadata": {
        "id": "-21jZuCFYsrT"
      }
    },
    {
      "cell_type": "code",
      "source": [
        "lr_accuracy = accuracy_score(y_test, lr_pred_test)\n",
        "lr_accuracy"
      ],
      "metadata": {
        "id": "8T4_Vl1zYulJ",
        "outputId": "148a3d27-dcf6-49bf-d242-f8f0094a414b",
        "colab": {
          "base_uri": "https://localhost:8080/"
        }
      },
      "execution_count": 283,
      "outputs": [
        {
          "output_type": "execute_result",
          "data": {
            "text/plain": [
              "0.9982142079358857"
            ]
          },
          "metadata": {},
          "execution_count": 283
        }
      ]
    },
    {
      "cell_type": "markdown",
      "source": [
        "We can see here that accuracy is great. Around **99%**.\n",
        "**BUT WAIT**\n",
        "We know that the dataset is highly unbalanced and accuracy takes into account the whole confusion matrix. So we can say that this measure is not suitable.\n",
        "\n",
        "Let's look at precision and **recall**"
      ],
      "metadata": {
        "id": "Ygk4_jc-Y6T-"
      }
    },
    {
      "cell_type": "code",
      "source": [
        "lr_precision = precision_score(y_test, lr_pred_test)\n",
        "lr_precision"
      ],
      "metadata": {
        "id": "kWswBForY_dt",
        "outputId": "c2e63fc5-9cdb-4706-89b8-7742b1746829",
        "colab": {
          "base_uri": "https://localhost:8080/"
        }
      },
      "execution_count": 284,
      "outputs": [
        {
          "output_type": "execute_result",
          "data": {
            "text/plain": [
              "0.6774193548387096"
            ]
          },
          "metadata": {},
          "execution_count": 284
        }
      ]
    },
    {
      "cell_type": "markdown",
      "source": [
        "#Recall:"
      ],
      "metadata": {
        "id": "GuHxgrxPZIeq"
      }
    },
    {
      "cell_type": "code",
      "source": [
        "lr_recall = recall_score(y_test, lr_pred_test)\n",
        "lr_recall"
      ],
      "metadata": {
        "id": "q8TGVShAZHn_",
        "outputId": "e655576a-d2da-4854-dfcf-121891b07369",
        "colab": {
          "base_uri": "https://localhost:8080/"
        }
      },
      "execution_count": 285,
      "outputs": [
        {
          "output_type": "execute_result",
          "data": {
            "text/plain": [
              "0.40384615384615385"
            ]
          },
          "metadata": {},
          "execution_count": 285
        }
      ]
    },
    {
      "cell_type": "markdown",
      "source": [
        "Recall is very low in case of logistic regression. However, we may try to increase it by increasing the complexity of the model.\n",
        "\n",
        "Although, let's check the recall for training dataset to get the idea of any overfitting we may be having."
      ],
      "metadata": {
        "id": "fLDAosAfZYop"
      }
    },
    {
      "cell_type": "code",
      "source": [
        "lr_recall_train = recall_score(y_train, lr_pred_train)\n",
        "lr_recall_train"
      ],
      "metadata": {
        "id": "TDEbkpfkZUQv",
        "outputId": "98cc8332-e63b-4e27-8638-1b7ce91fd942",
        "colab": {
          "base_uri": "https://localhost:8080/"
        }
      },
      "execution_count": 286,
      "outputs": [
        {
          "output_type": "execute_result",
          "data": {
            "text/plain": [
              "0.28431372549019607"
            ]
          },
          "metadata": {},
          "execution_count": 286
        }
      ]
    },
    {
      "cell_type": "code",
      "source": [
        "#Well, we can see that the delta is small, only around 0.10. So, we can say that the model is not overfitting"
      ],
      "metadata": {
        "id": "Sg8iOi0jZe6w"
      },
      "execution_count": 288,
      "outputs": []
    },
    {
      "cell_type": "markdown",
      "source": [
        "Let's look at the **F1-Score**. F1-Score may tell us that one of the precision or recall is very low."
      ],
      "metadata": {
        "id": "rHf0ydsMZ0Uk"
      }
    },
    {
      "cell_type": "code",
      "source": [
        "from sklearn.metrics import f1_score"
      ],
      "metadata": {
        "id": "xUhwqofJZreK"
      },
      "execution_count": 289,
      "outputs": []
    },
    {
      "cell_type": "code",
      "source": [
        "lr_f1 = f1_score(y_test, lr_pred_test)\n",
        "lr_f1"
      ],
      "metadata": {
        "id": "THj93zlQZ75Z",
        "outputId": "b9ff70c8-fa0e-4758-8842-7736570b61c3",
        "colab": {
          "base_uri": "https://localhost:8080/"
        }
      },
      "execution_count": 290,
      "outputs": [
        {
          "output_type": "execute_result",
          "data": {
            "text/plain": [
              "0.5060240963855421"
            ]
          },
          "metadata": {},
          "execution_count": 290
        }
      ]
    },
    {
      "cell_type": "code",
      "source": [
        "from sklearn.metrics import classification_report\n",
        "print(classification_report(y_test, lr_pred_test))"
      ],
      "metadata": {
        "id": "-hUE_iFJZ_nH",
        "outputId": "0af6fad5-7692-4314-94f5-fe4dccad619a",
        "colab": {
          "base_uri": "https://localhost:8080/"
        }
      },
      "execution_count": 291,
      "outputs": [
        {
          "output_type": "stream",
          "name": "stdout",
          "text": [
            "              precision    recall  f1-score   support\n",
            "\n",
            "           0       1.00      1.00      1.00     22907\n",
            "           1       0.68      0.40      0.51        52\n",
            "\n",
            "    accuracy                           1.00     22959\n",
            "   macro avg       0.84      0.70      0.75     22959\n",
            "weighted avg       1.00      1.00      1.00     22959\n",
            "\n"
          ]
        }
      ]
    },
    {
      "cell_type": "markdown",
      "source": [
        "#Oversampling technique using SMOTE\n",
        "(Synthetic Minority Oversample TEchnique)\n",
        "\n",
        "the alternative to down-sampling is the upsampling of the minority class to the same level as the dominant one.\n",
        "\n",
        "This can be achieved with the SMOTE method where a new vector is generated between 2 existing datapoints. Applying this technique allows to massively increase the number of fraudulent transactions"
      ],
      "metadata": {
        "id": "98s_ux5yarMC"
      }
    },
    {
      "cell_type": "code",
      "source": [
        "from imblearn.over_sampling import SMOTE"
      ],
      "metadata": {
        "id": "QcdsczRUaxN0"
      },
      "execution_count": 292,
      "outputs": []
    },
    {
      "cell_type": "code",
      "source": [
        "X_resample, y_resample = SMOTE().fit_resample(X,y.values.ravel())"
      ],
      "metadata": {
        "id": "ea8mjSgOa1k7"
      },
      "execution_count": 294,
      "outputs": []
    },
    {
      "cell_type": "code",
      "source": [
        "y_resample"
      ],
      "metadata": {
        "id": "tx4qVFOka5Dj",
        "outputId": "79482642-f9ac-461c-c9ef-a651efd4cee4",
        "colab": {
          "base_uri": "https://localhost:8080/"
        }
      },
      "execution_count": 295,
      "outputs": [
        {
          "output_type": "execute_result",
          "data": {
            "text/plain": [
              "array([0, 0, 0, ..., 1, 1, 1])"
            ]
          },
          "metadata": {},
          "execution_count": 295
        }
      ]
    },
    {
      "cell_type": "code",
      "source": [
        "print('Number of total transactions before SMOTE upsampling: ', len(y), '...after SMOTE upsampling: ', len(y_resample))"
      ],
      "metadata": {
        "id": "CbcQXCwDbUsa",
        "outputId": "d1ad8b37-c926-4866-e6b6-e0b28b49011d",
        "colab": {
          "base_uri": "https://localhost:8080/"
        }
      },
      "execution_count": 301,
      "outputs": [
        {
          "output_type": "stream",
          "name": "stdout",
          "text": [
            "Number of total transactions before SMOTE upsampling:  76529 ...after SMOTE upsampling:  152750\n"
          ]
        }
      ]
    },
    {
      "cell_type": "code",
      "source": [
        "y_resample = pd.DataFrame(y_resample)\n",
        "X_resample = pd.DataFrame(X_resample)"
      ],
      "metadata": {
        "id": "7b1Gz-Z5cVic"
      },
      "execution_count": 302,
      "outputs": []
    },
    {
      "cell_type": "code",
      "source": [
        "X_train, X_test, y_train, y_test = train_test_split(X_resample,y_resample,test_size=0.30,random_state=3)"
      ],
      "metadata": {
        "id": "W_UlcDoecawV"
      },
      "execution_count": 303,
      "outputs": []
    },
    {
      "cell_type": "code",
      "source": [
        "from sklearn.linear_model import LogisticRegression\n",
        "lr_model1 = LogisticRegression()"
      ],
      "metadata": {
        "id": "5h_ADkFuckk3"
      },
      "execution_count": 304,
      "outputs": []
    },
    {
      "cell_type": "code",
      "source": [
        "# Training the algorithm\n",
        "lr_model1.fit(X_train, y_train)"
      ],
      "metadata": {
        "id": "rOgrHJX_cxVF",
        "outputId": "a354190c-d765-4f80-cb20-16e08c20ab92",
        "colab": {
          "base_uri": "https://localhost:8080/"
        }
      },
      "execution_count": 305,
      "outputs": [
        {
          "output_type": "stream",
          "name": "stderr",
          "text": [
            "/usr/local/lib/python3.7/dist-packages/sklearn/utils/validation.py:993: DataConversionWarning: A column-vector y was passed when a 1d array was expected. Please change the shape of y to (n_samples, ), for example using ravel().\n",
            "  y = column_or_1d(y, warn=True)\n"
          ]
        },
        {
          "output_type": "execute_result",
          "data": {
            "text/plain": [
              "LogisticRegression()"
            ]
          },
          "metadata": {},
          "execution_count": 305
        }
      ]
    },
    {
      "cell_type": "code",
      "source": [
        "# Predictions on training and testing data\n",
        "lr_pred_train1 = lr_model1.predict(X_train)\n",
        "lr_pred_test1 = lr_model1.predict(X_test)"
      ],
      "metadata": {
        "id": "ReYvZ2EGc4s5"
      },
      "execution_count": 306,
      "outputs": []
    },
    {
      "cell_type": "code",
      "source": [
        "# Importing the required metrics\n",
        "from sklearn.metrics import accuracy_score, precision_score, recall_score, confusion_matrix\n",
        "tn, fp, fn, tp = confusion_matrix(y_test, lr_pred_test1).ravel()\n",
        "conf_matrix = pd.DataFrame(\n",
        "    {\n",
        "        'Predicted Fraud': [tp, fp],\n",
        "        'Predicted Not Fraud': [fn, tn]\n",
        "    }, index=['Fraud', 'Not Fraud'])\n",
        "conf_matrix"
      ],
      "metadata": {
        "id": "8hT379BOdDZk",
        "outputId": "e03fb956-3ae2-4183-8976-f71ffd0a3307",
        "colab": {
          "base_uri": "https://localhost:8080/",
          "height": 112
        }
      },
      "execution_count": 307,
      "outputs": [
        {
          "output_type": "execute_result",
          "data": {
            "text/plain": [
              "           Predicted Fraud  Predicted Not Fraud\n",
              "Fraud                22100                  734\n",
              "Not Fraud               90                22901"
            ],
            "text/html": [
              "\n",
              "  <div id=\"df-2a745150-a195-4454-9859-0e5ddd00d1c5\">\n",
              "    <div class=\"colab-df-container\">\n",
              "      <div>\n",
              "<style scoped>\n",
              "    .dataframe tbody tr th:only-of-type {\n",
              "        vertical-align: middle;\n",
              "    }\n",
              "\n",
              "    .dataframe tbody tr th {\n",
              "        vertical-align: top;\n",
              "    }\n",
              "\n",
              "    .dataframe thead th {\n",
              "        text-align: right;\n",
              "    }\n",
              "</style>\n",
              "<table border=\"1\" class=\"dataframe\">\n",
              "  <thead>\n",
              "    <tr style=\"text-align: right;\">\n",
              "      <th></th>\n",
              "      <th>Predicted Fraud</th>\n",
              "      <th>Predicted Not Fraud</th>\n",
              "    </tr>\n",
              "  </thead>\n",
              "  <tbody>\n",
              "    <tr>\n",
              "      <th>Fraud</th>\n",
              "      <td>22100</td>\n",
              "      <td>734</td>\n",
              "    </tr>\n",
              "    <tr>\n",
              "      <th>Not Fraud</th>\n",
              "      <td>90</td>\n",
              "      <td>22901</td>\n",
              "    </tr>\n",
              "  </tbody>\n",
              "</table>\n",
              "</div>\n",
              "      <button class=\"colab-df-convert\" onclick=\"convertToInteractive('df-2a745150-a195-4454-9859-0e5ddd00d1c5')\"\n",
              "              title=\"Convert this dataframe to an interactive table.\"\n",
              "              style=\"display:none;\">\n",
              "        \n",
              "  <svg xmlns=\"http://www.w3.org/2000/svg\" height=\"24px\"viewBox=\"0 0 24 24\"\n",
              "       width=\"24px\">\n",
              "    <path d=\"M0 0h24v24H0V0z\" fill=\"none\"/>\n",
              "    <path d=\"M18.56 5.44l.94 2.06.94-2.06 2.06-.94-2.06-.94-.94-2.06-.94 2.06-2.06.94zm-11 1L8.5 8.5l.94-2.06 2.06-.94-2.06-.94L8.5 2.5l-.94 2.06-2.06.94zm10 10l.94 2.06.94-2.06 2.06-.94-2.06-.94-.94-2.06-.94 2.06-2.06.94z\"/><path d=\"M17.41 7.96l-1.37-1.37c-.4-.4-.92-.59-1.43-.59-.52 0-1.04.2-1.43.59L10.3 9.45l-7.72 7.72c-.78.78-.78 2.05 0 2.83L4 21.41c.39.39.9.59 1.41.59.51 0 1.02-.2 1.41-.59l7.78-7.78 2.81-2.81c.8-.78.8-2.07 0-2.86zM5.41 20L4 18.59l7.72-7.72 1.47 1.35L5.41 20z\"/>\n",
              "  </svg>\n",
              "      </button>\n",
              "      \n",
              "  <style>\n",
              "    .colab-df-container {\n",
              "      display:flex;\n",
              "      flex-wrap:wrap;\n",
              "      gap: 12px;\n",
              "    }\n",
              "\n",
              "    .colab-df-convert {\n",
              "      background-color: #E8F0FE;\n",
              "      border: none;\n",
              "      border-radius: 50%;\n",
              "      cursor: pointer;\n",
              "      display: none;\n",
              "      fill: #1967D2;\n",
              "      height: 32px;\n",
              "      padding: 0 0 0 0;\n",
              "      width: 32px;\n",
              "    }\n",
              "\n",
              "    .colab-df-convert:hover {\n",
              "      background-color: #E2EBFA;\n",
              "      box-shadow: 0px 1px 2px rgba(60, 64, 67, 0.3), 0px 1px 3px 1px rgba(60, 64, 67, 0.15);\n",
              "      fill: #174EA6;\n",
              "    }\n",
              "\n",
              "    [theme=dark] .colab-df-convert {\n",
              "      background-color: #3B4455;\n",
              "      fill: #D2E3FC;\n",
              "    }\n",
              "\n",
              "    [theme=dark] .colab-df-convert:hover {\n",
              "      background-color: #434B5C;\n",
              "      box-shadow: 0px 1px 3px 1px rgba(0, 0, 0, 0.15);\n",
              "      filter: drop-shadow(0px 1px 2px rgba(0, 0, 0, 0.3));\n",
              "      fill: #FFFFFF;\n",
              "    }\n",
              "  </style>\n",
              "\n",
              "      <script>\n",
              "        const buttonEl =\n",
              "          document.querySelector('#df-2a745150-a195-4454-9859-0e5ddd00d1c5 button.colab-df-convert');\n",
              "        buttonEl.style.display =\n",
              "          google.colab.kernel.accessAllowed ? 'block' : 'none';\n",
              "\n",
              "        async function convertToInteractive(key) {\n",
              "          const element = document.querySelector('#df-2a745150-a195-4454-9859-0e5ddd00d1c5');\n",
              "          const dataTable =\n",
              "            await google.colab.kernel.invokeFunction('convertToInteractive',\n",
              "                                                     [key], {});\n",
              "          if (!dataTable) return;\n",
              "\n",
              "          const docLinkHtml = 'Like what you see? Visit the ' +\n",
              "            '<a target=\"_blank\" href=https://colab.research.google.com/notebooks/data_table.ipynb>data table notebook</a>'\n",
              "            + ' to learn more about interactive tables.';\n",
              "          element.innerHTML = '';\n",
              "          dataTable['output_type'] = 'display_data';\n",
              "          await google.colab.output.renderOutput(dataTable, element);\n",
              "          const docLink = document.createElement('div');\n",
              "          docLink.innerHTML = docLinkHtml;\n",
              "          element.appendChild(docLink);\n",
              "        }\n",
              "      </script>\n",
              "    </div>\n",
              "  </div>\n",
              "  "
            ]
          },
          "metadata": {},
          "execution_count": 307
        }
      ]
    },
    {
      "cell_type": "markdown",
      "source": [
        "Notice the absence of False Negatives. The model is able to detect all fraudulent transactions on the unseen test set."
      ],
      "metadata": {
        "id": "cUsU-GQrdujp"
      }
    },
    {
      "cell_type": "code",
      "source": [
        "lr_accuracy = accuracy_score(y_test, lr_pred_test1)\n",
        "lr_accuracy"
      ],
      "metadata": {
        "id": "WQwtM_QSde7o",
        "outputId": "77e06059-9f9d-4eca-c1e3-137d3d8b4343",
        "colab": {
          "base_uri": "https://localhost:8080/"
        }
      },
      "execution_count": 308,
      "outputs": [
        {
          "output_type": "execute_result",
          "data": {
            "text/plain": [
              "0.9820185488270594"
            ]
          },
          "metadata": {},
          "execution_count": 308
        }
      ]
    },
    {
      "cell_type": "code",
      "source": [
        "lr_recall = recall_score(y_test, lr_pred_test1)\n",
        "lr_recall"
      ],
      "metadata": {
        "id": "9k3oqPNweFSY",
        "outputId": "73e3725c-4d05-4fff-96b3-6edc0f7c3989",
        "colab": {
          "base_uri": "https://localhost:8080/"
        }
      },
      "execution_count": 309,
      "outputs": [
        {
          "output_type": "execute_result",
          "data": {
            "text/plain": [
              "0.9678549531400543"
            ]
          },
          "metadata": {},
          "execution_count": 309
        }
      ]
    },
    {
      "cell_type": "markdown",
      "source": [
        "Although, let's check the recall for training dataset to get the idea of any overfitting we may be having."
      ],
      "metadata": {
        "id": "4ym3RqTQeivk"
      }
    },
    {
      "cell_type": "code",
      "source": [
        "lr_recall_train = recall_score(y_train, lr_pred_train1)\n",
        "lr_recall_train"
      ],
      "metadata": {
        "id": "_S5Y_u23eMFr",
        "outputId": "ef9a24e9-e8d8-4960-fc10-075137e5e6d6",
        "colab": {
          "base_uri": "https://localhost:8080/"
        }
      },
      "execution_count": 310,
      "outputs": [
        {
          "output_type": "execute_result",
          "data": {
            "text/plain": [
              "0.9678190545563213"
            ]
          },
          "metadata": {},
          "execution_count": 310
        }
      ]
    },
    {
      "cell_type": "markdown",
      "source": [
        "recall for test and training set is almost similer so there is no overfiting"
      ],
      "metadata": {
        "id": "c4srrYZIeejF"
      }
    },
    {
      "cell_type": "code",
      "source": [
        "lr_f1 = f1_score(y_test, lr_pred_test1)\n",
        "lr_f1"
      ],
      "metadata": {
        "id": "ip-XYs2weWrQ",
        "outputId": "721d6620-64d6-4f18-dd78-6efc3b73bb90",
        "colab": {
          "base_uri": "https://localhost:8080/"
        }
      },
      "execution_count": 311,
      "outputs": [
        {
          "output_type": "execute_result",
          "data": {
            "text/plain": [
              "0.9816986496090974"
            ]
          },
          "metadata": {},
          "execution_count": 311
        }
      ]
    },
    {
      "cell_type": "code",
      "source": [
        "print(classification_report(y_test, lr_pred_test1))"
      ],
      "metadata": {
        "id": "NWn3Ps1be3AD",
        "outputId": "d4f69154-cdbb-4ba7-b843-6a1cb5505098",
        "colab": {
          "base_uri": "https://localhost:8080/"
        }
      },
      "execution_count": 312,
      "outputs": [
        {
          "output_type": "stream",
          "name": "stdout",
          "text": [
            "              precision    recall  f1-score   support\n",
            "\n",
            "           0       0.97      1.00      0.98     22991\n",
            "           1       1.00      0.97      0.98     22834\n",
            "\n",
            "    accuracy                           0.98     45825\n",
            "   macro avg       0.98      0.98      0.98     45825\n",
            "weighted avg       0.98      0.98      0.98     45825\n",
            "\n"
          ]
        }
      ]
    },
    {
      "cell_type": "code",
      "source": [
        "lr_pred_test_prob = lr_model.predict_proba(X_test)[:, 1]"
      ],
      "metadata": {
        "id": "I9wO4CN3f6YP"
      },
      "execution_count": 313,
      "outputs": []
    },
    {
      "cell_type": "code",
      "source": [
        "from sklearn.metrics import roc_curve, roc_auc_score\n",
        "fpr, tpr, threshold = roc_curve(y_test, lr_pred_test_prob)"
      ],
      "metadata": {
        "id": "-J589S6IgCJX"
      },
      "execution_count": 314,
      "outputs": []
    },
    {
      "cell_type": "code",
      "source": [
        "lr_auc = roc_auc_score(y_test, lr_pred_test_prob)\n",
        "lr_auc"
      ],
      "metadata": {
        "id": "HAQMGSUIgKyw",
        "outputId": "ea7d107b-24b8-4776-a3bb-12f7844ee02a",
        "colab": {
          "base_uri": "https://localhost:8080/"
        }
      },
      "execution_count": 315,
      "outputs": [
        {
          "output_type": "execute_result",
          "data": {
            "text/plain": [
              "0.9741857984978657"
            ]
          },
          "metadata": {},
          "execution_count": 315
        }
      ]
    },
    {
      "cell_type": "code",
      "source": [
        "def plot_roc_curve(fpr, tpr, label=None):\n",
        "    plt.figure(figsize=(8, 6))\n",
        "    plt.title('ROC Curve', fontsize=15)\n",
        "    plt.plot([0, 1], [0, 1], 'k--')\n",
        "    plt.plot(fpr, tpr, linewidth=2, label=label)\n",
        "    plt.xticks(np.arange(0, 1, 0.05), rotation=90)\n",
        "    plt.xlabel('False Positive Rates', fontsize=15)\n",
        "    plt.ylabel('True Positive Rates', fontsize=15)\n",
        "    plt.legend(loc='best')\n",
        "    \n",
        "    plt.show()"
      ],
      "metadata": {
        "id": "m9x4vF8EgUhl"
      },
      "execution_count": 316,
      "outputs": []
    },
    {
      "cell_type": "code",
      "source": [
        "plot_roc_curve(fpr=fpr, tpr=tpr, label=\"AUC = %.3f\" % lr_auc)"
      ],
      "metadata": {
        "id": "ocKP0JQwgbh4",
        "outputId": "fda91a22-116c-436f-f7d2-74a2e2dd5240",
        "colab": {
          "base_uri": "https://localhost:8080/",
          "height": 428
        }
      },
      "execution_count": 317,
      "outputs": [
        {
          "output_type": "display_data",
          "data": {
            "text/plain": [
              "<Figure size 576x432 with 1 Axes>"
            ],
            "image/png": "[encoded data removed]"
          },
          "metadata": {}
        }
      ]
    },
    {
      "cell_type": "markdown",
      "source": [
        "AUC is quite good. i.e. 0.974. after using over sampling method"
      ],
      "metadata": {
        "id": "4nJsJ-S_gncr"
      }
    },
    {
      "cell_type": "markdown",
      "source": [
        "#**conclusion **\n"
      ],
      "metadata": {
        "id": "YdocJhOifgyN"
      }
    },
    {
      "cell_type": "markdown",
      "source": [
        "By using SMOTE method i balanced the target attribute so that recall and F1 scores are increased. and accuracy also pretty good.so i conclude that my model is performed well on unseen data."
      ],
      "metadata": {
        "id": "6qWzrC4fhB6E"
      }
    },
    {
      "cell_type": "code",
      "source": [],
      "metadata": {
        "id": "ecfSvIf0hCgX"
      },
      "execution_count": null,
      "outputs": []
    },
    {
      "cell_type": "code",
      "source": [],
      "metadata": {
        "id": "JyJabMeBfCHJ"
      },
      "execution_count": null,
      "outputs": []
    }
  ]
}